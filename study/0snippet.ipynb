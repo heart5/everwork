{
 "cells": [
  {
   "cell_type": "code",
   "execution_count": 1,
   "metadata": {},
   "outputs": [
    {
     "name": "stderr",
     "output_type": "stream",
     "text": [
      "2018-07-22 15:06:44,030\tMainThread - 15748 , MainProcess - 3968: INFO     程序上次异常退出，调用log中的API数据[2018-07-22 14:50:28,36]\n"
     ]
    },
    {
     "name": "stderr",
     "output_type": "stream",
     "text": [
      "2018-07-22 15:06:44,039\tMainThread - 15748 , MainProcess - 3968: INFO     Evernote API调用次数：0，写入配置文件data\\everwork.ini\n"
     ]
    },
    {
     "name": "stderr",
     "output_type": "stream",
     "text": [
      "2018-07-22 15:06:44,041\tMainThread - 15748 , MainProcess - 3968: DEBUG    动用了Evernote API 0 次……\n"
     ]
    },
    {
     "name": "stdout",
     "output_type": "stream",
     "text": [
      "                asctime               levelnamemessage  counts\n648 2018-07-22 14:50:28  DEBUG: 动用了Evernote API 36 次……      36\n"
     ]
    },
    {
     "name": "stderr",
     "output_type": "stream",
     "text": [
      "2018-07-22 15:06:46,218\tMainThread - 15748 , MainProcess - 3968: DEBUG    动用了Evernote API 1 次……\n"
     ]
    },
    {
     "name": "stderr",
     "output_type": "stream",
     "text": [
      "2018-07-22 15:06:46,755\tMainThread - 15748 , MainProcess - 3968: DEBUG    动用了Evernote API 2 次……\n"
     ]
    },
    {
     "name": "stderr",
     "output_type": "stream",
     "text": [
      "2018-07-22 15:06:48,220\tMainThread - 15748 , MainProcess - 3968: DEBUG    动用了Evernote API 3 次……\n"
     ]
    },
    {
     "name": "stderr",
     "output_type": "stream",
     "text": [
      "2018-07-22 15:06:48,222\tMainThread - 15748 , MainProcess - 3968: INFO     梅富忠的工作日志本轮查询中无更新，跳过。\n"
     ]
    },
    {
     "name": "stderr",
     "output_type": "stream",
     "text": [
      "2018-07-22 15:06:48,992\tMainThread - 15748 , MainProcess - 3968: DEBUG    动用了Evernote API 4 次……\n"
     ]
    },
    {
     "name": "stderr",
     "output_type": "stream",
     "text": [
      "2018-07-22 15:06:48,996\tMainThread - 15748 , MainProcess - 3968: INFO     徐志伟的工作日志本轮查询中无更新，跳过。\n"
     ]
    },
    {
     "name": "stderr",
     "output_type": "stream",
     "text": [
      "2018-07-22 15:06:49,653\tMainThread - 15748 , MainProcess - 3968: DEBUG    动用了Evernote API 5 次……\n"
     ]
    },
    {
     "name": "stderr",
     "output_type": "stream",
     "text": [
      "2018-07-22 15:06:50,383\tMainThread - 15748 , MainProcess - 3968: DEBUG    动用了Evernote API 6 次……\n"
     ]
    },
    {
     "name": "stderr",
     "output_type": "stream",
     "text": [
      "2018-07-22 15:06:50,384\tMainThread - 15748 , MainProcess - 3968: INFO     业务主管陈益的日志有更新，版本号列表为：[490717]\n"
     ]
    },
    {
     "name": "stderr",
     "output_type": "stream",
     "text": [
      "2018-07-22 15:06:50,385\tMainThread - 15748 , MainProcess - 3968: DEBUG    动用了Evernote API 7 次……\n"
     ]
    },
    {
     "name": "stderr",
     "output_type": "stream",
     "text": [
      "2018-07-22 15:06:50,471\tMainThread - 15748 , MainProcess - 3968: INFO     陈益业务日志（版本号：490717）暂无有效新内容，条目中最新有效日期为2018-07-20 00:00:00\n"
     ]
    },
    {
     "name": "stdout",
     "output_type": "stream",
     "text": [
      "490717\t490530\t[490717]\n陈益的日志数据表中最新条目日期为2018-07-11 00:00:00\n陈益的日志更新数据表中最近有效日期为2018-07-20 00:00:00\n"
     ]
    },
    {
     "name": "stderr",
     "output_type": "stream",
     "text": [
      "2018-07-22 15:06:51,075\tMainThread - 15748 , MainProcess - 3968: DEBUG    动用了Evernote API 8 次……\n"
     ]
    },
    {
     "name": "stderr",
     "output_type": "stream",
     "text": [
      "2018-07-22 15:06:51,564\tMainThread - 15748 , MainProcess - 3968: DEBUG    动用了Evernote API 9 次……\n"
     ]
    },
    {
     "name": "stderr",
     "output_type": "stream",
     "text": [
      "2018-07-22 15:06:51,566\tMainThread - 15748 , MainProcess - 3968: INFO     业务主管周莉的日志有更新，版本号列表为：[489745]\n"
     ]
    },
    {
     "name": "stderr",
     "output_type": "stream",
     "text": [
      "2018-07-22 15:06:51,567\tMainThread - 15748 , MainProcess - 3968: DEBUG    动用了Evernote API 10 次……\n"
     ]
    },
    {
     "name": "stderr",
     "output_type": "stream",
     "text": [
      "2018-07-22 15:06:51,636\tMainThread - 15748 , MainProcess - 3968: INFO     周莉业务日志（版本号：489745）暂无有效新内容，条目中最新有效日期为2018-07-16 00:00:00\n"
     ]
    },
    {
     "name": "stderr",
     "output_type": "stream",
     "text": [
      "2018-07-22 15:06:51,637\tMainThread - 15748 , MainProcess - 3968: INFO     下列人员的日志笔记正常处置完毕：['梅富忠', '徐志伟', '陈益', '周莉']\n"
     ]
    },
    {
     "name": "stdout",
     "output_type": "stream",
     "text": [
      "489745\t489569\t[489745]\n周莉的日志数据表中最新条目日期为2018-07-02 00:00:00\n周莉的日志更新数据表中最近有效日期为2018-07-16 00:00:00\n梅富忠日志更新记录有264条\n徐志伟日志更新记录有254条\n陈益日志更新记录有133条\n周莉日志更新记录有32条\n['梅富忠', '徐志伟', '陈益', '周莉']，[False, False, False, False]\n"
     ]
    }
   ],
   "source": [
    "from workplan import planfenxi\n",
    "planfenxi(60*10)"
   ]
  },
  {
   "cell_type": "code",
   "execution_count": 1,
   "metadata": {
    "collapsed": true
   },
   "outputs": [
    {
     "name": "stdout",
     "output_type": "stream",
     "text": [
      "<class 'range'>\n[1, 3, 5, 7, 9, 11, 13, 15, 17, 19, 21, 23, 25, 27, 29]\n(2012, 12, 21)\n21\n(2012, 12, 21)\n"
     ]
    }
   ],
   "source": [
    "dd = range(1,30+1,2)\n",
    "print(type(dd))\n",
    "print(list(dd))\n",
    "\n",
    "data = [ 'ACME', 50, 91.1, (2012, 12, 21) ]\n",
    "name, age, high, birthday = data\n",
    "_,_,_,(year,month,day) = data\n",
    "*trailing,birday = data\n",
    "print(birthday)\n",
    "print(day)\n",
    "print(birday)"
   ]
  },
  {
   "cell_type": "code",
   "execution_count": 5,
   "metadata": {},
   "outputs": [
    {
     "name": "stderr",
     "output_type": "stream",
     "text": [
      "Python 3.6.1 :: Anaconda 4.4.0 (64-bit)\n"
     ]
    },
    {
     "name": "stdout",
     "output_type": "stream",
     "text": [
      "                asctime               levelnamemessage  counts\n813 2018-07-22 15:17:18  DEBUG: 动用了Evernote API 24 次……      24\nS=s37:U=3b449f:E=1676a821f3c:C=16012d0eff8:P=185:A=get-off-the-ground:V=2:H=1469bc6bfc7ac8a2f68b72c0c0335a29\n[['040509c2-a8bf-4af9-9296-3d41321889d9', '武汉真元员工假休调班记录'], ['c1b8297a-2c3a-4afc-9faf-e36484495529', '武汉真元放假调休记录']]\n"
     ]
    },
    {
     "name": "stderr",
     "output_type": "stream",
     "text": [
      "2018-07-22 15:17:20,992\tMainThread - 5284 , MainProcess - 8668: INFO     程序上次异常退出，调用log中的API数据[2018-07-22 15:17:18,24]\n2018-07-22 15:17:20,994\tMainThread - 5284 , MainProcess - 8668: DEBUG    动用了Evernote API 25 次……\n2018-07-22 15:17:23,117\tMainThread - 5284 , MainProcess - 8668: DEBUG    动用了Evernote API 26 次……\n2018-07-22 15:17:23,812\tMainThread - 5284 , MainProcess - 8668: DEBUG    动用了Evernote API 27 次……\n"
     ]
    }
   ],
   "source": [
    "!python --version\n",
    "!python study\\helloPrint.py\n"
   ]
  },
  {
   "cell_type": "code",
   "execution_count": 2,
   "metadata": {},
   "outputs": [
    {
     "name": "stdout",
     "output_type": "stream",
     "text": [
      "    c1  c2  c3  c4\na    0   1   2   3\nb    4   5   6   7\nc    8   9  10  11\nd   12  13  14  15\n汇总  24  28  32  36\n['a', 'b', 'c', 'd', '汇总']\n['a', 'b', 'c']\n['汇总']\n    c1  c2  c3  c4\n汇总  24  28  32  36\na    0   1   2   3\nb    4   5   6   7\nc    8   9  10  11\nd   12  13  14  15\n"
     ]
    }
   ],
   "source": [
    "import pandas as pd, numpy as np\n",
    "data = pd.DataFrame(np.arange(16).reshape(4,4), columns=['c1', 'c2', 'c3', 'c4'], index=['a', 'b', 'c', 'd'])\n",
    "# print(data)\n",
    "data.loc['汇总'] =data.apply(lambda x: x.sum())\n",
    "print(data)\n",
    "ixlst = list(data.index)\n",
    "print(ixlst)\n",
    "print(ixlst[:-2])\n",
    "print([ixlst[-1]])\n",
    "ixlst = [ixlst[-1]]+(ixlst[:-1])\n",
    "print(data.loc[ixlst])"
   ]
  },
  {
   "cell_type": "code",
   "execution_count": null,
   "metadata": {},
   "outputs": [],
   "source": []
  }
 ],
 "metadata": {
  "kernelspec": {
   "display_name": "Python 2",
   "language": "python",
   "name": "python2"
  },
  "language_info": {
   "codemirror_mode": {
    "name": "ipython",
    "version": 2
   },
   "file_extension": ".py",
   "mimetype": "text/x-python",
   "name": "python",
   "nbconvert_exporter": "python",
   "pygments_lexer": "ipython2",
   "version": "2.7.6"
  }
 },
 "nbformat": 4,
 "nbformat_minor": 0
}
