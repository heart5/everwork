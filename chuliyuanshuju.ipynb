{
 "cells": [
  {
   "cell_type": "code",
   "execution_count": 129,
   "metadata": {},
   "outputs": [
    {
     "name": "stdout",
     "output_type": "stream",
     "text": [
      "              日期                                                 内容\n0    2017年10月18日                                                NaN\n1           1、[   05300750000SXXD/水果大卖场（湖大对面） 13125123985/改成/水果大...\n2           2、[                02400690000SXXD/老江南超市 13397121995/新店\n3           3、[                 08400580000SXXD/烟云酒阁 15308636582/新店\n4    2017年10月17日                                                NaN\n5           1、[                   07100070000PXXD/星沙 13507142931/新店\n6           2、[             23200320060S17D/芙蓉兴盛锦琴超市 15717115042/新店\n7    2017年10月14日                                                NaN\n8           1、[           34100770100SXXD/芙蓉兴盛（世纪龙城） 13871537746/新店\n9           2、[   05100800000CXXD/徐氏炒货 18627972397/改成/山东炒货（徐氏） 1...\n10          3、[   34100180080SXXD/弘旺超市 84620091/改成/Family52弘旺超市 ...\n11          4、[   05300780000CXXD/山东炒货 15972995695/改成/山东炒货（东亭路） ...\n12          5、[   05300750000SXXD/三高水果大卖场 13125123985/改成/水果大卖场（湖...\n13          6、[   25100880000SXXD/每天惠（城市广场店） 13487073827/改成/Fami...\n14   2017年10月13日                                                NaN\n15          1、[            05300790000CXXD/山东炒货（宏祥路） 15623450073/新店\n16          2、[     01101630000SXXD/丘联宝宝便利店/改成/Family52互联网宝宝便利店/改店名\n17   2017年10月12日                                                NaN\n18          1、[           01201850000SXXD/通讯副食（综合市场） 17702722692/新店\n19   2017年10月10日                                                NaN\n20          1、[                  06101290000SXXD/爱便利 18202722759/新店\n21          2、[                 06201350000SXXD/绿野超市 13638689838/新店\n22          3、[           22101060050S17D/转森便利店（安居路） 15727069621/新店\n23    2017年10月9日                                                NaN\n24          1、[                 05100820000CXXD/欣欣副食 15671619669/新店\n25          2、[               32500840000SXXD/腾飞神怡网咖 13871162055/新店\n26          3、[                    06302080000CXXD/银丰超市 51112407/新店\n27    2017年10月8日                                                NaN\n28          1、[   23400100030SXXD/联合一百（优优便利店） 83918150/改成/Family...\n29          2、[               03300380000SXXD/宜佳便利超市 18827018238/新店\n..           ...                                                ...\n99     2017年9月7日                                                NaN\n100         1、[X             26100680100C16D/快七（取水楼） 15927528066/新店\n101    2017年9月6日                                                NaN\n102         1、[X                     08100650000SXXD/天下便利（家欣超市旁）/新店\n103         2、[X  02500600100CXXD/财大经营部 18827329568/改成/精准扶贫援建经营部...\n104    2017年9月4日                                                NaN\n105         1、[X                   06302060000SXXD/汉琴副食 87812252/新店\n106         2、[X  12200730000SXXD/芙蓉兴盛（徐记） 15926246926/改成/转森便利店（...\n107         3、[X  05200790000SXXD/烟酒副食（友谊大道）/改成/烟酒副食（谢先生酒店） 1372...\n108         4、[X  06301830030SXXD/可多（三鸿领城）13720121058/改成/可多（三鸿领城...\n109         5、[X  05200850000SXXD/忠诚公寓超市/改成/忠诚公寓超市 13871218728/改...\n110    2017年9月1日                                                NaN\n111         1、[X  07101080000SXXD/华茂超市（江盛路）/改成/华茂超市 18942925728/改店名\n112         2、[X  07101080000SXXD/华茂超市 18942925728/改成/0710108008...\n113         3、[X               05200960000SXXD/弘福便利店 13774072989/新店\n114   2017年8月31日                                                NaN\n115         1、[X                 07100060000PXXD/七里香 15927438188/新店\n116         2、[X            26200670070SXXD/快七（楚天星座） 18627701716/新店\n117   2017年8月30日                                                NaN\n118         1、[X  08201550100SXXD/美域平价超市 13554288843/改成/宏晟烟酒超市 1...\n119         2、[X           01101690000SXXD/博源副食（虎泉街） 15171509566/新店\n120   2017年8月29日                                                NaN\n121         1、[X  05200030030SXXA/汉飞烟酒 86730475/改成/雅堂小超（汉飞烟酒） 86...\n122         2、[X  08200050040BXXD/璞园平价 87102861/改成/爱便利（原璞园平价） 87...\n123   2017年8月28日                                                NaN\n124         1、[X  22100240000SXXD/芙蓉兴盛（易佰） 18969882061/改成/芙蓉兴盛（易...\n125         2、[X           10100820080CXXD/烟酒超市（黄家湖） 15021070883/新店\n126   2017年8月22日                                                NaN\n127         1、[X               10201020080S17D/轩之语超市 15549465906/新店\n128         2、[X            05200950000SXXD/莎莎烟酒喜糖批发 13554190398/新店\n\n[129 rows x 2 columns]\n              日期   内容\n0    2017年10月18日  NaN\n4    2017年10月17日  NaN\n7    2017年10月14日  NaN\n14   2017年10月13日  NaN\n17   2017年10月12日  NaN\n19   2017年10月10日  NaN\n23    2017年10月9日  NaN\n27    2017年10月8日  NaN\n30    2017年10月7日  NaN\n33    2017年10月6日  NaN\n36    2017年9月30日  NaN\n39    2017年9月29日  NaN\n42    2017年9月28日  NaN\n46    2017年9月27日  NaN\n48    2017年9月26日  NaN\n50    2017年9月25日  NaN\n52    2017年9月23日  NaN\n55    2017年9月22日  NaN\n58    2017年9月21日  NaN\n60    2017年9月20日  NaN\n67    2017年9月19日  NaN\n70    2017年9月18日  NaN\n73    2017年9月16日  NaN\n77    2017年9月15日  NaN\n80    2017年9月14日  NaN\n85    2017年9月12日  NaN\n87    2017年9月12日  NaN\n90    2017年9月11日  NaN\n92     2017年9月9日  NaN\n95     2017年9月8日  NaN\n99     2017年9月7日  NaN\n101    2017年9月6日  NaN\n104    2017年9月4日  NaN\n110    2017年9月1日  NaN\n114   2017年8月31日  NaN\n117   2017年8月30日  NaN\n120   2017年8月29日  NaN\n123   2017年8月28日  NaN\n126   2017年8月22日  NaN\n日期    object\n内容    object\nn1    object\nn2    object\nn3    object\ndtype: object\nIndex(['日期', '内容', 'n1', 'n2', 'n3'], dtype='object')\n                               n2               n1         n3\n0               轩之语超市 15549465906  10201020080S17D         新店\n1            莎莎烟酒喜糖批发 13554190398  05200950000SXXD         新店\n2               芙蓉兴盛（易佰） 81607170  22100240000SXXD  改店名（更改号码）\n3           烟酒超市（黄家湖） 15021070883  10100820080CXXD         新店\n4             雅堂小超（汉飞烟酒） 86730475  05200030030SXXA        改店名\n5             爱便利（原璞园平价） 87102861  08200050040BXXD        改店名\n6              宏晟烟酒超市 13554288843  08201550100SXXD        改店名\n7           博源副食（虎泉街） 15171509566  01101690000SXXD         新店\n8                 七里香 15927438188  07100060000PXXD         新店\n9            快七（楚天星座） 18627701716  26200670070SXXD         新店\n10               华茂超市 18942925728  07101080000SXXD        改店名\n11                07101080080SXXD  07101080000SXXD        改编码\n12              弘福便利店 13774072989  05200960000SXXD         新店\n13                  汉琴副食 87812252  06302060000SXXD         新店\n14     转森便利店（原芙蓉兴盛徐记） 15926246926  12200730000SXXD        改店名\n15        烟酒副食（谢先生酒店） 13720235268  05200790000SXXD        改店名\n16           可多（三鸿领城） 13387587366  06301830030SXXD   改店名（改号码）\n17             忠诚公寓超市 13871218728  05200850000SXXD  改店名（新增号码）\n18                    天下便利（家欣超市旁）  08100650000SXXD         新店\n19  精准扶贫援建经营部（原财大经营部） 18827329568  02500600100CXXD        改店名\n20            快七（取水楼） 15927528066  26100680100C16D         新店\n21                 太彩 15071184852  02500160000PXXD         新店\n22                      美汀超市（玫瑰湾）  08301230000CXXD         新店\n23     4栋2单元101（北辰优十） 15527220678  02400680000SXXD         新店\n24            联合一百烽火店 15926416133  07100200120SXXD   改店名（改号码）\n25               妙缘糖果 13618640705  06101270000SXXD         新店\n26         爱家便利店（路景苑） 18062058129  02101550070SXXD         新店\n27        亿佳购新校区自动售货机 18271139588  10100700000AXXC   改店名（改号码）\n28        好佳便利店（雅苑公寓） 15827251947  23200310080S16D         新店\n29                洽禾素食茶馆 65020405  05200720000SXXD  改店名（新增号码）\n..                            ...              ...        ...\n63                           金鑫批发  06300090000PXXD         新店\n64     芙蓉兴盛（招商公园1872） 13554542744  34100760100SXXD         新店\n65          芙蓉兴盛爱玲副食店 18627776138  25100970050S17D         新店\n66          山东炒货（胭脂路） 13129901115  06101280000SXXD         新店\n67     Family52（原每一天生活家） 88854919  08100360080SXXD        改店名\n68         芙蓉兴盛（启富副食） 15827119184  25201100050S17D  改店名（更改号码）\n69         好乐购（原慕臣八一） 13476223737  01201670000SXXD        改店名\n70           彬果超市 13886111011（停用）  02600280030SXXD        改店名\n71         Family52毅凡便利店 83918150  23400100030SXXD        改店名\n72             宜佳便利超市 18827018238  03300380000SXXD         新店\n73               欣欣副食 15671619669  05100820000CXXD         新店\n74             腾飞神怡网咖 13871162055  32500840000SXXD         新店\n75                  银丰超市 51112407  06302080000CXXD         新店\n76                爱便利 18202722759  06101290000SXXD         新店\n77               绿野超市 13638689838  06201350000SXXD         新店\n78         转森便利店（安居路） 15727069621  22101060050S17D         新店\n79         通讯副食（综合市场） 17702722692  01201850000SXXD         新店\n80          山东炒货（宏祥路） 15623450073  05300790000CXXD         新店\n81               Family52互联网宝宝便利店  01101630000SXXD        改店名\n82         芙蓉兴盛（世纪龙城） 13871537746  34100770100SXXD         新店\n83           山东炒货（徐氏） 18627972397  05100800000CXXD        改店名\n84          Family52弘旺超市 84620091  34100180080SXXD        改店名\n85          山东炒货（东亭路） 15972995695  05300780000CXXD        改店名\n86        水果大卖场（湖大对面） 13125123985  05300750000SXXD        改店名\n87      Family52智慧便利店 13487073827  25100880000SXXD        改店名\n88                 星沙 13507142931  07100070000PXXD         新店\n89           芙蓉兴盛锦琴超市 15717115042  23200320060S17D         新店\n90        水果大卖场（湖大对面） 13037199211  05300750000SXXD   改店名（改号码）\n91              老江南超市 13397121995  02400690000SXXD         新店\n92               烟云酒阁 15308636582  08400580000SXXD         新店\n\n[93 rows x 3 columns]\n"
     ]
    },
    {
     "name": "stderr",
     "output_type": "stream",
     "text": [
      "D:\\anaconda3\\lib\\site-packages\\ipykernel_launcher.py:10: SettingWithCopyWarning: \nA value is trying to be set on a copy of a slice from a DataFrame.\nTry using .loc[row_indexer,col_indexer] = value instead\n\nSee the caveats in the documentation: http://pandas.pydata.org/pandas-docs/stable/indexing.html#indexing-view-versus-copy\n  # Remove the CWD from sys.path while we load stuff.\n"
     ]
    }
   ],
   "source": [
    "# 处理客户档案维护记录，规整后进入customer数据表\n",
    "\n",
    "from imp4nb import *\n",
    "\n",
    "df = pd.read_csv('data\\\\kehudanganweihu.txt',sep=']',header=None,names=['日期','内容'],na_filter=True,skip_blank_lines=True,skipinitialspace=True)\n",
    "print(df)\n",
    "dfriqi = df[df['内容'].isnull().values == True]\n",
    "print(dfriqi)\n",
    "# print(dfriqi.index.values)\n",
    "dfriqi['原始索引'] = dfriqi.index\n",
    "dfriqi.index = range(len(dfriqi))\n",
    "# print(list(dfriqi['原始索引']))\n",
    "\n",
    "dfout = df\n",
    "for i in range(len(dfriqi)):\n",
    "    dfout.loc[dfriqi['原始索引'][i]:,['日期']]= dfriqi['日期'][i]\n",
    "    \n",
    "dfout = dfout[df['内容'].isnull().values == False]\n",
    "# print(dfout.dtypes)\n",
    "# print(dfout.columns)\n",
    "# print(dfout)\n",
    "\n",
    "dfriqisort = dfriqi.sort_index(ascending=False)\n",
    "dfriqisort.index = range(len(dfriqisort))\n",
    "# print(dfriqisort)\n",
    "\n",
    "dfoutsort = pd.DataFrame()\n",
    "for i in range(len(dfriqisort)):\n",
    "    items = dfout[dfout.日期 == dfriqisort['日期'][i]]\n",
    "    dfoutsort = dfoutsort.append(items)\n",
    "    \n",
    "dfoutsort.index= range(len(dfoutsort))\n",
    "# print(dfoutsort.dtypes)\n",
    "# print(dfoutsort.columns)\n",
    "# print(dfoutsort)\n",
    "# print((dfoutsort['内容'])[15])\n",
    "# neirong = (dfoutsort['内容'])[15]\n",
    "# ls = neirong.split('/')\n",
    "# print(ls)\n",
    "\n",
    "dfoutsort['n1']=''\n",
    "dfoutsort['n2']=''\n",
    "dfoutsort['n3']=''\n",
    "for i in range(len(dfoutsort)):\n",
    "    # print((dfoutsort['内容'])[i])\n",
    "    nrsp = ((dfoutsort['内容'])[i]).split('/')\n",
    "    # print(nrsp)\n",
    "    if len(nrsp) == 3:\n",
    "        dfoutsort.loc[i,['n1','n2','n3']] = nrsp\n",
    "    elif len(nrsp) == 5:\n",
    "        dfoutsort.loc[i,['n1','n2','n3']] = [nrsp[0],nrsp[3],nrsp[4]]\n",
    "\n",
    "print(dfoutsort.dtypes)\n",
    "print(dfoutsort.columns)\n",
    "# print(dfoutsort[['n1','n2','n3']])\n",
    "dfzh = dfoutsort[['n2','n1','n3']]\n",
    "print(dfzh)\n",
    "writer = pd.ExcelWriter('data\\\\结果输出.xlsx')\n",
    "dfzh.to_excel(writer,sheet_name='档案整理')\n",
    "\n",
    "writer.close()"
   ]
  },
  {
   "cell_type": "code",
   "execution_count": 16,
   "metadata": {},
   "outputs": [],
   "source": []
  },
  {
   "cell_type": "code",
   "execution_count": 130,
   "metadata": {},
   "outputs": [
    {
     "name": "stdout",
     "output_type": "stream",
     "text": [
      "Empty DataFrame\nColumns: [商品全名, index, 商品全名, 条码, 分析编码, 品牌分类, 品牌名称, 重点品项, 推广等级, 单价]\nIndex: []\n"
     ]
    },
    {
     "name": "stdout",
     "output_type": "stream",
     "text": [
      "0\nEmpty DataFrame\nColumns: [index, 往来单位, 往来单位编号, 地址]\nIndex: []\n"
     ]
    }
   ],
   "source": [
    "# 数据验证周全性\n",
    "\n",
    "from imp4nb import *\n",
    "\n",
    "cnx = lite.connect('data\\\\quandan.db')\n",
    "df = pd.read_sql_query('select xiaoshoumingxi.商品全名,product.* from xiaoshoumingxi left outer join product on '\n",
    "                       'xiaoshoumingxi.商品全名 = product.商品全名 where product.商品全名 is null',cnx)\n",
    "df.describe()\n",
    "print(df)\n",
    "\n",
    "df = pd.read_sql_query('select xiaoshoumingxi.单位全名,customer.* from xiaoshoumingxi left outer join customer on '\n",
    "                       'xiaoshoumingxi.单位全名 = customer.往来单位 where customer.往来单位 is null',cnx)\n",
    "df.describe()\n",
    "df = df.groupby('单位全名').sum()\n",
    "print(len(df))\n",
    "print(df)"
   ]
  },
  {
   "cell_type": "code",
   "execution_count": 9,
   "metadata": {
    "collapsed": false
   },
   "outputs": [
    {
     "name": "stdout",
     "output_type": "stream",
     "text": [
      "<class 'pandas.core.frame.DataFrame'>\n"
     ]
    },
    {
     "data": {
      "text/html": [
       "<div>\n",
       "<style>\n",
       "    .dataframe thead tr:only-child th {\n",
       "        text-align: right;\n",
       "    }\n",
       "\n",
       "    .dataframe thead th {\n",
       "        text-align: left;\n",
       "    }\n",
       "\n",
       "    .dataframe tbody tr th {\n",
       "        vertical-align: top;\n",
       "    }\n",
       "</style>\n",
       "<table border=\"1\" class=\"dataframe\">\n",
       "  <thead>\n",
       "    <tr style=\"text-align: right;\">\n",
       "      <th></th>\n",
       "      <th>金额</th>\n",
       "    </tr>\n",
       "    <tr>\n",
       "      <th>品牌</th>\n",
       "      <th></th>\n",
       "    </tr>\n",
       "  </thead>\n",
       "  <tbody>\n",
       "    <tr>\n",
       "      <th>创食人</th>\n",
       "      <td>2.696152e+07</td>\n",
       "    </tr>\n",
       "    <tr>\n",
       "      <th>劲仔</th>\n",
       "      <td>1.061788e+07</td>\n",
       "    </tr>\n",
       "    <tr>\n",
       "      <th>渔米之湘</th>\n",
       "      <td>2.906594e+06</td>\n",
       "    </tr>\n",
       "    <tr>\n",
       "      <th>醉吃香</th>\n",
       "      <td>2.359339e+06</td>\n",
       "    </tr>\n",
       "    <tr>\n",
       "      <th>新丰园</th>\n",
       "      <td>1.213056e+06</td>\n",
       "    </tr>\n",
       "    <tr>\n",
       "      <th>抓鱼的猫</th>\n",
       "      <td>1.060037e+06</td>\n",
       "    </tr>\n",
       "    <tr>\n",
       "      <th>卫龙</th>\n",
       "      <td>9.972528e+05</td>\n",
       "    </tr>\n",
       "    <tr>\n",
       "      <th>旭东</th>\n",
       "      <td>7.089759e+05</td>\n",
       "    </tr>\n",
       "    <tr>\n",
       "      <th>有友</th>\n",
       "      <td>6.812354e+05</td>\n",
       "    </tr>\n",
       "    <tr>\n",
       "      <th>咚咚</th>\n",
       "      <td>6.721130e+05</td>\n",
       "    </tr>\n",
       "  </tbody>\n",
       "</table>\n",
       "</div>"
      ],
      "text/plain": [
       "<div>\n",
       "<style>\n",
       "    .dataframe thead tr:only-child th {\n",
       "        text-align: right;\n",
       "    }\n",
       "\n",
       "    .dataframe thead th {\n",
       "        text-align: left;\n",
       "    }\n",
       "\n",
       "    .dataframe tbody tr th {\n",
       "        vertical-align: top;\n",
       "    }\n",
       "</style>\n",
       "<table border=\"1\" class=\"dataframe\">\n",
       "  <thead>\n",
       "    <tr style=\"text-align: right;\">\n",
       "      <th></th>\n",
       "      <th>金额</th>\n",
       "    </tr>\n",
       "    <tr>\n",
       "      <th>品牌</th>\n",
       "      <th></th>\n",
       "    </tr>\n",
       "  </thead>\n",
       "  <tbody>\n",
       "    <tr>\n",
       "      <th>创食人</th>\n",
       "      <td>2.696152e+07</td>\n",
       "    </tr>\n",
       "    <tr>\n",
       "      <th>劲仔</th>\n",
       "      <td>1.061788e+07</td>\n",
       "    </tr>\n",
       "    <tr>\n",
       "      <th>渔米之湘</th>\n",
       "      <td>2.906594e+06</td>\n",
       "    </tr>\n",
       "    <tr>\n",
       "      <th>醉吃香</th>\n",
       "      <td>2.359339e+06</td>\n",
       "    </tr>\n",
       "    <tr>\n",
       "      <th>新丰园</th>\n",
       "      <td>1.213056e+06</td>\n",
       "    </tr>\n",
       "    <tr>\n",
       "      <th>抓鱼的猫</th>\n",
       "      <td>1.060037e+06</td>\n",
       "    </tr>\n",
       "    <tr>\n",
       "      <th>卫龙</th>\n",
       "      <td>9.972528e+05</td>\n",
       "    </tr>\n",
       "    <tr>\n",
       "      <th>旭东</th>\n",
       "      <td>7.089759e+05</td>\n",
       "    </tr>\n",
       "    <tr>\n",
       "      <th>有友</th>\n",
       "      <td>6.812354e+05</td>\n",
       "    </tr>\n",
       "    <tr>\n",
       "      <th>咚咚</th>\n",
       "      <td>6.721130e+05</td>\n",
       "    </tr>\n",
       "  </tbody>\n",
       "</table>\n",
       "</div>"
      ]
     },
     "execution_count": 9,
     "metadata": {},
     "output_type": "execute_result"
    }
   ],
   "source": [
    "# 统计品牌销售\n",
    "from imp4nb import *\n",
    "\n",
    "cnx = lite.connect('data\\\\quandan.db')\n",
    "df = pd.read_sql_query(\n",
    "                    \"select 日期,xiaoshoumingxi.单位全名 as 客户名称,customer.往来单位编号 as 编号,金额,substr(customer.往来单位编号,1,2) as 区域 ,\"\n",
    "                    \"substr(customer.往来单位编号,12,1) as 类型,product.品牌名称  as 品牌 from xiaoshoumingxi,\"\n",
    "                    \"customer,product where (customer.往来单位 = xiaoshoumingxi.单位全名) \"\n",
    "                    \"and (product.商品全名 = xiaoshoumingxi.商品全名)\" , cnx)\n",
    "# df.index = df['日期']\n",
    "# df = df[df.区域.isin(('33','34'))]\n",
    "df = df.groupby('品牌').sum()\n",
    "df = df.sort_values('金额',ascending=False)\n",
    "print(type(df))\n",
    "df.head(10)"
   ]
  },
  {
   "cell_type": "code",
   "execution_count": 131,
   "metadata": {
    "collapsed": false
   },
   "outputs": [
    {
     "name": "stdout",
     "output_type": "stream",
     "text": [
      "日期      object\n销售额    float64\ndtype: object\nIndex(['日期', '销售额'], dtype='object')\nfloat64\n<class 'pandas.core.series.Series'>\n"
     ]
    },
    {
     "data": {
      "image/png": "[encoded data removed]",
      "text/plain": [
       "<matplotlib.figure.Figure at 0x11a9e3dc080>"
      ]
     },
     "metadata": {},
     "output_type": "display_data"
    },
    {
     "data": {
      "image/png": "[encoded data removed]",
      "text/plain": [
       "<matplotlib.figure.Figure at 0x11a9e3dc518>"
      ]
     },
     "metadata": {},
     "output_type": "display_data"
    }
   ],
   "source": [
    "# \n",
    "\n",
    "from imp4nb import *\n",
    "\n",
    "# plot中显示中文\n",
    "mpl.rcParams['font.sans-serif'] = ['SimHei']\n",
    "mpl.rcParams['axes.unicode_minus'] = False\n",
    "\n",
    "conn = lite.connect('data\\\\quandan.db')\n",
    "cursor = conn.cursor()\n",
    "# df = pd.read_sql('select max(日期) as 日期 from xiaoshoumingxi',conn)\n",
    "# print(df)\n",
    "df = pd.read_sql('select 日期,sum(金额) as 销售额 from xiaoshoumingxi group by 日期', conn)\n",
    "df = df[df.日期 > '2017-01-01']\n",
    "df.index = pd.to_datetime(df['日期'])\n",
    "print(df.dtypes)\n",
    "print(df.columns)\n",
    "ds = df['销售额']\n",
    "print(ds.dtypes)\n",
    "print(type(ds))\n",
    "# print(ds)\n",
    "ds.plot()\n",
    "df = df.resample('M').sum()\n",
    "df.plot()\n",
    "plt.show()\n",
    "plt.close()\n",
    "\n",
    "conn.close()"
   ]
  },
  {
   "cell_type": "code",
   "execution_count": 5,
   "metadata": {},
   "outputs": [
    {
     "name": "stdout",
     "output_type": "stream",
     "text": [
      "                           客户名称                          地址\n284      慕臣（纽宾凯国际社区）13971374088                        None\n345           美福达超市 15871760236            汉阳大道罗七路代李湾尚鼎轩酒店旁\n493           筱玫瑰超市 13797095504        玫瑰街和金龙路十字向东（520酒店旁边）\n279      可多（十里新城后门） 15972924390                    中大十里新城后门\n476           花园湾服饰 13207125718                  汉阳大道花园湾59号\n33      芙蓉兴盛汇福园（原旺达副食） 84641653                        None\n90                永昌副食 84510421                 鹦鹉大道洲头五路交汇处\n42             副食商店 15971420704                       正虹饲料旁\n41             迎春超市 15727036855           新天大道军工社区零二小区491附2\n400         江汉苑美林超市 15202711815              汉阳琴台大道永丰街江汉苑小区\n145                  阿里之门（邓甲菜场）                    菜场邓甲生鲜市场\n149          可多超市（建港店） 51478081                      倒口南村巷内\n220               家仁超市 84464616                 汉阳芳草路世纪龙城小区\n344     佳家宜超市（楚才小学） 17786474385                        None\n377        可多（铁桥广场） 13477032599                        None\n436       平价超市（小网吧） 15007176828                   玫瑰街财税学校后门\n406              益昌超市  84621207                汉阳大屋机场制衣厂斜对面\n269            天富（十升路） 84830838                  十升路龙阳雅苑北门口\n101              爱心小百货 84522245                   鹦鹉大道485附5\n143              鑫嘉旺超市 84587775                        None\n235      乐家超市（世纪龙城） 18986137563              汉阳芳草路世纪龙城小区10栋\n125         爱家超市连锁店 18503969093          鹦鹉大道建港路芙蓉兴盛丁佳怡前50米\n349             罗七副食商店 84885034                罗七路金龙花园阿宝养车旁\n453               浩浩超市 84451695             汉阳大道磨山集团山北湾323号\n29             铭海超市 15527512378            拦江路江滩显正街巷内100米左右\n421        烟酒副食（磨山） 13871360397                 汉阳大道磨山集团入口处\n261            源兴超市 13367274800                        None\n201        芙蓉兴盛婷婷超市 13554475604                        None\n295               康达超市 84642457                  汉阳百灵路琴断口社区\n329               百灵超市 84646576               汉阳大道百灵路（消防对面）\n..                          ...                         ...\n185      芙蓉兴盛（继敏副食棋牌店） 84620701                江堤中路汉博佳园小区门口\n369       友邻超市（南国）  15717181082        龙珠路南国明珠小区门口（福瑞前行50米）\n281            享尚网咖 15071448227                    龙珠路龙阳御园旁\n157               武汉楚康 84531138          龟北路转汉南路109国棉社区服务中心\n189            大东超市 15623255686            江堤中路三里坡路涵鹏超市前50米\n74   芙蓉兴盛新城超市（邓甲新城） 13986074576             动物园路动物园口邓甲新城小区内\n211             蔡老板 18971086182          汉阳琴台大道樊湾204号快到近三环线\n28             炎炎副食 13476857326           汉阳大道汉阳公园（五医院路口对面）\n102          建新副食批发 13037182183                   鹦鹉大道353附1\n78         芙蓉兴盛（鑫星） 13036113675        汉阳大道车站横街（归元寺7天酒店斜对面）\n372      便邻便利店（金龙琴台分店） 84663770         罗七路琴台馨都小区门口（铃木汽车对面）\n130            荔荔平价 15308653397                  鹦鹉大道自立一句路口\n186            丽景烟酒 15387108487                江提中路新城丽景小区门口\n187     联合一百江博购物中心 18627809323.          江提中路太山市场糖果网络会所前20米\n380              宜美佳超市 86495398      玫瑰街昌家湾公交站旁（赫山路和知音东路之间）\n23              威龙副食批发 84593120                  汉阳大道朝阳路16号\n384             金美女 13971056698                        None\n51             一家超市 18627870907                   拦江路迎江华庭小区\n25                利民副食 84775200                  鹦鹉大道翠微路64号\n229       第一佳（二十三中） 15327195793                  芳草路二十三中第一家\n425             金源平价超市 84641017                  汉桥路院子湾190号\n124            思刚副食品超市 84958048                 马鹦路江腾苑a—61号\n336         全家福超市（十里铺） 84863067                  汉阳大道十里铺64号\n108                        江城锅炉           鹦鹉大道新五里江城锅炉对面厂大门内\n479            明恩超市 13554005025              汉阳大道永安堂小学背后84号\n224               可乐超市 84528365                    芳草一路新华四村\n38                启正超市 84840649                   省第一厨师学校门口\n494     筱玫瑰超市（玫西社区） 13071259829                      玫西社区门口\n120         芙蓉兴盛瑞宇副食  84641692*                   汉阳区建筑管理站旁\n240          响响超市 13517196673 *  芳草路四新北路中间（美亿佳超市往芳草路方向80米处）\n\n[200 rows x 2 columns]\n"
     ]
    }
   ],
   "source": [
    "# 叁拾叁区、叁拾肆区，随机200家客户\n",
    "import pandas as pd, sqlite3 as lite, matplotlib.pyplot as plt, numpy as np,calendar\n",
    "import random as rd\n",
    "from pylab import *\n",
    "from tempfile import NamedTemporaryFile\n",
    "\n",
    "cnx = lite.connect('data\\\\quandan.db')\n",
    "# df = pd.read_sql_query(\n",
    "#                     \"select 日期,xiaoshoumingxi.单位全名 as 客户名称,customer.往来单位编号 as 编号,金额,substr(customer.往来单位编号,1,2) as 区域 ,\"\n",
    "#                     \"substr(customer.往来单位编号,12,1) as 类型,product.品牌名称  as 品牌 from xiaoshoumingxi,\"\n",
    "#                     \"customer,product where (customer.往来单位 = xiaoshoumingxi.单位全名) \"\n",
    "#                     \"and (product.商品全名 = xiaoshoumingxi.商品全名)\" , cnx)\n",
    "df = pd.read_sql_query(\n",
    "                    \"select xiaoshoumingxi.单位全名 as 客户名称,customer.往来单位编号 as 编号,customer.地址 as 地址,sum(金额) as 销售额,substr(customer.往来单位编号,1,2) as 区域 from xiaoshoumingxi,\"\n",
    "                    \"customer,product where (customer.往来单位 = xiaoshoumingxi.单位全名) \"\n",
    "                    \"and (product.商品全名 = xiaoshoumingxi.商品全名) group by 编号 order by 编号\" , cnx)\n",
    "# df.index = df['日期']\n",
    "df = df[df.区域.isin(('33','34'))]\n",
    "df.index = range(len(df))\n",
    "ls = range(500)\n",
    "randomls = rd.sample(ls,200)\n",
    "df = df.loc[randomls,['客户名称','地址']]\n",
    "\n",
    "df.to_excel('data\\\\结果输出.xlsx',sheet_name='汉阳客户清单')  \n",
    "\n",
    "print(df)"
   ]
  },
  {
   "cell_type": "code",
   "execution_count": null,
   "metadata": {},
   "outputs": [],
   "source": []
  },
  {
   "cell_type": "code",
   "execution_count": 38,
   "metadata": {},
   "outputs": [
    {
     "name": "stdout",
     "output_type": "stream",
     "text": [
      "      日期 单据编号        数量         金额\n行号                                \n1    NaT  梅富忠       NaN        NaN\n915  NaT   小计   16183.0   20798.46\n916  NaT  NaN       NaN        NaN\n917  NaT  耿华忠       NaN        NaN\n1125 NaT   小计   85318.0   64627.87\n1126 NaT  NaN       NaN        NaN\n1127 NaT  徐志伟       NaN        NaN\n1711 NaT   小计   11361.0   14019.75\n1712 NaT  NaN       NaN        NaN\n1713 NaT   陈威       NaN        NaN\n2533 NaT   小计   20525.0   22646.79\n2534 NaT  NaN       NaN        NaN\n2535 NaT   周莉       NaN        NaN\n2705 NaT   小计    5993.0    7083.00\n2706 NaT  NaN       NaN        NaN\n2707 NaT  王家龙       NaN        NaN\n3009 NaT   小计    7822.0   10891.05\n3010 NaT  NaN       NaN        NaN\n3011 NaT  胡明景       NaN        NaN\n3581 NaT   小计   15393.2   16012.71\n3582 NaT  NaN       NaN        NaN\n3583 NaT  朱经伦       NaN        NaN\n3896 NaT   小计    8306.0   10254.30\n3897 NaT  NaN       NaN        NaN\n3898 NaT   合计  170901.2  166333.93\n[1, 915, 916, 917, 1125, 1126, 1127, 1711, 1712, 1713, 2533, 2534, 2535, 2705, 2706, 2707, 3009, 3010, 3011, 3581, 3582, 3583, 3896, 3897, 3898]\n"
     ]
    }
   ],
   "source": [
    "# 整理并导入原始数据\n",
    "import pandas as pd, sqlite3 as lite, numpy as np\n",
    "\n",
    "# 2017.8.29-2017.9.30职员销售明细表.xls\n",
    "# 2017.10.1-2017.10.10职员销售明细表.xls\n",
    "df = pd.read_excel('data\\\\2017.10.1-2017.10.10职员销售明细表.xls.xls',sheetname='2017.10.1-2017.10.10职员销售明细表.xls',index_col=0)\n",
    "# print(df.columns)\n",
    "# print(df.dtypes)\n",
    "df['职员名称'] = None\n",
    "df=df.loc[:,['日期','单据编号','单据类型','职员名称','摘要','备注','商品备注','商品编号','商品全名',\n",
    "             '单价','单位','数量','金额','单位全名','仓库全名','部门全名']]\n",
    "df['日期'] = pd.to_datetime(df['日期'])\n",
    "df['备注'] = df['备注'].astype(object)\n",
    "# print(df.columns)\n",
    "# print(df.dtypes)\n",
    "# print(len(df))\n",
    "dfdel = df[(df.单位全名.isnull().values==True) & ((df.单据编号.isnull().values == True) |  (df.单据编号 =='小计') |  (df.单据编号 =='合计'))]\n",
    "hangdel = list(dfdel.index)\n",
    "# print(hangdel)\n",
    "# print(dfdel)\n",
    "df1 = df.drop(hangdel)\n",
    "# print(df1.columns)\n",
    "# print(len(df1))\n",
    "# print(df1)\n",
    "dfzhiyuan = df1[df1.单位全名.isnull().values == True]\n",
    "# print(len(dfzhiyuan))\n",
    "# print(dfzhiyuan)\n",
    "zyhang = list(dfzhiyuan.index)\n",
    "zyming = list(dfzhiyuan['单据编号'])\n",
    "# print(zyhang)\n",
    "# print(zyming)\n",
    "for i in range(len(zyhang)):\n",
    "    df.loc[zyhang[i]:,'职员名称'] = zyming[i]\n",
    "    \n",
    "dfdel = df[df.单位全名.isnull().values==True]\n",
    "print(dfdel[['日期','单据编号','数量','金额']])\n",
    "hangdel = list(dfdel.index)\n",
    "print(hangdel)\n",
    "df2 = df.drop(hangdel)\n",
    "# print(df2.dtypes)\n",
    "# print(df2.columns)\n",
    "# print(len(df2))\n",
    "# print(df2)\n",
    "df2.index = range(len(df2))\n",
    "# del df[行号]\n",
    "# print((df2[df2.商品备注.isnull().values == False])[['日期','职员名称','单位全名','金额','单据编号','摘要','商品备注']])\n",
    "# print((df2[df2.日期 == pd.to_datetime('2017-09-09')])[['日期','职员名称','单位全名','金额','单据编号','备注','商品备注']])\n",
    "# cnx = lite.connect('data\\\\quandan.db')\n",
    "# df2.to_sql(name='xiaoshoumingxi', con=cnx, if_exists='append', chunksize=10000)"
   ]
  }
 ],
 "metadata": {
  "kernelspec": {
   "display_name": "Python 3",
   "language": "python",
   "name": "python3"
  },
  "language_info": {
   "codemirror_mode": {
    "name": "ipython",
    "version": 3
   },
   "file_extension": ".py",
   "mimetype": "text/x-python",
   "name": "python",
   "nbconvert_exporter": "python",
   "pygments_lexer": "ipython3",
   "version": "3.6.1"
  },
  "widgets": {
   "application/vnd.jupyter.widget-state+json": {
    "state": {},
    "version_major": 1.0,
    "version_minor": 0.0
   }
  }
 },
 "nbformat": 4,
 "nbformat_minor": 1
}
