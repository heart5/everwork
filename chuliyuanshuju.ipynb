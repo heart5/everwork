{
 "cells": [
  {
   "cell_type": "code",
   "execution_count": 38,
   "metadata": {},
   "outputs": [
    {
     "name": "stdout",
     "output_type": "stream",
     "text": [
      "      日期 单据编号        数量         金额\n行号                                \n1    NaT  梅富忠       NaN        NaN\n915  NaT   小计   16183.0   20798.46\n916  NaT  NaN       NaN        NaN\n917  NaT  耿华忠       NaN        NaN\n1125 NaT   小计   85318.0   64627.87\n1126 NaT  NaN       NaN        NaN\n1127 NaT  徐志伟       NaN        NaN\n1711 NaT   小计   11361.0   14019.75\n1712 NaT  NaN       NaN        NaN\n1713 NaT   陈威       NaN        NaN\n2533 NaT   小计   20525.0   22646.79\n2534 NaT  NaN       NaN        NaN\n2535 NaT   周莉       NaN        NaN\n2705 NaT   小计    5993.0    7083.00\n2706 NaT  NaN       NaN        NaN\n2707 NaT  王家龙       NaN        NaN\n3009 NaT   小计    7822.0   10891.05\n3010 NaT  NaN       NaN        NaN\n3011 NaT  胡明景       NaN        NaN\n3581 NaT   小计   15393.2   16012.71\n3582 NaT  NaN       NaN        NaN\n3583 NaT  朱经伦       NaN        NaN\n3896 NaT   小计    8306.0   10254.30\n3897 NaT  NaN       NaN        NaN\n3898 NaT   合计  170901.2  166333.93\n[1, 915, 916, 917, 1125, 1126, 1127, 1711, 1712, 1713, 2533, 2534, 2535, 2705, 2706, 2707, 3009, 3010, 3011, 3581, 3582, 3583, 3896, 3897, 3898]\n"
     ]
    }
   ],
   "source": [
    "# 整理并导入原始数据\n",
    "import pandas as pd, sqlite3 as lite, numpy as np\n",
    "\n",
    "# 2017.8.29-2017.9.30职员销售明细表.xls\n",
    "# 2017.10.1-2017.10.10职员销售明细表.xls\n",
    "df = pd.read_excel('data\\\\2017.10.1-2017.10.10职员销售明细表.xls.xls',sheetname='2017.10.1-2017.10.10职员销售明细表.xls',index_col=0)\n",
    "# print(df.columns)\n",
    "# print(df.dtypes)\n",
    "df['职员名称'] = None\n",
    "df=df.loc[:,['日期','单据编号','单据类型','职员名称','摘要','备注','商品备注','商品编号','商品全名',\n",
    "             '单价','单位','数量','金额','单位全名','仓库全名','部门全名']]\n",
    "df['日期'] = pd.to_datetime(df['日期'])\n",
    "df['备注'] = df['备注'].astype(object)\n",
    "# print(df.columns)\n",
    "# print(df.dtypes)\n",
    "# print(len(df))\n",
    "dfdel = df[(df.单位全名.isnull().values==True) & ((df.单据编号.isnull().values == True) |  (df.单据编号 =='小计') |  (df.单据编号 =='合计'))]\n",
    "hangdel = list(dfdel.index)\n",
    "# print(hangdel)\n",
    "# print(dfdel)\n",
    "df1 = df.drop(hangdel)\n",
    "# print(df1.columns)\n",
    "# print(len(df1))\n",
    "# print(df1)\n",
    "dfzhiyuan = df1[df1.单位全名.isnull().values == True]\n",
    "# print(len(dfzhiyuan))\n",
    "# print(dfzhiyuan)\n",
    "zyhang = list(dfzhiyuan.index)\n",
    "zyming = list(dfzhiyuan['单据编号'])\n",
    "# print(zyhang)\n",
    "# print(zyming)\n",
    "for i in range(len(zyhang)):\n",
    "    df.loc[zyhang[i]:,'职员名称'] = zyming[i]\n",
    "    \n",
    "dfdel = df[df.单位全名.isnull().values==True]\n",
    "print(dfdel[['日期','单据编号','数量','金额']])\n",
    "hangdel = list(dfdel.index)\n",
    "print(hangdel)\n",
    "df2 = df.drop(hangdel)\n",
    "# print(df2.dtypes)\n",
    "# print(df2.columns)\n",
    "# print(len(df2))\n",
    "# print(df2)\n",
    "df2.index = range(len(df2))\n",
    "# del df[行号]\n",
    "# print((df2[df2.商品备注.isnull().values == False])[['日期','职员名称','单位全名','金额','单据编号','摘要','商品备注']])\n",
    "# print((df2[df2.日期 == pd.to_datetime('2017-09-09')])[['日期','职员名称','单位全名','金额','单据编号','备注','商品备注']])\n",
    "# cnx = lite.connect('data\\\\quandan.db')\n",
    "# df2.to_sql(name='xiaoshoumingxi', con=cnx, if_exists='append', chunksize=10000)"
   ]
  },
  {
   "cell_type": "code",
   "execution_count": 35,
   "metadata": {
    "collapsed": false
   },
   "outputs": [
    {
     "name": "stdout",
     "output_type": "stream",
     "text": [
      "                金额\n品牌                \n一品鱼舫 -3.136200e+02\n三友    6.274800e+03\n乡巴佬   9.000000e+01\n伍滋味   8.510140e+03\n佳宝    2.073147e+04\n依顺    2.196170e+04\n促宣品   0.000000e+00\n促销品   1.757000e+02\n俊媳妇  -2.400000e+00\n倍儿爽   3.597070e+04\n儿时代   1.185037e+05\n先生    9.576520e+03\n光头祥   1.975080e+04\n兰花恋人  1.957000e+04\n兴仁居   4.870024e+05\n农尔康   1.563910e+04\n凤凰园   9.535000e+02\n凤将军   4.137600e+04\n刘香源  -1.600000e+00\n创食人   2.693727e+07\n劲仔    1.061788e+07\n卤帝七号  2.440640e+04\n卫龙    9.972528e+05\n友意    2.587690e+04\n口口德福  1.801800e+03\n可可哥   4.126400e+04\n君妃    2.101614e+04\n君思    2.803350e+04\n呈呈    8.077290e+04\n咚咚    6.721130e+05\n...            ...\n湘宝王   6.229400e+03\n湘寿鸭   1.513420e+03\n火卤卤   1.106580e+04\n爽口佳   3.170558e+05\n珍可惠   4.795450e+03\n相思湖  -3.572000e+02\n相润   -1.200000e+01\n知欣    4.954850e+04\n红叶    5.385300e+03\n红帅    2.197670e+04\n绿野香   7.291000e+02\n老成都   9.797200e+03\n脆马蹄   8.892000e+02\n花心子   5.504006e+04\n花氏   -5.500000e+01\n蛋大厨   1.067056e+05\n蜀望    8.307580e+04\n醉吃香   2.359339e+06\n金昌盛   4.800000e+00\n鑫之恋  -3.200000e+01\n银城湘味  2.899229e+05\n阿林    2.133451e+05\n顶牛    3.240666e+05\n馋大嘴   6.038554e+05\n香之派   1.821075e+05\n香约   -7.631000e+02\n鱼友味   2.191409e+05\n鲜多鲜   2.107822e+05\n鲜客    9.090660e+04\n麦小呆   1.224280e+05\n\n[95 rows x 1 columns]\n"
     ]
    }
   ],
   "source": [
    "# 尝试各种呈现\n",
    "import pandas as pd, sqlite3 as lite, matplotlib.pyplot as plt, numpy as np,calendar\n",
    "from pylab import *\n",
    "\n",
    "cnx = lite.connect('data\\\\quandan.db')\n",
    "df = pd.read_sql_query(\n",
    "                    \"select 日期,金额,substr(customer.往来单位编号,1,2) as 区域 ,\"\n",
    "                    \"substr(customer.往来单位编号,12,1) as 类型,product.品牌名称  as 品牌 from xiaoshoumingxi,\"\n",
    "                    \"customer,product where (customer.往来单位 = xiaoshoumingxi.单位全名) \"\n",
    "                    \"and (product.商品全名 = xiaoshoumingxi.商品全名)\" , cnx)\n",
    "# df.index = df['日期']\n",
    "df = df.groupby('品牌').sum()\n",
    "print(df)"
   ]
  },
  {
   "cell_type": "code",
   "execution_count": 20,
   "metadata": {
    "collapsed": false
   },
   "outputs": [
    {
     "name": "stdout",
     "output_type": "stream",
     "text": [
      "                金额\n品牌                \n一品鱼舫 -3.136200e+02\n三友    6.274800e+03\n乡巴佬   9.000000e+01\n伍滋味   8.510140e+03\n佳宝    2.073147e+04\n依顺    2.196170e+04\n促宣品   0.000000e+00\n促销品   1.757000e+02\n俊媳妇  -2.400000e+00\n倍儿爽   3.597070e+04\n儿时代   1.185037e+05\n先生    9.576520e+03\n光头祥   1.975080e+04\n兰花恋人  1.957000e+04\n兴仁居   4.870024e+05\n农尔康   1.563910e+04\n凤凰园   9.535000e+02\n凤将军   4.137600e+04\n刘香源  -1.600000e+00\n创食人   2.693727e+07\n劲仔    1.061788e+07\n卤帝七号  2.440640e+04\n卫龙    9.972528e+05\n友意    2.587690e+04\n口口德福  1.801800e+03\n可可哥   4.126400e+04\n君妃    2.101614e+04\n君思    2.803350e+04\n呈呈    8.077290e+04\n咚咚    6.721130e+05\n...            ...\n湘宝王   6.229400e+03\n湘寿鸭   1.513420e+03\n火卤卤   1.106580e+04\n爽口佳   3.170558e+05\n珍可惠   4.795450e+03\n相思湖  -3.572000e+02\n相润   -1.200000e+01\n知欣    4.954850e+04\n红叶    5.385300e+03\n红帅    2.197670e+04\n绿野香   7.291000e+02\n老成都   9.797200e+03\n脆马蹄   8.892000e+02\n花心子   5.504006e+04\n花氏   -5.500000e+01\n蛋大厨   1.067056e+05\n蜀望    8.307580e+04\n醉吃香   2.359339e+06\n金昌盛   4.800000e+00\n鑫之恋  -3.200000e+01\n银城湘味  2.899229e+05\n阿林    2.133451e+05\n顶牛    3.240666e+05\n馋大嘴   6.038554e+05\n香之派   1.821075e+05\n香约   -7.631000e+02\n鱼友味   2.191409e+05\n鲜多鲜   2.107822e+05\n鲜客    9.090660e+04\n麦小呆   1.224280e+05\n\n[95 rows x 1 columns]\n"
     ]
    }
   ],
   "source": [
    "import pandas as pd, sqlite3 as lite, matplotlib.pyplot as plt, numpy as np,calendar\n",
    "from pylab import *\n",
    "\n",
    "# plot中显示中文\n",
    "mpl.rcParams['font.sans-serif'] = ['SimHei']\n",
    "mpl.rcParams['axes.unicode_minus'] = False\n",
    "\n",
    "conn = lite.connect('data\\\\quandan.db')\n",
    "cursor = conn.cursor()\n",
    "# df = pd.read_sql('select max(日期) as 日期 from xiaoshoumingxi',conn)\n",
    "# print(df)\n",
    "df = pd.read_sql('select 日期,sum(金额) as 销售额 from xiaoshoumingxi group by 日期', conn)\n",
    "# df = df[df.日期 > '2017-01-01']\n",
    "df.index = pd.to_datetime(df['日期'])\n",
    "print(df.dtypes)\n",
    "ds = df['销售额']\n",
    "# ds = ds.resample('M').sum()\n",
    "print(ds)\n",
    "ds.plot()\n",
    "df = df.resample('M').sum()\n",
    "df.plot()\n",
    "plt.show()\n",
    "plt.close()\n"
   ]
  },
  {
   "cell_type": "code",
   "execution_count": null,
   "metadata": {},
   "outputs": [],
   "source": []
  }
 ],
 "metadata": {
  "kernelspec": {
   "display_name": "Python 3",
   "language": "python",
   "name": "python3"
  },
  "language_info": {
   "codemirror_mode": {
    "name": "ipython",
    "version": 3
   },
   "file_extension": ".py",
   "mimetype": "text/x-python",
   "name": "python",
   "nbconvert_exporter": "python",
   "pygments_lexer": "ipython3",
   "version": "3.6.1"
  },
  "widgets": {
   "application/vnd.jupyter.widget-state+json": {
    "state": {},
    "version_major": 1.0,
    "version_minor": 0.0
   }
  }
 },
 "nbformat": 4,
 "nbformat_minor": 1
}
