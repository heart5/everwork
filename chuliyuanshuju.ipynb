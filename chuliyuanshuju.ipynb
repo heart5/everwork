{
 "cells": [
  {
   "cell_type": "code",
   "execution_count": 38,
   "metadata": {},
   "outputs": [
    {
     "name": "stdout",
     "output_type": "stream",
     "text": [
      "      日期 单据编号        数量         金额\n行号                                \n1    NaT  梅富忠       NaN        NaN\n915  NaT   小计   16183.0   20798.46\n916  NaT  NaN       NaN        NaN\n917  NaT  耿华忠       NaN        NaN\n1125 NaT   小计   85318.0   64627.87\n1126 NaT  NaN       NaN        NaN\n1127 NaT  徐志伟       NaN        NaN\n1711 NaT   小计   11361.0   14019.75\n1712 NaT  NaN       NaN        NaN\n1713 NaT   陈威       NaN        NaN\n2533 NaT   小计   20525.0   22646.79\n2534 NaT  NaN       NaN        NaN\n2535 NaT   周莉       NaN        NaN\n2705 NaT   小计    5993.0    7083.00\n2706 NaT  NaN       NaN        NaN\n2707 NaT  王家龙       NaN        NaN\n3009 NaT   小计    7822.0   10891.05\n3010 NaT  NaN       NaN        NaN\n3011 NaT  胡明景       NaN        NaN\n3581 NaT   小计   15393.2   16012.71\n3582 NaT  NaN       NaN        NaN\n3583 NaT  朱经伦       NaN        NaN\n3896 NaT   小计    8306.0   10254.30\n3897 NaT  NaN       NaN        NaN\n3898 NaT   合计  170901.2  166333.93\n[1, 915, 916, 917, 1125, 1126, 1127, 1711, 1712, 1713, 2533, 2534, 2535, 2705, 2706, 2707, 3009, 3010, 3011, 3581, 3582, 3583, 3896, 3897, 3898]\n"
     ]
    }
   ],
   "source": [
    "# 整理并导入原始数据\n",
    "import pandas as pd, sqlite3 as lite, numpy as np\n",
    "\n",
    "# 2017.8.29-2017.9.30职员销售明细表.xls\n",
    "# 2017.10.1-2017.10.10职员销售明细表.xls\n",
    "df = pd.read_excel('data\\\\2017.10.1-2017.10.10职员销售明细表.xls.xls',sheetname='2017.10.1-2017.10.10职员销售明细表.xls',index_col=0)\n",
    "# print(df.columns)\n",
    "# print(df.dtypes)\n",
    "df['职员名称'] = None\n",
    "df=df.loc[:,['日期','单据编号','单据类型','职员名称','摘要','备注','商品备注','商品编号','商品全名',\n",
    "             '单价','单位','数量','金额','单位全名','仓库全名','部门全名']]\n",
    "df['日期'] = pd.to_datetime(df['日期'])\n",
    "df['备注'] = df['备注'].astype(object)\n",
    "# print(df.columns)\n",
    "# print(df.dtypes)\n",
    "# print(len(df))\n",
    "dfdel = df[(df.单位全名.isnull().values==True) & ((df.单据编号.isnull().values == True) |  (df.单据编号 =='小计') |  (df.单据编号 =='合计'))]\n",
    "hangdel = list(dfdel.index)\n",
    "# print(hangdel)\n",
    "# print(dfdel)\n",
    "df1 = df.drop(hangdel)\n",
    "# print(df1.columns)\n",
    "# print(len(df1))\n",
    "# print(df1)\n",
    "dfzhiyuan = df1[df1.单位全名.isnull().values == True]\n",
    "# print(len(dfzhiyuan))\n",
    "# print(dfzhiyuan)\n",
    "zyhang = list(dfzhiyuan.index)\n",
    "zyming = list(dfzhiyuan['单据编号'])\n",
    "# print(zyhang)\n",
    "# print(zyming)\n",
    "for i in range(len(zyhang)):\n",
    "    df.loc[zyhang[i]:,'职员名称'] = zyming[i]\n",
    "    \n",
    "dfdel = df[df.单位全名.isnull().values==True]\n",
    "print(dfdel[['日期','单据编号','数量','金额']])\n",
    "hangdel = list(dfdel.index)\n",
    "print(hangdel)\n",
    "df2 = df.drop(hangdel)\n",
    "# print(df2.dtypes)\n",
    "# print(df2.columns)\n",
    "# print(len(df2))\n",
    "# print(df2)\n",
    "df2.index = range(len(df2))\n",
    "# del df[行号]\n",
    "# print((df2[df2.商品备注.isnull().values == False])[['日期','职员名称','单位全名','金额','单据编号','摘要','商品备注']])\n",
    "# print((df2[df2.日期 == pd.to_datetime('2017-09-09')])[['日期','职员名称','单位全名','金额','单据编号','备注','商品备注']])\n",
    "# cnx = lite.connect('data\\\\quandan.db')\n",
    "# df2.to_sql(name='xiaoshoumingxi', con=cnx, if_exists='append', chunksize=10000)"
   ]
  },
  {
   "cell_type": "code",
   "execution_count": 9,
   "metadata": {
    "collapsed": false
   },
   "outputs": [
    {
     "name": "stdout",
     "output_type": "stream",
     "text": [
      "                金额\n品牌                \n创食人   2.693727e+07\n劲仔    1.061788e+07\n渔米之湘  2.901404e+06\n醉吃香   2.359339e+06\n新丰园   1.213056e+06\n抓鱼的猫  1.060037e+06\n卫龙    9.972528e+05\n旭东    6.967289e+05\n有友    6.812354e+05\n咚咚    6.721130e+05\n馋大嘴   6.038554e+05\n好媳妇   5.915020e+05\n兴仁居   4.870024e+05\n张师傅   4.825363e+05\n欢夫    4.377545e+05\n小鹏    3.704526e+05\n顶牛    3.240666e+05\n爽口佳   3.170558e+05\n快活嘴   3.110133e+05\n银城湘味  2.899229e+05\n津津友味  2.386287e+05\n鱼友味   2.191409e+05\n无穷    2.162577e+05\n阿林    2.133451e+05\n鲜多鲜   2.107822e+05\n津尝乐   2.092767e+05\n香之派   1.821075e+05\n麦小呆   1.224280e+05\n儿时代   1.185037e+05\n好运    1.171437e+05\n...            ...\n珍可惠   4.795450e+03\n泰越精厨  4.622900e+03\n好棒美   3.593500e+03\n易加    3.179000e+03\n口口德福  1.801800e+03\n湘寿鸭   1.513420e+03\n洁龙    1.503540e+03\n凤凰园   9.535000e+02\n脆马蹄   8.892000e+02\n绿野香   7.291000e+02\n促销品   1.757000e+02\n乡巴佬   9.000000e+01\n金昌盛   4.800000e+00\n土老爹   1.400000e+00\n促宣品   0.000000e+00\n刘香源  -1.600000e+00\n心诺   -1.900000e+00\n俊媳妇  -2.400000e+00\n柒柒湘  -5.390000e+00\n相润   -1.200000e+01\n湘俚味  -2.100000e+01\n威龙   -2.700000e+01\n鑫之恋  -3.200000e+01\n花氏   -5.500000e+01\n孙妈   -7.983000e+01\n朝启   -2.272000e+02\n一品鱼舫 -3.136200e+02\n相思湖  -3.572000e+02\n香约   -7.631000e+02\n大西南  -1.285840e+03\n\n[95 rows x 1 columns]\n"
     ]
    }
   ],
   "source": [
    "# 统计品牌销售\n",
    "import pandas as pd, sqlite3 as lite, matplotlib.pyplot as plt, numpy as np,calendar\n",
    "from pylab import *\n",
    "\n",
    "cnx = lite.connect('data\\\\quandan.db')\n",
    "df = pd.read_sql_query(\n",
    "                    \"select 日期,xiaoshoumingxi.单位全名 as 客户名称,customer.往来单位编号 as 编号,金额,substr(customer.往来单位编号,1,2) as 区域 ,\"\n",
    "                    \"substr(customer.往来单位编号,12,1) as 类型,product.品牌名称  as 品牌 from xiaoshoumingxi,\"\n",
    "                    \"customer,product where (customer.往来单位 = xiaoshoumingxi.单位全名) \"\n",
    "                    \"and (product.商品全名 = xiaoshoumingxi.商品全名)\" , cnx)\n",
    "# df.index = df['日期']\n",
    "# df = df[df.区域.isin(('33','34'))]\n",
    "df = df.groupby('品牌').sum()\n",
    "df = df.sort_values('金额',ascending=False)\n",
    "# df = df.index\n",
    "print(df)"
   ]
  },
  {
   "cell_type": "code",
   "execution_count": null,
   "metadata": {},
   "outputs": [],
   "source": []
  },
  {
   "cell_type": "code",
   "execution_count": null,
   "metadata": {},
   "outputs": [],
   "source": []
  },
  {
   "cell_type": "code",
   "execution_count": 20,
   "metadata": {
    "collapsed": false
   },
   "outputs": [
    {
     "name": "stdout",
     "output_type": "stream",
     "text": [
      "                金额\n品牌                \n一品鱼舫 -3.136200e+02\n三友    6.274800e+03\n乡巴佬   9.000000e+01\n伍滋味   8.510140e+03\n佳宝    2.073147e+04\n依顺    2.196170e+04\n促宣品   0.000000e+00\n促销品   1.757000e+02\n俊媳妇  -2.400000e+00\n倍儿爽   3.597070e+04\n儿时代   1.185037e+05\n先生    9.576520e+03\n光头祥   1.975080e+04\n兰花恋人  1.957000e+04\n兴仁居   4.870024e+05\n农尔康   1.563910e+04\n凤凰园   9.535000e+02\n凤将军   4.137600e+04\n刘香源  -1.600000e+00\n创食人   2.693727e+07\n劲仔    1.061788e+07\n卤帝七号  2.440640e+04\n卫龙    9.972528e+05\n友意    2.587690e+04\n口口德福  1.801800e+03\n可可哥   4.126400e+04\n君妃    2.101614e+04\n君思    2.803350e+04\n呈呈    8.077290e+04\n咚咚    6.721130e+05\n...            ...\n湘宝王   6.229400e+03\n湘寿鸭   1.513420e+03\n火卤卤   1.106580e+04\n爽口佳   3.170558e+05\n珍可惠   4.795450e+03\n相思湖  -3.572000e+02\n相润   -1.200000e+01\n知欣    4.954850e+04\n红叶    5.385300e+03\n红帅    2.197670e+04\n绿野香   7.291000e+02\n老成都   9.797200e+03\n脆马蹄   8.892000e+02\n花心子   5.504006e+04\n花氏   -5.500000e+01\n蛋大厨   1.067056e+05\n蜀望    8.307580e+04\n醉吃香   2.359339e+06\n金昌盛   4.800000e+00\n鑫之恋  -3.200000e+01\n银城湘味  2.899229e+05\n阿林    2.133451e+05\n顶牛    3.240666e+05\n馋大嘴   6.038554e+05\n香之派   1.821075e+05\n香约   -7.631000e+02\n鱼友味   2.191409e+05\n鲜多鲜   2.107822e+05\n鲜客    9.090660e+04\n麦小呆   1.224280e+05\n\n[95 rows x 1 columns]\n"
     ]
    }
   ],
   "source": [
    "import pandas as pd, sqlite3 as lite, matplotlib.pyplot as plt, numpy as np,calendar\n",
    "from pylab import *\n",
    "\n",
    "# plot中显示中文\n",
    "mpl.rcParams['font.sans-serif'] = ['SimHei']\n",
    "mpl.rcParams['axes.unicode_minus'] = False\n",
    "\n",
    "conn = lite.connect('data\\\\quandan.db')\n",
    "cursor = conn.cursor()\n",
    "# df = pd.read_sql('select max(日期) as 日期 from xiaoshoumingxi',conn)\n",
    "# print(df)\n",
    "df = pd.read_sql('select 日期,sum(金额) as 销售额 from xiaoshoumingxi group by 日期', conn)\n",
    "# df = df[df.日期 > '2017-01-01']\n",
    "df.index = pd.to_datetime(df['日期'])\n",
    "print(df.dtypes)\n",
    "ds = df['销售额']\n",
    "# ds = ds.resample('M').sum()\n",
    "print(ds)\n",
    "ds.plot()\n",
    "df = df.resample('M').sum()\n",
    "df.plot()\n",
    "plt.show()\n",
    "plt.close()\n"
   ]
  },
  {
   "cell_type": "code",
   "execution_count": 2,
   "metadata": {},
   "outputs": [
    {
     "name": "stdout",
     "output_type": "stream",
     "text": [
      "     区域               编号                           客户名称  \\\n214  34  34000070000PXXD             湖北向善商贸 13387665306   \n422  34  34300280060SXXD                  二桥批发 84636881   \n60   33  33100630030SXXD          阳光副食（麒麟路） 13971500833   \n446  34  34300520000SXXD                  艳艳超市 84656310   \n359  34  34200660050SXXD             便邻超市（铁桥店） 84646510   \n362  34  34200690030SXXD             老四水果副食 15327152115   \n397  34  34300040080SXXD                鑫鸿平价超市 84260005   \n151  33  33300010000CXXD               中兴柯达 18602764240   \n84   33  33110050000SXXD                 工地小卖部 84580005   \n394  34  34300010000SXXD               爱家超市 18674044887   \n59   33  33100620010SXXD               零吃小屋 13627223211   \n275  34  34100620100SXXD          阿里之门（龙阳1号）15827168099   \n56   33  33100590010SXXD               天富（显正街） 84863130   \n345  34  34200520030SXXD              美福达超市 15871760236   \n154  33  33300040000BXXD                典藏名烟名酒 84704703   \n381  34  34200870000SXXD           芙蓉兴盛国信新城 18971662392   \n108  33  33200230000SXXD                           江城锅炉   \n433  34  34300390000SXXD                    开心购物100连锁超市   \n243  34  34100290030SXXD         友嘉便利店（汉城路） 18717116671   \n24   33  33100260000SXXD                  蓝琳平价 84762293   \n134  33  33200500000SXXD              棋牌副食  18717148264   \n168  33  33300180000SXXD                  益昌超市 84774989   \n224  34  34100100000SXXD                  可乐超市 84528365   \n45   33  33100480000SXXD                           欣星超市   \n370  34  34200770000SXXD  通讯棋牌副食（罗七路）（原蓝天通讯）15527389779   \n113  33  33200280000SXXD           英武蒲兴平价超市 18071095259   \n363  34  34200700000SXXD                阿周平价超市 84862872   \n173  33  33300230000SXXD         金鑫超市（江提中路） 13657249921   \n437  34  34300430000SXXD                  全福超市 84623531   \n430  34  34300360060SXXD            芙蓉兴盛（正龙路店） 84462446   \n..   ..              ...                            ...   \n386  34  34210280000SXXD                德胜烟酒副食 84628741   \n415  34  34300210060SXXD                 万家福超市 84862731   \n335  34  34200420000SXXD      芙蓉兴盛（十里铺店）（停用已拆） 84647422   \n35   33  33100380000SXXD             蒲兴超市（西大街） 84591275   \n367  34  34200740005SXXD               兴发副食 15972189796   \n17   33  33100190000SXXD                 永杰副食店 84888711   \n188  33  33300390000SXXD               老街坊副食批发 65385300   \n223  34  34100090000SXXD                  龙城超市 84679960   \n442  34  34300480000SXXD                  顺顺平价 84468363   \n464  34  34300700000SXXD                 家宜佳超市 84611655   \n195  33  33300460070SXXD             开心果园烟酒 15202768290   \n421  34  34300270030SXXD           烟酒副食（磨山） 13871360397   \n426  34  34300320030SXXD               乐天超市 18971441909   \n314  34  34200210200WXXD               实惠网吧 13886137841   \n385  34  34210210200WXXD               毕升网吧 13871150543   \n401  34  34300080060SXXD                  双超超市 84469189   \n145  33  33200610000SXXD                     阿里之门（邓甲菜场）   \n428  34  34300340200WXXD               众人网吧 15387059683   \n318  34  34200250200WXXD            新高速时代网吧 13006101073   \n366  34  34200730050SXXD            美林超市（十里华府） 84678566   \n190  33  33300410060SXXD         芙蓉兴盛（四鑫平价） 15527973872   \n130  33  33200460010SXXD               荔荔平价 15308653397   \n328  34  34200350000SXXD                 聚友阁棋牌 84881066   \n129  33  33200450040SXXD            芙蓉兴盛枫华  13628636551   \n40   33  33100430000SXXD                  博友通讯 84924377   \n343  34  34200500030SXXD                阳光批发超市 84860547   \n109  33  33200240030SXXD                俊龙超市13886087632   \n8    33  33100090000SXXD                  富荣副食 84837748   \n71   33  33100740150SXXA            慕臣（马沧湖） 17762548156   \n213  34  34000060000PXXD                吉时鲜 18627184456   \n\n                           地址  \n214                      None  \n422               汉阳大道磨山集团入口处  \n60                麒麟路汇福路里200米  \n446                汉阳大道燎原村93号  \n359        汉阳路七路铁桥新家园小区进去100米  \n362           汉阳大道紫荆路可多超市前50米  \n397                汉阳永丰街周湾17号  \n151                       动物园  \n84               江堤中路加油站旁下马湖路  \n394                汉阳扁担山米粮街巷内  \n59                   七里二村233号  \n275              龙阳一号前行100米左右  \n56          显正街嘉旺超市前行200米天主堂旁  \n345          汉阳大道罗七路代李湾尚鼎轩酒店旁  \n154                      江堤中学  \n381                      None  \n108         鹦鹉大道新五里江城锅炉对面厂大门内  \n433        汉阳汉桥路院子湾（金源平价超市隔壁）  \n243               汉城路（仁梦超市对面）  \n24                汉阳大道归元寺路30号  \n134            马鹦路枫华苑小区进去去30米  \n168    江堤中路马鹦路32江腾苑腾范商铺C4-01旁  \n224                  芳草一路新华四村  \n45                   墨水湖北路桃花岛  \n370                      None  \n113                汉阳五龙路江庭院C门  \n363            汉阳大道和百灵路交汇处东南角  \n173            江提中路江欣苑路A12-2旁  \n437                 玫瑰街财税学校后门  \n430                玉龙路中百超市斜对面  \n..                        ...  \n386               汉阳大道冯家畈505号  \n415                  汉阳大道玉龙北路  \n335            十里铺刘家湾68号十里铺菜场  \n35        鹦鹉大道西大街159号（名发世家巷内）  \n367       汉阳大道十里铺地铁口C出口前行100米  \n17      汉阳大道汉阳劳动局旁（区人力资源局巷子内）  \n188        江提中路新城丽景509栋1单元104  \n223            芳草路龙城小区（家仁超市旁）  \n442                  大屋机场209号  \n464                汉阳大道张湾141号  \n195            江堤中路江欣苑路A18-1号  \n421               汉阳大道磨山集团入口处  \n426           玫瑰街和知音东路丁字口右80米  \n314                      None  \n385               墨水湖北路舒家湾65号  \n401            汉阳琴台大道永丰街仙山社区旁  \n145                  菜场邓甲生鲜市场  \n428               汉阳大道王家湾夜市对面  \n318             汉阳大道679号（欧式花园  \n366  赫山路十里华府北门和汉阳大道十字路口向北50米）  \n190             四新北路双兴超市前右转进去  \n130                鹦鹉大道自立一句路口  \n328                 百灵路（七里晴川）  \n129                马鹦路枫华苑小区5栋  \n40           汉阳大道铁铺站旁边（大桥局对面）  \n343                汉阳紫荆路紫荆花园旁  \n109                      自力一路  \n8                    汉阳朝阳路57号  \n71                       None  \n213        汉阳康达街万科汉阳国际A区1号门门口  \n\n[200 rows x 4 columns]\n"
     ]
    }
   ],
   "source": [
    "# 叁拾叁区、叁拾肆区，随机200家客户\n",
    "import pandas as pd, sqlite3 as lite, matplotlib.pyplot as plt, numpy as np,calendar\n",
    "import random as rd\n",
    "from pylab import *\n",
    "from tempfile import NamedTemporaryFile\n",
    "\n",
    "cnx = lite.connect('data\\\\quandan.db')\n",
    "# df = pd.read_sql_query(\n",
    "#                     \"select 日期,xiaoshoumingxi.单位全名 as 客户名称,customer.往来单位编号 as 编号,金额,substr(customer.往来单位编号,1,2) as 区域 ,\"\n",
    "#                     \"substr(customer.往来单位编号,12,1) as 类型,product.品牌名称  as 品牌 from xiaoshoumingxi,\"\n",
    "#                     \"customer,product where (customer.往来单位 = xiaoshoumingxi.单位全名) \"\n",
    "#                     \"and (product.商品全名 = xiaoshoumingxi.商品全名)\" , cnx)\n",
    "df = pd.read_sql_query(\n",
    "                    \"select xiaoshoumingxi.单位全名 as 客户名称,customer.往来单位编号 as 编号,customer.地址 as 地址,sum(金额) as 销售额,substr(customer.往来单位编号,1,2) as 区域 from xiaoshoumingxi,\"\n",
    "                    \"customer,product where (customer.往来单位 = xiaoshoumingxi.单位全名) \"\n",
    "                    \"and (product.商品全名 = xiaoshoumingxi.商品全名) group by 编号 order by 编号\" , cnx)\n",
    "# df.index = df['日期']\n",
    "df = df[df.区域.isin(('33','34'))]\n",
    "df.index = range(len(df))\n",
    "ls = range(500)\n",
    "randomls = rd.sample(ls,200)\n",
    "df = df.loc[randomls,['区域','编号','客户名称','地址']]\n",
    "\n",
    "df.to_excel('data\\\\结果输出.xlsx',sheet_name='汉阳客户清单')  \n",
    "\n",
    "print(df)"
   ]
  },
  {
   "cell_type": "code",
   "execution_count": null,
   "metadata": {},
   "outputs": [],
   "source": []
  }
 ],
 "metadata": {
  "kernelspec": {
   "display_name": "Python 3",
   "language": "python",
   "name": "python3"
  },
  "language_info": {
   "codemirror_mode": {
    "name": "ipython",
    "version": 3
   },
   "file_extension": ".py",
   "mimetype": "text/x-python",
   "name": "python",
   "nbconvert_exporter": "python",
   "pygments_lexer": "ipython3",
   "version": "3.6.1"
  },
  "widgets": {
   "application/vnd.jupyter.widget-state+json": {
    "state": {},
    "version_major": 1.0,
    "version_minor": 0.0
   }
  }
 },
 "nbformat": 4,
 "nbformat_minor": 1
}
