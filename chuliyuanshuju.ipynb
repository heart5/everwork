{
 "cells": [
  {
   "cell_type": "code",
   "execution_count": 38,
   "metadata": {},
   "outputs": [
    {
     "name": "stdout",
     "output_type": "stream",
     "text": [
      "      日期 单据编号        数量         金额\n行号                                \n1    NaT  梅富忠       NaN        NaN\n915  NaT   小计   16183.0   20798.46\n916  NaT  NaN       NaN        NaN\n917  NaT  耿华忠       NaN        NaN\n1125 NaT   小计   85318.0   64627.87\n1126 NaT  NaN       NaN        NaN\n1127 NaT  徐志伟       NaN        NaN\n1711 NaT   小计   11361.0   14019.75\n1712 NaT  NaN       NaN        NaN\n1713 NaT   陈威       NaN        NaN\n2533 NaT   小计   20525.0   22646.79\n2534 NaT  NaN       NaN        NaN\n2535 NaT   周莉       NaN        NaN\n2705 NaT   小计    5993.0    7083.00\n2706 NaT  NaN       NaN        NaN\n2707 NaT  王家龙       NaN        NaN\n3009 NaT   小计    7822.0   10891.05\n3010 NaT  NaN       NaN        NaN\n3011 NaT  胡明景       NaN        NaN\n3581 NaT   小计   15393.2   16012.71\n3582 NaT  NaN       NaN        NaN\n3583 NaT  朱经伦       NaN        NaN\n3896 NaT   小计    8306.0   10254.30\n3897 NaT  NaN       NaN        NaN\n3898 NaT   合计  170901.2  166333.93\n[1, 915, 916, 917, 1125, 1126, 1127, 1711, 1712, 1713, 2533, 2534, 2535, 2705, 2706, 2707, 3009, 3010, 3011, 3581, 3582, 3583, 3896, 3897, 3898]\n"
     ]
    }
   ],
   "source": [
    "# 整理并导入原始数据\n",
    "import pandas as pd, sqlite3 as lite, numpy as np\n",
    "\n",
    "# 2017.8.29-2017.9.30职员销售明细表.xls\n",
    "# 2017.10.1-2017.10.10职员销售明细表.xls\n",
    "df = pd.read_excel('data\\\\2017.10.1-2017.10.10职员销售明细表.xls.xls',sheetname='2017.10.1-2017.10.10职员销售明细表.xls',index_col=0)\n",
    "# print(df.columns)\n",
    "# print(df.dtypes)\n",
    "df['职员名称'] = None\n",
    "df=df.loc[:,['日期','单据编号','单据类型','职员名称','摘要','备注','商品备注','商品编号','商品全名',\n",
    "             '单价','单位','数量','金额','单位全名','仓库全名','部门全名']]\n",
    "df['日期'] = pd.to_datetime(df['日期'])\n",
    "df['备注'] = df['备注'].astype(object)\n",
    "# print(df.columns)\n",
    "# print(df.dtypes)\n",
    "# print(len(df))\n",
    "dfdel = df[(df.单位全名.isnull().values==True) & ((df.单据编号.isnull().values == True) |  (df.单据编号 =='小计') |  (df.单据编号 =='合计'))]\n",
    "hangdel = list(dfdel.index)\n",
    "# print(hangdel)\n",
    "# print(dfdel)\n",
    "df1 = df.drop(hangdel)\n",
    "# print(df1.columns)\n",
    "# print(len(df1))\n",
    "# print(df1)\n",
    "dfzhiyuan = df1[df1.单位全名.isnull().values == True]\n",
    "# print(len(dfzhiyuan))\n",
    "# print(dfzhiyuan)\n",
    "zyhang = list(dfzhiyuan.index)\n",
    "zyming = list(dfzhiyuan['单据编号'])\n",
    "# print(zyhang)\n",
    "# print(zyming)\n",
    "for i in range(len(zyhang)):\n",
    "    df.loc[zyhang[i]:,'职员名称'] = zyming[i]\n",
    "    \n",
    "dfdel = df[df.单位全名.isnull().values==True]\n",
    "print(dfdel[['日期','单据编号','数量','金额']])\n",
    "hangdel = list(dfdel.index)\n",
    "print(hangdel)\n",
    "df2 = df.drop(hangdel)\n",
    "# print(df2.dtypes)\n",
    "# print(df2.columns)\n",
    "# print(len(df2))\n",
    "# print(df2)\n",
    "df2.index = range(len(df2))\n",
    "# del df[行号]\n",
    "# print((df2[df2.商品备注.isnull().values == False])[['日期','职员名称','单位全名','金额','单据编号','摘要','商品备注']])\n",
    "# print((df2[df2.日期 == pd.to_datetime('2017-09-09')])[['日期','职员名称','单位全名','金额','单据编号','备注','商品备注']])\n",
    "# cnx = lite.connect('data\\\\quandan.db')\n",
    "# df2.to_sql(name='xiaoshoumingxi', con=cnx, if_exists='append', chunksize=10000)"
   ]
  },
  {
   "cell_type": "code",
   "execution_count": 9,
   "metadata": {
    "collapsed": false
   },
   "outputs": [
    {
     "name": "stdout",
     "output_type": "stream",
     "text": [
      "                金额\n品牌                \n创食人   2.693727e+07\n劲仔    1.061788e+07\n渔米之湘  2.901404e+06\n醉吃香   2.359339e+06\n新丰园   1.213056e+06\n抓鱼的猫  1.060037e+06\n卫龙    9.972528e+05\n旭东    6.967289e+05\n有友    6.812354e+05\n咚咚    6.721130e+05\n馋大嘴   6.038554e+05\n好媳妇   5.915020e+05\n兴仁居   4.870024e+05\n张师傅   4.825363e+05\n欢夫    4.377545e+05\n小鹏    3.704526e+05\n顶牛    3.240666e+05\n爽口佳   3.170558e+05\n快活嘴   3.110133e+05\n银城湘味  2.899229e+05\n津津友味  2.386287e+05\n鱼友味   2.191409e+05\n无穷    2.162577e+05\n阿林    2.133451e+05\n鲜多鲜   2.107822e+05\n津尝乐   2.092767e+05\n香之派   1.821075e+05\n麦小呆   1.224280e+05\n儿时代   1.185037e+05\n好运    1.171437e+05\n...            ...\n珍可惠   4.795450e+03\n泰越精厨  4.622900e+03\n好棒美   3.593500e+03\n易加    3.179000e+03\n口口德福  1.801800e+03\n湘寿鸭   1.513420e+03\n洁龙    1.503540e+03\n凤凰园   9.535000e+02\n脆马蹄   8.892000e+02\n绿野香   7.291000e+02\n促销品   1.757000e+02\n乡巴佬   9.000000e+01\n金昌盛   4.800000e+00\n土老爹   1.400000e+00\n促宣品   0.000000e+00\n刘香源  -1.600000e+00\n心诺   -1.900000e+00\n俊媳妇  -2.400000e+00\n柒柒湘  -5.390000e+00\n相润   -1.200000e+01\n湘俚味  -2.100000e+01\n威龙   -2.700000e+01\n鑫之恋  -3.200000e+01\n花氏   -5.500000e+01\n孙妈   -7.983000e+01\n朝启   -2.272000e+02\n一品鱼舫 -3.136200e+02\n相思湖  -3.572000e+02\n香约   -7.631000e+02\n大西南  -1.285840e+03\n\n[95 rows x 1 columns]\n"
     ]
    }
   ],
   "source": [
    "# 统计品牌销售\n",
    "import pandas as pd, sqlite3 as lite, matplotlib.pyplot as plt, numpy as np,calendar\n",
    "from pylab import *\n",
    "\n",
    "cnx = lite.connect('data\\\\quandan.db')\n",
    "df = pd.read_sql_query(\n",
    "                    \"select 日期,xiaoshoumingxi.单位全名 as 客户名称,customer.往来单位编号 as 编号,金额,substr(customer.往来单位编号,1,2) as 区域 ,\"\n",
    "                    \"substr(customer.往来单位编号,12,1) as 类型,product.品牌名称  as 品牌 from xiaoshoumingxi,\"\n",
    "                    \"customer,product where (customer.往来单位 = xiaoshoumingxi.单位全名) \"\n",
    "                    \"and (product.商品全名 = xiaoshoumingxi.商品全名)\" , cnx)\n",
    "# df.index = df['日期']\n",
    "# df = df[df.区域.isin(('33','34'))]\n",
    "df = df.groupby('品牌').sum()\n",
    "df = df.sort_values('金额',ascending=False)\n",
    "# df = df.index\n",
    "print(df)"
   ]
  },
  {
   "cell_type": "code",
   "execution_count": null,
   "metadata": {},
   "outputs": [],
   "source": []
  },
  {
   "cell_type": "code",
   "execution_count": null,
   "metadata": {},
   "outputs": [],
   "source": []
  },
  {
   "cell_type": "code",
   "execution_count": 20,
   "metadata": {
    "collapsed": false
   },
   "outputs": [
    {
     "name": "stdout",
     "output_type": "stream",
     "text": [
      "                金额\n品牌                \n一品鱼舫 -3.136200e+02\n三友    6.274800e+03\n乡巴佬   9.000000e+01\n伍滋味   8.510140e+03\n佳宝    2.073147e+04\n依顺    2.196170e+04\n促宣品   0.000000e+00\n促销品   1.757000e+02\n俊媳妇  -2.400000e+00\n倍儿爽   3.597070e+04\n儿时代   1.185037e+05\n先生    9.576520e+03\n光头祥   1.975080e+04\n兰花恋人  1.957000e+04\n兴仁居   4.870024e+05\n农尔康   1.563910e+04\n凤凰园   9.535000e+02\n凤将军   4.137600e+04\n刘香源  -1.600000e+00\n创食人   2.693727e+07\n劲仔    1.061788e+07\n卤帝七号  2.440640e+04\n卫龙    9.972528e+05\n友意    2.587690e+04\n口口德福  1.801800e+03\n可可哥   4.126400e+04\n君妃    2.101614e+04\n君思    2.803350e+04\n呈呈    8.077290e+04\n咚咚    6.721130e+05\n...            ...\n湘宝王   6.229400e+03\n湘寿鸭   1.513420e+03\n火卤卤   1.106580e+04\n爽口佳   3.170558e+05\n珍可惠   4.795450e+03\n相思湖  -3.572000e+02\n相润   -1.200000e+01\n知欣    4.954850e+04\n红叶    5.385300e+03\n红帅    2.197670e+04\n绿野香   7.291000e+02\n老成都   9.797200e+03\n脆马蹄   8.892000e+02\n花心子   5.504006e+04\n花氏   -5.500000e+01\n蛋大厨   1.067056e+05\n蜀望    8.307580e+04\n醉吃香   2.359339e+06\n金昌盛   4.800000e+00\n鑫之恋  -3.200000e+01\n银城湘味  2.899229e+05\n阿林    2.133451e+05\n顶牛    3.240666e+05\n馋大嘴   6.038554e+05\n香之派   1.821075e+05\n香约   -7.631000e+02\n鱼友味   2.191409e+05\n鲜多鲜   2.107822e+05\n鲜客    9.090660e+04\n麦小呆   1.224280e+05\n\n[95 rows x 1 columns]\n"
     ]
    }
   ],
   "source": [
    "import pandas as pd, sqlite3 as lite, matplotlib.pyplot as plt, numpy as np,calendar\n",
    "from pylab import *\n",
    "\n",
    "# plot中显示中文\n",
    "mpl.rcParams['font.sans-serif'] = ['SimHei']\n",
    "mpl.rcParams['axes.unicode_minus'] = False\n",
    "\n",
    "conn = lite.connect('data\\\\quandan.db')\n",
    "cursor = conn.cursor()\n",
    "# df = pd.read_sql('select max(日期) as 日期 from xiaoshoumingxi',conn)\n",
    "# print(df)\n",
    "df = pd.read_sql('select 日期,sum(金额) as 销售额 from xiaoshoumingxi group by 日期', conn)\n",
    "# df = df[df.日期 > '2017-01-01']\n",
    "df.index = pd.to_datetime(df['日期'])\n",
    "print(df.dtypes)\n",
    "ds = df['销售额']\n",
    "# ds = ds.resample('M').sum()\n",
    "print(ds)\n",
    "ds.plot()\n",
    "df = df.resample('M').sum()\n",
    "df.plot()\n",
    "plt.show()\n",
    "plt.close()\n"
   ]
  },
  {
   "cell_type": "code",
   "execution_count": 30,
   "metadata": {},
   "outputs": [
    {
     "name": "stdout",
     "output_type": "stream",
     "text": [
      "     区域               编号                             客户名称\n407  34  34300130080SXXD                   宜家福超市 84860270\n376  34  34200830060AXXD               雅苑学生超市 15002712405\n101  33  33200160000SXXD                   爱心小百货 84522245\n456  34  34300620000WXXD                   网店 18627093819\n313  34  34200200080SXXD  芙蓉兴盛乐家生活超市（原乐家生活超市） 13995550143\n296  34  34200030150SXXD               船院学生超市 18071025105\n90   33  33200050080SXXD                    永昌副食 84510421\n404  34  34300110000ZXXD                武汉泽天瑞 18602704855\n132  33  33200480010SXXD            烟酒副食（桥机路） 13871437479\n422  34  34300280060SXXD                    二桥批发 84636881\n94   33  33200090080SXXD                 伊家副食 13476074974\n457  34  34300630000SXXD               平价超市（卷烟厂） 84668972\n59   33  33100620010SXXD                 零吃小屋 13627223211\n397  34  34300040080SXXD                  鑫鸿平价超市 84260005\n468  34  34300740000SXXD                   洪奇渔具  84650199\n222  34  34100080000SXXD                             欣荣副食\n413  34  34300190100SXXD                    平洋副食 84650716\n300  34  34200070060AXXD             武汉船院综合商店 13995617238\n288  34  34100750030SXXD              慕臣（观澜国际）13476819992\n359  34  34200660050SXXD               便邻超市（铁桥店） 84646510\n115  33  33200300100SXXD                    万兴超市 84770581\n338  34  34200450000SXXD                   七里香苑超市84809565\n130  33  33200460010SXXD                 荔荔平价 15308653397\n100  33  33200150000SXXD                   百盛便利店 84793401\n162  33  33300120000CXXD                      名烟名酒（动物园后门）\n88   33  33200030050SXXD                    麦多超市 84266620\n497  34  34301040000SXXD       天富便利店（汉阳国际1号门） 18907117023\n12   33  33100140000SXXD                 时尚泡吧 13886079349\n285  34  34100720000CXXD          可多（招商公园1872）18171119119\n110  33  33200250000SXXD                  瑞安超市13277992632\n..   ..              ...                              ...\n211  34  34000040000PXXD                  蔡老板 18971086182\n13   33  33100150000SXXD                芙蓉兴盛全真副食 84765808\n0    33  33100010050SXXD                   新伙伴百货 84641504\n147  33  33210130050AXXD               三职副食商店 15926331757\n317  34  34200240000SXXD              纽宾凯烟酒副食 15271882566\n9    33  33100100000SXXD           新东方超市（朝阳路） 13627204868\n339  34  34200460130SXXD    七里圣泽超市（原联合一百七里圣德） 13616833366\n233  34  34100190010SXXD                 鸿运超市 15972138392\n163  33  33300130080SXXD                    飞达批发 84527892\n274  34  34100610030SXXD                 菲斯网咖 13545040595\n372  34  34200790030SXXD           便邻便利店（金龙琴台分店） 84663770\n124  33  33200400030SXXD                 思刚副食品超市 84958048\n333  34  34200400200WXXD                 水晶网吧 18674025901\n455  34  34300610000SXXD                  百年烟酒批发 84623917\n451  34  34300570000SXXD                金三角平价 18986930375\n186  33  33300360000SXXD                 丽景烟酒 15387108487\n273  34  34100600100SXXA            芙蓉兴盛佳顺便利店 18672988828\n263  34  34100500000SXXD              芙蓉兴盛（龙阳雅苑） 84458285\n334  34  34200410000SXXD              雅苑书屋综合店 13628679588\n382  34  34200870050SXXD             倩倩平价副食（七里庙） 84666240\n212  34  34000050000PXXD              铁桥新家园网店 18086083862\n203  33  33300550080SXXD                 宜家超市 13871309791\n250  34  34100360000SXXD             联合一百南国明珠 18971091029\n55   33  33100580200WXXD                    雄迪网吧 84420016\n482  34  34300880010SXXD                   红艳副食店 84879654\n141  33  33200570000SXXD             芙蓉兴盛（超睿） 13986092459\n340  34  34200470070SXXA                     顺来超市52343413\n493  34  34300990000SXXD                筱玫瑰超市 13797095504\n189  33  33300400040SXXD                 大东超市 15623255686\n357  34  34200640020SXXD               宏兵平价超市 15927465861\n\n[200 rows x 3 columns]\n"
     ]
    }
   ],
   "source": [
    "# 叁拾叁区、叁拾肆区，随机200家客户\n",
    "import pandas as pd, sqlite3 as lite, matplotlib.pyplot as plt, numpy as np,calendar\n",
    "import random as rd\n",
    "from pylab import *\n",
    "from tempfile import NamedTemporaryFile\n",
    "\n",
    "cnx = lite.connect('data\\\\quandan.db')\n",
    "# df = pd.read_sql_query(\n",
    "#                     \"select 日期,xiaoshoumingxi.单位全名 as 客户名称,customer.往来单位编号 as 编号,金额,substr(customer.往来单位编号,1,2) as 区域 ,\"\n",
    "#                     \"substr(customer.往来单位编号,12,1) as 类型,product.品牌名称  as 品牌 from xiaoshoumingxi,\"\n",
    "#                     \"customer,product where (customer.往来单位 = xiaoshoumingxi.单位全名) \"\n",
    "#                     \"and (product.商品全名 = xiaoshoumingxi.商品全名)\" , cnx)\n",
    "df = pd.read_sql_query(\n",
    "                    \"select xiaoshoumingxi.单位全名 as 客户名称,customer.往来单位编号 as 编号,sum(金额) as 销售额,substr(customer.往来单位编号,1,2) as 区域 from xiaoshoumingxi,\"\n",
    "                    \"customer,product where (customer.往来单位 = xiaoshoumingxi.单位全名) \"\n",
    "                    \"and (product.商品全名 = xiaoshoumingxi.商品全名) group by 编号 order by 编号\" , cnx)\n",
    "# df.index = df['日期']\n",
    "df = df[df.区域.isin(('33','34'))]\n",
    "df.index = range(len(df))\n",
    "ls = range(500)\n",
    "randomls = rd.sample(ls,200)\n",
    "df = df.loc[randomls,['区域','编号','客户名称']]\n",
    "\n",
    "df.to_excel('data\\\\结果输出.xlsx',sheet_name='汉阳客户清单')  \n",
    "\n",
    "print(df)"
   ]
  },
  {
   "cell_type": "code",
   "execution_count": null,
   "metadata": {},
   "outputs": [],
   "source": []
  }
 ],
 "metadata": {
  "kernelspec": {
   "display_name": "Python 3",
   "language": "python",
   "name": "python3"
  },
  "language_info": {
   "codemirror_mode": {
    "name": "ipython",
    "version": 3
   },
   "file_extension": ".py",
   "mimetype": "text/x-python",
   "name": "python",
   "nbconvert_exporter": "python",
   "pygments_lexer": "ipython3",
   "version": "3.6.1"
  },
  "widgets": {
   "application/vnd.jupyter.widget-state+json": {
    "state": {},
    "version_major": 1.0,
    "version_minor": 0.0
   }
  }
 },
 "nbformat": 4,
 "nbformat_minor": 1
}
