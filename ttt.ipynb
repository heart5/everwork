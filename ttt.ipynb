{
 "cells": [
  {
   "cell_type": "code",
   "execution_count": 11,
   "metadata": {
    "collapsed": true
   },
   "outputs": [
    {
     "name": "stdout",
     "output_type": "stream",
     "text": [
      "        文件名                                     绝对路径                 修改时间  \\\n0  系统表.xlsx  D:\\heart5\\prores\\everwork\\data\\系统表.xlsx  2017-10-06 14:47:39   \n\n       设备编号   文件大小                 登录时间  \n0  77404758  14613  2017-10-06 14:50:08  \n"
     ]
    }
   ],
   "source": [
    "import pandas as pd, sqlite3 as lite\n",
    "cnx = lite.connect('data\\\\quandan.db')\n",
    "# df = pd.read_sql('select * from fileread',cnx)\n",
    "df = pd.read_sql(\"select * from fileread where 文件名 like '%系统%'\",cnx)\n",
    "print(df)\n",
    "cnx.close()"
   ]
  },
  {
   "cell_type": "code",
   "execution_count": null,
   "metadata": {},
   "outputs": [],
   "source": []
  }
 ],
 "metadata": {
  "kernelspec": {
   "display_name": "Python 2",
   "language": "python",
   "name": "python2"
  },
  "language_info": {
   "codemirror_mode": {
    "name": "ipython",
    "version": 2
   },
   "file_extension": ".py",
   "mimetype": "text/x-python",
   "name": "python",
   "nbconvert_exporter": "python",
   "pygments_lexer": "ipython2",
   "version": "2.7.6"
  }
 },
 "nbformat": 4,
 "nbformat_minor": 0
}
