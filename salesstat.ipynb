{
 "cells": [
  {
   "cell_type": "code",
   "execution_count": 15,
   "metadata": {
    "collapsed": false
   },
   "outputs": [
    {
     "name": "stdout",
     "output_type": "stream",
     "text": [
      "['index', '商品全名', '条码', '分析编码', '品牌分类', '品牌名称', '重点品项', '推广等级', '单价']\n"
     ]
    },
    {
     "name": "stdout",
     "output_type": "stream",
     "text": [
      "1398531\n                日期 业务主管                 销售单号  订单单号   单据类型  \\\n1398526 2012-11-30   黄琦  XT-2012-11-30-00009  None  销售退货单   \n1398527 2012-11-30   黄琦  XT-2012-11-30-00009  None  销售退货单   \n1398528 2012-11-30   黄琦  XT-2012-11-30-00009  None  销售退货单   \n1398529 2012-11-30   黄琦  XT-2012-11-30-00009  None  销售退货单   \n1398530 2012-11-30   黄琦  XT-2012-11-30-00009  None  销售退货单   \n\n                                                      摘要  \\\n1398526  【联合一百湖工大学生超市 13207179589】销售退货【渔米之湘香酥麻辣鱼80g】等:黄琦   \n1398527  【联合一百湖工大学生超市 13207179589】销售退货【渔米之湘香酥麻辣鱼80g】等:黄琦   \n1398528  【联合一百湖工大学生超市 13207179589】销售退货【渔米之湘香酥麻辣鱼80g】等:黄琦   \n1398529  【联合一百湖工大学生超市 13207179589】销售退货【渔米之湘香酥麻辣鱼80g】等:黄琦   \n1398530  【联合一百湖工大学生超市 13207179589】销售退货【渔米之湘香酥麻辣鱼80g】等:黄琦   \n\n                              客户               编码          商品全名   数量    单价  \\\n1398526  联合一百湖工大学生超市 13207179589  0810036HG01AXXC  渔米之湘广东盐焗鱼50g -2.0  2.30   \n1398527  联合一百湖工大学生超市 13207179589  0810036HG01AXXC  创食人武汉黑鸭鸭脖33g -1.0  1.60   \n1398528  联合一百湖工大学生超市 13207179589  0810036HG01AXXC    好棒美香辣鸭脖10g -1.0  0.80   \n1398529  联合一百湖工大学生超市 13207179589  0810036HG01AXXC    醉吃香麻辣豆干80g -1.0  1.50   \n1398530  联合一百湖工大学生超市 13207179589  0810036HG01AXXC   阿林奶油西瓜子（盒装） -2.0  0.27   \n\n           金额  大区   小区  分部 类型    品牌     品牌分类  \n1398526 -4.60  08  081  二部  A  渔米之湘   渔米之湘袋鱼  \n1398527 -1.60  08  081  二部  A   创食人  创食人盒荤鸭脖  \n1398528 -0.80  08  081  二部  A   好棒美     好棒美盒  \n1398529 -1.50  08  081  二部  A   醉吃香    醉吃香袋素  \n1398530 -0.54  08  081  二部  A    阿林       阿林  \n日期      datetime64[ns]\n业务主管            object\n销售单号            object\n订单单号            object\n单据类型            object\n摘要              object\n客户              object\n编码              object\n商品全名            object\n数量             float64\n单价             float64\n金额             float64\n大区              object\n小区              object\n分部              object\n类型              object\n品牌              object\n品牌分类            object\ndtype: object\nIndex(['日期', '业务主管', '销售单号', '订单单号', '单据类型', '摘要', '客户', '编码', '商品全名', '数量',\n       '单价', '金额', '大区', '小区', '分部', '类型', '品牌', '品牌分类'],\n      dtype='object')\n"
     ]
    },
    {
     "name": "stdout",
     "output_type": "stream",
     "text": [
      "<class 'pandas.core.frame.DataFrame'>\nRangeIndex: 1398531 entries, 0 to 1398530\nData columns (total 18 columns):\n日期      1398531 non-null datetime64[ns]\n业务主管    1398531 non-null object\n销售单号    1398531 non-null object\n订单单号    1197044 non-null object\n单据类型    1369782 non-null object\n摘要      1368335 non-null object\n客户      1398531 non-null object\n编码      1398531 non-null object\n商品全名    1398531 non-null object\n数量      1398531 non-null float64\n单价      1397657 non-null float64\n金额      1397657 non-null float64\n大区      1398531 non-null object\n小区      1398531 non-null object\n分部      1398531 non-null object\n类型      1398531 non-null object\n品牌      1398531 non-null object\n品牌分类    1398531 non-null object\ndtypes: datetime64[ns](1), float64(3), object(14)\nmemory usage: 192.1+ MB\nNone\n(1398531, 18)\n"
     ]
    },
    {
     "name": "stdout",
     "output_type": "stream",
     "text": [
      "                 数量            单价            金额\ncount  1.398531e+06  1.397657e+06  1.397657e+06\nmean   3.601970e+01  1.559901e+00  3.836879e+01\nstd    1.999320e+02  1.545035e+00  1.797522e+02\nmin   -4.860000e+03  0.000000e+00 -1.050000e+04\n25%    1.000000e+01  7.500000e-01  1.500000e+01\n50%    2.000000e+01  1.500000e+00  2.300000e+01\n75%    3.000000e+01  1.800000e+00  3.750000e+01\nmax    2.800000e+04  8.800000e+01  3.500000e+04\n"
     ]
    },
    {
     "name": "stdout",
     "output_type": "stream",
     "text": [
      "1491\n                       日期       销售额\n1486  2017-10-18 00:00:00  15216.83\n1487  2017-10-19 00:00:00  41283.50\n1488  2017-10-20 00:00:00  50497.69\n1489  2017-10-21 00:00:00  25043.00\n1490  2017-10-23 00:00:00  54757.04\n日期      object\n销售额    float64\ndtype: object\nIndex(['日期', '销售额'], dtype='object')\n"
     ]
    },
    {
     "name": "stdout",
     "output_type": "stream",
     "text": [
      "<class 'pandas.core.frame.DataFrame'>\nRangeIndex: 1491 entries, 0 to 1490\nData columns (total 2 columns):\n日期     1491 non-null object\n销售额    1491 non-null float64\ndtypes: float64(1), object(1)\nmemory usage: 23.4+ KB\nNone\n(1491, 2)\n                 销售额\ncount    1491.000000\nmean    35966.738638\nstd     19548.012352\nmin    -10500.000000\n25%     24121.400000\n50%     33557.880000\n75%     45406.955000\nmax    154771.150000\n"
     ]
    }
   ],
   "source": [
    "# 关联客户信息和产品信息\n",
    "from imp4nb import *\n",
    "\n",
    "cnx = lite.connect('data\\\\quandan.db')\n",
    "# desclitedb(cnx)\n",
    "\n",
    "cur = cnx.cursor()\n",
    "result = cur.execute('select * from product')\n",
    "colnames = [tuple1[0] for tuple1 in result.description]\n",
    "print(colnames)\n",
    "# print(result.fetchone()[0])\n",
    "\n",
    "df = pd.read_sql_query(\n",
    "    \"select 日期,职员名称 as 业务主管,单据编号 as 销售单号,商品备注 as 订单单号,单据类型,摘要,xiaoshoumingxi.单位全名 as 客户,customer.往来单位编号 as 编码,\"\n",
    "    \"xiaoshoumingxi.商品全名 as 商品全名,数量,xiaoshoumingxi.单价,金额,substr(customer.往来单位编号,1,2) as 大区 ,\"\n",
    "    \"substr(customer.往来单位编号,1,3) as 小区 ,quyu.分部 as 分部,\"\n",
    "    \"substr(customer.往来单位编号,12,1) as 类型,product.品牌名称  as 品牌 ,product.品牌分类  as 品牌分类 from xiaoshoumingxi,\"\n",
    "    \"customer,product,quyu where (customer.往来单位 = xiaoshoumingxi.单位全名)  and (大区 = quyu.区域) \"\n",
    "    \"and (product.商品全名 = xiaoshoumingxi.商品全名) order by 日期 desc\", cnx,parse_dates=['日期'])\n",
    "descdb(df)\n",
    "cnx.close()\n",
    "\n",
    "cnm = lite.connect(\":memory:\")\n",
    "df['日期'] = df['日期'].apply(lambda x: pd.to_datetime(x))\n",
    "df.to_sql('alldata',cnm)\n",
    "df = pd.read_sql_query('select 日期,sum(金额) as 销售额 from alldata group by 日期',cnm)\n",
    "descdb(df)\n",
    "\n",
    "cnm.close()"
   ]
  },
  {
   "cell_type": "code",
   "execution_count": 2,
   "metadata": {},
   "outputs": [
    {
     "name": "stdout",
     "output_type": "stream",
     "text": [
      "[]\n"
     ]
    }
   ],
   "source": [
    "from imp4nb import *\n",
    "\n",
    "cnx = lite.connect('data\\\\quandan.db')\n",
    "\n",
    "df = pd.read_sql_query('select * from xiaoshoumingxi',cnx)\n",
    "# descdb(df)\n",
    "\n",
    "dfcm = df.duplicated()\n",
    "print(list(dfcm[dfcm == True].index))\n",
    "df =df.drop_duplicates()\n",
    "# descdb(df)\n",
    "\n",
    "cnx.close()"
   ]
  },
  {
   "cell_type": "code",
   "execution_count": null,
   "metadata": {},
   "outputs": [],
   "source": []
  }
 ],
 "metadata": {
  "kernelspec": {
   "display_name": "Python 2",
   "language": "python",
   "name": "python2"
  },
  "language_info": {
   "codemirror_mode": {
    "name": "ipython",
    "version": 2
   },
   "file_extension": ".py",
   "mimetype": "text/x-python",
   "name": "python",
   "nbconvert_exporter": "python",
   "pygments_lexer": "ipython2",
   "version": "2.7.6"
  }
 },
 "nbformat": 4,
 "nbformat_minor": 0
}
