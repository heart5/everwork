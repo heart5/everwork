{
 "cells": [
  {
   "cell_type": "code",
   "execution_count": 1,
   "metadata": {},
   "outputs": [
    {
     "name": "stdout",
     "output_type": "stream",
     "text": [
      "1407895\n           index                   日期 业务主管                 销售单号  订单单号   单据类型  \\\n1407890  1407890  2012-11-30 00:00:00   黄琦  XT-2012-11-30-00009  None  销售退货单   \n1407891  1407891  2012-11-30 00:00:00   黄琦  XT-2012-11-30-00009  None  销售退货单   \n1407892  1407892  2012-11-30 00:00:00   黄琦  XT-2012-11-30-00009  None  销售退货单   \n1407893  1407893  2012-11-30 00:00:00   黄琦  XT-2012-11-30-00009  None  销售退货单   \n1407894  1407894  2012-11-30 00:00:00   黄琦  XT-2012-11-30-00009  None  销售退货单   \n\n                                                      摘要  \\\n1407890  【联合一百湖工大学生超市 13207179589】销售退货【渔米之湘香酥麻辣鱼80g】等:黄琦   \n1407891  【联合一百湖工大学生超市 13207179589】销售退货【渔米之湘香酥麻辣鱼80g】等:黄琦   \n1407892  【联合一百湖工大学生超市 13207179589】销售退货【渔米之湘香酥麻辣鱼80g】等:黄琦   \n1407893  【联合一百湖工大学生超市 13207179589】销售退货【渔米之湘香酥麻辣鱼80g】等:黄琦   \n1407894  【联合一百湖工大学生超市 13207179589】销售退货【渔米之湘香酥麻辣鱼80g】等:黄琦   \n\n                              客户               编码          商品全名   数量    单价  \\\n1407890  联合一百湖工大学生超市 13207179589  0810036HG01AXXC  渔米之湘广东盐焗鱼50g -2.0  2.30   \n1407891  联合一百湖工大学生超市 13207179589  0810036HG01AXXC  创食人武汉黑鸭鸭脖33g -1.0  1.60   \n1407892  联合一百湖工大学生超市 13207179589  0810036HG01AXXC    好棒美香辣鸭脖10g -1.0  0.80   \n1407893  联合一百湖工大学生超市 13207179589  0810036HG01AXXC    醉吃香麻辣豆干80g -1.0  1.50   \n1407894  联合一百湖工大学生超市 13207179589  0810036HG01AXXC   阿林奶油西瓜子（盒装） -2.0  0.27   \n\n           金额  大区   小区 类型编码  客户类型          仓库    品牌     品牌分类  \n1407890 -4.60  08  081    A  终端客户  仓库（南湖金地B1）  渔米之湘   渔米之湘袋鱼  \n1407891 -1.60  08  081    A  终端客户  仓库（南湖金地B1）   创食人  创食人盒荤鸭脖  \n1407892 -0.80  08  081    A  终端客户  仓库（南湖金地B1）   好棒美     好棒美盒  \n1407893 -1.50  08  081    A  终端客户  仓库（南湖金地B1）   醉吃香    醉吃香袋素  \n1407894 -0.54  08  081    A  终端客户  仓库（南湖金地B1）    阿林       阿林  \nindex      int64\n日期        object\n业务主管      object\n销售单号      object\n订单单号      object\n单据类型      object\n摘要        object\n客户        object\n编码        object\n商品全名      object\n数量       float64\n单价       float64\n金额       float64\n大区        object\n小区        object\n类型编码      object\n客户类型      object\n仓库        object\n品牌        object\n品牌分类      object\ndtype: object\nIndex(['index', '日期', '业务主管', '销售单号', '订单单号', '单据类型', '摘要', '客户', '编码', '商品全名',\n       '数量', '单价', '金额', '大区', '小区', '类型编码', '客户类型', '仓库', '品牌', '品牌分类'],\n      dtype='object')\n"
     ]
    },
    {
     "name": "stdout",
     "output_type": "stream",
     "text": [
      "<class 'pandas.core.frame.DataFrame'>\nRangeIndex: 1407895 entries, 0 to 1407894\nData columns (total 20 columns):\nindex    1407895 non-null int64\n日期       1407895 non-null object\n业务主管     1407895 non-null object\n销售单号     1407748 non-null object\n订单单号     1203585 non-null object\n单据类型     1378797 non-null object\n摘要       1377364 non-null object\n客户       1407895 non-null object\n编码       1407895 non-null object\n商品全名     1407895 non-null object\n数量       1407895 non-null float64\n单价       1407021 non-null float64\n金额       1407021 non-null float64\n大区       1407895 non-null object\n小区       1407895 non-null object\n类型编码     1407895 non-null object\n客户类型     1407895 non-null object\n仓库       1407726 non-null object\n品牌       1407895 non-null object\n品牌分类     1407895 non-null object\ndtypes: float64(3), int64(1), object(16)\nmemory usage: 214.8+ MB\nNone\n(1407895, 20)\n"
     ]
    },
    {
     "name": "stdout",
     "output_type": "stream",
     "text": [
      "              index            数量            单价            金额\ncount  1.407895e+06  1.407895e+06  1.407021e+06  1.407021e+06\nmean   7.039470e+05  3.725578e+01  1.566409e+00  3.963854e+01\nstd    4.064244e+05  2.316851e+02  1.626280e+00  2.052122e+02\nmin    0.000000e+00 -4.860000e+03  0.000000e+00 -1.050000e+04\n25%    3.519735e+05  1.000000e+01  7.500000e-01  1.500000e+01\n50%    7.039470e+05  2.000000e+01  1.500000e+00  2.300000e+01\n75%    1.055920e+06  3.000000e+01  1.800000e+00  3.800000e+01\nmax    1.407894e+06  8.000000e+04  8.800000e+01  5.571400e+04\n起始：0.000000，读取数据构建DataFrame：11.320549，描述DataFrame：1.543681。\n"
     ]
    }
   ],
   "source": [
    "from imp4nb import *\n",
    "\n",
    "cnx = lite.connect('data\\\\quandan.db')\n",
    "\n",
    "start = time.clock()\n",
    "df = pd.read_sql_query('select * from alldata',cnx)\n",
    "finish1 = time.clock()\n",
    "descdb(df)\n",
    "finish2 = time.clock()\n",
    "\n",
    "print(\"起始：%f，读取数据构建DataFrame：%f，描述DataFrame：%f。\" %(start,finish1-start,finish2-finish1))\n",
    "\n",
    "# dfcm = df.duplicated()\n",
    "# print(list(dfcm[dfcm == True].index))\n",
    "# df =df.drop_duplicates()\n",
    "# descdb(df)\n",
    "\n",
    "cnx.close()"
   ]
  },
  {
   "cell_type": "code",
   "execution_count": 6,
   "metadata": {
    "collapsed": false
   },
   "outputs": [
    {
     "name": "stderr",
     "output_type": "stream",
     "text": [
      "2017-12-25 01:09:51,180\tewer        : INFO     数据表“销售明细”中有1444120条记录\n"
     ]
    },
    {
     "name": "stderr",
     "output_type": "stream",
     "text": [
      "2017-12-25 01:11:28,556\tewer        : INFO     数据表“销售明细”和“客户”、“品牌”、“区域”关联后有效记录数为：1444120条\n"
     ]
    },
    {
     "name": "stderr",
     "output_type": "stream",
     "text": [
      "2017-12-25 01:12:58,179\tewer        : DEBUG    处理关联客户品牌区域等信息的数据表，把‘日期’处理成了日期格式\n"
     ]
    },
    {
     "name": "stderr",
     "output_type": "stream",
     "text": [
      "2017-12-25 01:22:45,570\tewer        : INFO     把关联并规整后的数据写入了“alldata”数据表\n"
     ]
    },
    {
     "name": "stdout",
     "output_type": "stream",
     "text": [
      "起始时间：6572.674710，从销售明细读取所有记录获取记录数：81.736487；关联客户、品牌和区域信息获得处理后的记录：97.349337；处理日期列：89.625873；写入内存数据库：587.361965；从存储数据库读取汇总销售数据：1.058238。\n"
     ]
    }
   ],
   "source": [
    "# 关联客户信息和产品信息\n",
    "from imp4nb import *\n",
    "\n",
    "cnx = lite.connect('data\\\\quandan.db')\n",
    "# desclitedb(cnx)\n",
    "\n",
    "# cur = cnx.cursor()\n",
    "# result = cur.execute('select * from xiaoshoumingxi')\n",
    "# colnames = [tuple1[0] for tuple1 in result.description]\n",
    "# print(colnames)\n",
    "# print(len(result.fetchall()))\n",
    "# print(result.fetchone()[0])\n",
    "\n",
    "# df = pd.read_sql_query(\n",
    "#     \"select 日期,职员名称 as 业务主管,单据编号 as 销售单号,商品备注 as 订单单号,单据类型,摘要,xiaoshoumingxi.单位全名 as 客户,customer.往来单位编号 as 编码,\"\n",
    "#     \"xiaoshoumingxi.商品全名 as 商品全名,数量,xiaoshoumingxi.单价,金额,substr(customer.往来单位编号,1,2) as 大区 ,\"\n",
    "#     \"substr(customer.往来单位编号,1,3) as 小区 ,quyu.分部 as 分部,\"\n",
    "#     \"substr(customer.往来单位编号,12,1) as 类型编码,leixing.类型 as 客户类型, product.品牌名称  as 品牌 ,product.品牌分类  as 品牌分类 from xiaoshoumingxi,\"\n",
    "#     \"customer,product,quyu,leixing where (customer.往来单位 = xiaoshoumingxi.单位全名)  and (大区 = quyu.区域) \"\n",
    "#     \"and (product.商品全名 = xiaoshoumingxi.商品全名) and (类型编码 = leixing.编码) order by 日期 desc\", cnx,parse_dates=['日期'])\n",
    "tm0 = time.clock()\n",
    "\n",
    "df = pd.read_sql_query(\"select * from xiaoshoumingxi\",cnx)\n",
    "# descdb(df)\n",
    "log.info('数据表“销售明细”中有%d条记录' %(len(df)))\n",
    "tm1 = time.clock()\n",
    "\n",
    "df = pd.read_sql_query(\n",
    "    \"select 日期,职员名称 as 业务主管,单据编号 as 销售单号,商品备注 as 订单单号,单据类型,摘要,xiaoshoumingxi.单位全名 as 客户,customer.往来单位编号 as 编码,\"\n",
    "    \"xiaoshoumingxi.商品全名 as 商品全名,数量,xiaoshoumingxi.单价,金额,substr(customer.往来单位编号,1,2) as 大区 ,\"\n",
    "    \"substr(customer.往来单位编号,1,3) as 小区 ,quyu.分部 as 分部,\"\n",
    "    \"substr(customer.往来单位编号,12,1) as 类型编码, product.品牌名称  as 品牌 ,product.品牌分类  as 品牌分类 from xiaoshoumingxi,\"\n",
    "    \"customer,product,quyu where (customer.往来单位 = xiaoshoumingxi.单位全名)  and (大区 = quyu.区域) \"\n",
    "    \"and (product.商品全名 = xiaoshoumingxi.商品全名) order by 日期 desc\", cnx)\n",
    "# descdb(df)\n",
    "log.info('数据表“销售明细”和“客户”、“品牌”、“区域”关联后有效记录数为：%d条' %(len(df)))\n",
    "tm2 = time.clock()\n",
    "\n",
    "df['日期'] = df['日期'].apply(lambda x: pd.to_datetime(x))\n",
    "log.debug('处理关联客户品牌区域等信息的数据表，把‘日期’处理成了日期格式')\n",
    "tm3 = time.clock()\n",
    "\n",
    "# cnm = lite.connect(\":memory:\")\n",
    "# df.to_sql(name='alldata', con=cnx, if_exists='replace',chunksize=50000)\n",
    "df.to_sql(name='alldata', con=cnx, if_exists='replace')\n",
    "log.info('把关联并规整后的数据写入了“alldata”数据表')\n",
    "# cnm.close()\n",
    "tm4 = time.clock()\n",
    "\n",
    "df = pd.read_sql_query('select 日期,sum(金额) as 销售额 from alldata group by 日期',cnx)\n",
    "# descdb(df)\n",
    "tm5 = time.clock()\n",
    "\n",
    "cnx.close()\n",
    "\n",
    "print(\"起始时间：%f，从销售明细读取所有记录获取记录数：%f；\"\n",
    "      \"关联客户、品牌和区域信息获得处理后的记录：%f；\"\n",
    "      \"处理日期列：%f；\"\n",
    "      \"写入内存数据库：%f；\"\n",
    "      \"从存储数据库读取汇总销售数据：%f。\" %(tm0,tm1-tm0,tm2-tm1,tm3-tm2,tm4-tm3,tm5-tm4))\n"
   ]
  },
  {
   "cell_type": "code",
   "execution_count": 3,
   "metadata": {},
   "outputs": [
    {
     "name": "stdout",
     "output_type": "stream",
     "text": [
      "1444120\n"
     ]
    },
    {
     "name": "stdout",
     "output_type": "stream",
     "text": [
      "1434642\n"
     ]
    }
   ],
   "source": [
    "from imp4nb import *\n",
    "\n",
    "cnx = lite.connect('data\\\\quandan.db')\n",
    "\n",
    "df = pd.read_sql_query(\"select * from xiaoshoumingxi\",cnx)\n",
    "print(len(df))\n",
    "\n",
    "df = pd.read_sql_query(\"select * from alldata\",cnx)\n",
    "print(len(df))\n",
    "\n",
    "\n",
    "cnx.close()"
   ]
  },
  {
   "cell_type": "code",
   "execution_count": null,
   "metadata": {},
   "outputs": [],
   "source": []
  }
 ],
 "metadata": {
  "kernelspec": {
   "display_name": "Python 2",
   "language": "python",
   "name": "python2"
  },
  "language_info": {
   "codemirror_mode": {
    "name": "ipython",
    "version": 2
   },
   "file_extension": ".py",
   "mimetype": "text/x-python",
   "name": "python",
   "nbconvert_exporter": "python",
   "pygments_lexer": "ipython2",
   "version": "2.7.6"
  }
 },
 "nbformat": 4,
 "nbformat_minor": 0
}
