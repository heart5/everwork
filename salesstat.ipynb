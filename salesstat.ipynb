{
 "cells": [
  {
   "cell_type": "code",
   "execution_count": null,
   "metadata": {
    "collapsed": false
   },
   "outputs": [],
   "source": [
    "# 关联客户信息和产品信息\n",
    "from imp4nb import *\n",
    "\n",
    "cnx = lite.connect('data\\\\quandan.db')\n",
    "# desclitedb(cnx)\n",
    "\n",
    "# cur = cnx.cursor()\n",
    "# result = cur.execute('select * from xiaoshoumingxi')\n",
    "# colnames = [tuple1[0] for tuple1 in result.description]\n",
    "# print(colnames)\n",
    "# print(len(result.fetchall()))\n",
    "# print(result.fetchone()[0])\n",
    "\n",
    "# df = pd.read_sql_query(\n",
    "#     \"select 日期,职员名称 as 业务主管,单据编号 as 销售单号,商品备注 as 订单单号,单据类型,摘要,xiaoshoumingxi.单位全名 as 客户,customer.往来单位编号 as 编码,\"\n",
    "#     \"xiaoshoumingxi.商品全名 as 商品全名,数量,xiaoshoumingxi.单价,金额,substr(customer.往来单位编号,1,2) as 大区 ,\"\n",
    "#     \"substr(customer.往来单位编号,1,3) as 小区 ,quyu.分部 as 分部,\"\n",
    "#     \"substr(customer.往来单位编号,12,1) as 类型编码,leixing.类型 as 客户类型, product.品牌名称  as 品牌 ,product.品牌分类  as 品牌分类 from xiaoshoumingxi,\"\n",
    "#     \"customer,product,quyu,leixing where (customer.往来单位 = xiaoshoumingxi.单位全名)  and (大区 = quyu.区域) \"\n",
    "#     \"and (product.商品全名 = xiaoshoumingxi.商品全名) and (类型编码 = leixing.编码) order by 日期 desc\", cnx,parse_dates=['日期'])\n",
    "tm0 = time.clock()\n",
    "\n",
    "df = pd.read_sql_query(\"select * from xiaoshoumingxi\",cnx)\n",
    "# descdb(df)\n",
    "tm1 = time.clock()\n",
    "\n",
    "df = pd.read_sql_query(\n",
    "    \"select 日期,职员名称 as 业务主管,单据编号 as 销售单号,商品备注 as 订单单号,单据类型,摘要,xiaoshoumingxi.单位全名 as 客户,customer.往来单位编号 as 编码,\"\n",
    "    \"xiaoshoumingxi.商品全名 as 商品全名,数量,xiaoshoumingxi.单价,金额,substr(customer.往来单位编号,1,2) as 大区 ,\"\n",
    "    \"substr(customer.往来单位编号,1,3) as 小区 ,quyu.分部 as 分部,\"\n",
    "    \"substr(customer.往来单位编号,12,1) as 类型编码, product.品牌名称  as 品牌 ,product.品牌分类  as 品牌分类 from xiaoshoumingxi,\"\n",
    "    \"customer,product,quyu where (customer.往来单位 = xiaoshoumingxi.单位全名)  and (大区 = quyu.区域) \"\n",
    "    \"and (product.商品全名 = xiaoshoumingxi.商品全名) order by 日期 desc\", cnx)\n",
    "# descdb(df)\n",
    "tm2 = time.clock()\n",
    "\n",
    "df['日期'] = df['日期'].apply(lambda x: pd.to_datetime(x))\n",
    "tm3 = time.clock()\n",
    "\n",
    "cnm = lite.connect(\":memory:\")\n",
    "df.to_sql(name='alldata', con=cnx, if_exists='replace',chunksize=50000)\n",
    "cnm.close()\n",
    "tm4 = time.clock()\n",
    "\n",
    "df = pd.read_sql_query('select 日期,sum(金额) as 销售额 from alldata group by 日期',cnx)\n",
    "# descdb(df)\n",
    "tm5 = time.clock()\n",
    "\n",
    "cnx.close()\n",
    "\n",
    "print(\"起始时间：%f，从销售明细读取所有记录获取记录数：%f；\"\n",
    "      \"关联客户、品牌和区域信息获得处理后的记录：%f；\"\n",
    "      \"处理日期列：%f；\"\n",
    "      \"写入内存数据库：%f；\"\n",
    "      \"从存储数据库读取汇总销售数据：%f。\" %(tm0,tm1-tm0,tm2-tm1,tm3-tm2,tm4-tm3,tm5-tm4))\n"
   ]
  },
  {
   "cell_type": "code",
   "execution_count": 3,
   "metadata": {},
   "outputs": [
    {
     "name": "stdout",
     "output_type": "stream",
     "text": [
      "1407895\n         index                   日期                 单据编号   单据类型 职员名称    摘要  \\\n1407890   3167  2017-10-23 00:00:00  XT-2017-10-23-00074  销售退货单  朱经伦  None   \n1407891   3168  2017-10-23 00:00:00  XT-2017-10-23-00074  销售退货单  朱经伦  None   \n1407892   3169  2017-10-23 00:00:00  XT-2017-10-23-00074  销售退货单  朱经伦  None   \n1407893   3170  2017-10-23 00:00:00  XT-2017-10-23-00074  销售退货单  朱经伦  None   \n1407894   3171  2017-10-23 00:00:00  XT-2017-10-23-00074  销售退货单  朱经伦  None   \n\n           备注  商品备注           商品编号            商品全名    单价 单位   数量     金额  \\\n1407890  None  None  6955504222608  抓鱼的猫盒（烧烤鱿鱼）13g  0.80  袋 -1.0  -0.80   \n1407891  None  None  6952522000140      醉吃香山椒凤爪90g  3.20  袋 -3.0  -9.60   \n1407892  None  None  6951957205816    劲仔盒鱼（酸菜味）12g  0.75  袋 -9.0  -6.75   \n1407893  None  None  6951957202143   劲仔袋中袋鱼麻辣《50g》  5.00  袋 -4.0 -20.00   \n1407894  None  None  6951957202136   劲仔袋中袋鱼香辣《50g》  5.00  袋 -3.0 -15.00   \n\n                       单位全名      仓库全名  部门全名  \n1407890  丰毅超市 13429886858 *  仓库（毛坦港湾）  汉阳分部  \n1407891  丰毅超市 13429886858 *  仓库（毛坦港湾）  汉阳分部  \n1407892  丰毅超市 13429886858 *  仓库（毛坦港湾）  汉阳分部  \n1407893  丰毅超市 13429886858 *  仓库（毛坦港湾）  汉阳分部  \n1407894  丰毅超市 13429886858 *  仓库（毛坦港湾）  汉阳分部  \nindex      int64\n日期        object\n单据编号      object\n单据类型      object\n职员名称      object\n摘要        object\n备注        object\n商品备注      object\n商品编号      object\n商品全名      object\n单价       float64\n单位        object\n数量       float64\n金额       float64\n单位全名      object\n仓库全名      object\n部门全名      object\ndtype: object\nIndex(['index', '日期', '单据编号', '单据类型', '职员名称', '摘要', '备注', '商品备注', '商品编号',\n       '商品全名', '单价', '单位', '数量', '金额', '单位全名', '仓库全名', '部门全名'],\n      dtype='object')\n"
     ]
    },
    {
     "name": "stdout",
     "output_type": "stream",
     "text": [
      "<class 'pandas.core.frame.DataFrame'>\nRangeIndex: 1407895 entries, 0 to 1407894\nData columns (total 17 columns):\nindex    1407895 non-null int64\n日期       1407895 non-null object\n单据编号     1407748 non-null object\n单据类型     1378797 non-null object\n职员名称     1407895 non-null object\n摘要       1377364 non-null object\n备注       1121 non-null object\n商品备注     1203585 non-null object\n商品编号     1407895 non-null object\n商品全名     1407895 non-null object\n单价       1407021 non-null float64\n单位       1406663 non-null object\n数量       1407895 non-null float64\n金额       1407021 non-null float64\n单位全名     1407895 non-null object\n仓库全名     1407726 non-null object\n部门全名     1407719 non-null object\ndtypes: float64(3), int64(1), object(13)\nmemory usage: 182.6+ MB\nNone\n(1407895, 17)\n"
     ]
    },
    {
     "name": "stdout",
     "output_type": "stream",
     "text": [
      "              index            单价            数量            金额\ncount  1.407895e+06  1.407021e+06  1.407895e+06  1.407021e+06\nmean   6.598455e+05  1.566409e+00  3.725578e+01  3.963854e+01\nstd    4.046364e+05  1.626280e+00  2.316851e+02  2.052122e+02\nmin    0.000000e+00  0.000000e+00 -4.860000e+03 -1.050000e+04\n25%    3.067835e+05  7.500000e-01  1.000000e+01  1.500000e+01\n50%    6.587570e+05  1.500000e+00  2.000000e+01  2.300000e+01\n75%    1.010730e+06  1.800000e+00  3.000000e+01  3.800000e+01\nmax    1.362704e+06  8.800000e+01  8.000000e+04  5.571400e+04\n起始：167.782680，读取数据构建DataFrame：65.849204，描述DataFrame：67.233739。\n"
     ]
    }
   ],
   "source": [
    "from imp4nb import *\n",
    "\n",
    "cnx = lite.connect('data\\\\quandan.db')\n",
    "\n",
    "start = time.clock()\n",
    "df = pd.read_sql_query('select * from xiaoshoumingxi',cnx)\n",
    "finish1 = time.clock()\n",
    "descdb(df)\n",
    "finish2 = time.clock()\n",
    "\n",
    "print(\"起始：%f，读取数据构建DataFrame：%f，描述DataFrame：%f。\" %(start,finish1-start,finish2-finish1))\n",
    "\n",
    "# dfcm = df.duplicated()\n",
    "# print(list(dfcm[dfcm == True].index))\n",
    "# df =df.drop_duplicates()\n",
    "# descdb(df)\n",
    "\n",
    "cnx.close()"
   ]
  },
  {
   "cell_type": "code",
   "execution_count": null,
   "metadata": {},
   "outputs": [],
   "source": []
  }
 ],
 "metadata": {
  "kernelspec": {
   "display_name": "Python 2",
   "language": "python",
   "name": "python2"
  },
  "language_info": {
   "codemirror_mode": {
    "name": "ipython",
    "version": 2
   },
   "file_extension": ".py",
   "mimetype": "text/x-python",
   "name": "python",
   "nbconvert_exporter": "python",
   "pygments_lexer": "ipython2",
   "version": "2.7.6"
  }
 },
 "nbformat": 4,
 "nbformat_minor": 0
}
