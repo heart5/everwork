{
 "cells": [
  {
   "cell_type": "code",
   "execution_count": 5,
   "metadata": {
    "collapsed": false
   },
   "outputs": [
    {
     "ename": "TypeError",
     "evalue": "object of type 'generator' has no len()",
     "traceback": [
      "\u001b[1;31m---------------------------------------------------------------------------\u001b[0m",
      "\u001b[1;31mTypeError\u001b[0m                                 Traceback (most recent call last)",
      "\u001b[1;32m<ipython-input-5-8c58c65c067e>\u001b[0m in \u001b[0;36m<module>\u001b[1;34m()\u001b[0m\n\u001b[0;32m     20\u001b[0m \u001b[1;31m#     \"and (product.商品全名 = xiaoshoumingxi.商品全名) and (类型编码 = leixing.编码) order by 日期 desc\", cnx,parse_dates=['日期'])\u001b[0m\u001b[1;33m\u001b[0m\u001b[1;33m\u001b[0m\u001b[0m\n\u001b[0;32m     21\u001b[0m \u001b[0mdf\u001b[0m \u001b[1;33m=\u001b[0m \u001b[0mpd\u001b[0m\u001b[1;33m.\u001b[0m\u001b[0mread_sql_query\u001b[0m\u001b[1;33m(\u001b[0m\u001b[1;34m\"select * from xiaoshoumingxi\"\u001b[0m\u001b[1;33m,\u001b[0m\u001b[0mcnx\u001b[0m\u001b[1;33m,\u001b[0m\u001b[0mchunksize\u001b[0m\u001b[1;33m=\u001b[0m\u001b[1;36m10000\u001b[0m\u001b[1;33m)\u001b[0m\u001b[1;33m\u001b[0m\u001b[0m\n\u001b[1;32m---> 22\u001b[1;33m \u001b[0mdescdb\u001b[0m\u001b[1;33m(\u001b[0m\u001b[0mdf\u001b[0m\u001b[1;33m)\u001b[0m\u001b[1;33m\u001b[0m\u001b[0m\n\u001b[0m\u001b[0;32m     23\u001b[0m \u001b[1;33m\u001b[0m\u001b[0m\n\u001b[0;32m     24\u001b[0m df = pd.read_sql_query(\n",
      "\u001b[1;32mC:\\Users\\dell\\PycharmProjects\\everwork\\imp4nb.py\u001b[0m in \u001b[0;36mdescdb\u001b[1;34m(df)\u001b[0m\n\u001b[0;32m     17\u001b[0m \u001b[1;31m# df，DataFrame或Series\u001b[0m\u001b[1;33m\u001b[0m\u001b[1;33m\u001b[0m\u001b[0m\n\u001b[0;32m     18\u001b[0m \u001b[1;32mdef\u001b[0m \u001b[0mdescdb\u001b[0m\u001b[1;33m(\u001b[0m\u001b[0mdf\u001b[0m\u001b[1;33m)\u001b[0m\u001b[1;33m:\u001b[0m\u001b[1;33m\u001b[0m\u001b[0m\n\u001b[1;32m---> 19\u001b[1;33m     \u001b[0mprint\u001b[0m\u001b[1;33m(\u001b[0m\u001b[0mlen\u001b[0m\u001b[1;33m(\u001b[0m\u001b[0mdf\u001b[0m\u001b[1;33m)\u001b[0m\u001b[1;33m)\u001b[0m\u001b[1;33m\u001b[0m\u001b[0m\n\u001b[0m\u001b[0;32m     20\u001b[0m     \u001b[1;31m# print(df.head(5))\u001b[0m\u001b[1;33m\u001b[0m\u001b[1;33m\u001b[0m\u001b[0m\n\u001b[0;32m     21\u001b[0m     \u001b[0mprint\u001b[0m\u001b[1;33m(\u001b[0m\u001b[0mdf\u001b[0m\u001b[1;33m.\u001b[0m\u001b[0mtail\u001b[0m\u001b[1;33m(\u001b[0m\u001b[1;36m5\u001b[0m\u001b[1;33m)\u001b[0m\u001b[1;33m)\u001b[0m\u001b[1;33m\u001b[0m\u001b[0m\n",
      "\u001b[1;31mTypeError\u001b[0m: object of type 'generator' has no len()"
     ],
     "output_type": "error"
    }
   ],
   "source": [
    "# 关联客户信息和产品信息\n",
    "from imp4nb import *\n",
    "\n",
    "cnx = lite.connect('data\\\\quandan.db')\n",
    "# desclitedb(cnx)\n",
    "\n",
    "# cur = cnx.cursor()\n",
    "# result = cur.execute('select * from xiaoshoumingxi')\n",
    "# colnames = [tuple1[0] for tuple1 in result.description]\n",
    "# print(colnames)\n",
    "# print(len(result.fetchall()))\n",
    "# print(result.fetchone()[0])\n",
    "\n",
    "# df = pd.read_sql_query(\n",
    "#     \"select 日期,职员名称 as 业务主管,单据编号 as 销售单号,商品备注 as 订单单号,单据类型,摘要,xiaoshoumingxi.单位全名 as 客户,customer.往来单位编号 as 编码,\"\n",
    "#     \"xiaoshoumingxi.商品全名 as 商品全名,数量,xiaoshoumingxi.单价,金额,substr(customer.往来单位编号,1,2) as 大区 ,\"\n",
    "#     \"substr(customer.往来单位编号,1,3) as 小区 ,quyu.分部 as 分部,\"\n",
    "#     \"substr(customer.往来单位编号,12,1) as 类型编码,leixing.类型 as 客户类型, product.品牌名称  as 品牌 ,product.品牌分类  as 品牌分类 from xiaoshoumingxi,\"\n",
    "#     \"customer,product,quyu,leixing where (customer.往来单位 = xiaoshoumingxi.单位全名)  and (大区 = quyu.区域) \"\n",
    "#     \"and (product.商品全名 = xiaoshoumingxi.商品全名) and (类型编码 = leixing.编码) order by 日期 desc\", cnx,parse_dates=['日期'])\n",
    "df = pd.read_sql_query(\"select * from xiaoshoumingxi\",cnx)\n",
    "descdb(df)\n",
    "\n",
    "df = pd.read_sql_query(\n",
    "    \"select 日期,职员名称 as 业务主管,单据编号 as 销售单号,商品备注 as 订单单号,单据类型,摘要,xiaoshoumingxi.单位全名 as 客户,customer.往来单位编号 as 编码,\"\n",
    "    \"xiaoshoumingxi.商品全名 as 商品全名,数量,xiaoshoumingxi.单价,金额,substr(customer.往来单位编号,1,2) as 大区 ,\"\n",
    "    \"substr(customer.往来单位编号,1,3) as 小区 ,quyu.分部 as 分部,\"\n",
    "    \"substr(customer.往来单位编号,12,1) as 类型编码, product.品牌名称  as 品牌 ,product.品牌分类  as 品牌分类 from xiaoshoumingxi,\"\n",
    "    \"customer,product,quyu where (customer.往来单位 = xiaoshoumingxi.单位全名)  and (大区 = quyu.区域) \"\n",
    "    \"and (product.商品全名 = xiaoshoumingxi.商品全名) order by 日期 desc\", cnx)\n",
    "descdb(df)\n",
    "\n",
    "cnm = lite.connect(\":memory:\")\n",
    "df['日期'] = df['日期'].apply(lambda x: pd.to_datetime(x))\n",
    "df.to_sql(name='alldata', con=cnx, if_exists='replace',chunksize=10000)\n",
    "\n",
    "df = pd.read_sql_query('select 日期,sum(金额) as 销售额 from alldata group by 日期',cnx)\n",
    "descdb(df)\n",
    "\n",
    "cnm.close()\n",
    "cnx.close()\n"
   ]
  },
  {
   "cell_type": "code",
   "execution_count": 5,
   "metadata": {},
   "outputs": [
    {
     "name": "stdout",
     "output_type": "stream",
     "text": [
      "14\n    index 编码    描述    类型\n9       9  L  连锁超市  连锁客户\n10     10  Z  直控连锁  连锁客户\n11     11  G  直销客户  直销客户\n12     12  N    内部  公关客户\n13     13  X  莫名客户  其他客户\nindex     int64\n编码       object\n描述       object\n类型       object\ndtype: object\nIndex(['index', '编码', '描述', '类型'], dtype='object')\n<class 'pandas.core.frame.DataFrame'>\nRangeIndex: 14 entries, 0 to 13\nData columns (total 4 columns):\nindex    14 non-null int64\n编码       14 non-null object\n描述       14 non-null object\n类型       14 non-null object\ndtypes: int64(1), object(3)\nmemory usage: 528.0+ bytes\nNone\n(14, 4)\n         index\ncount  14.0000\nmean    6.5000\nstd     4.1833\nmin     0.0000\n25%     3.2500\n50%     6.5000\n75%     9.7500\nmax    13.0000\n[]\n"
     ]
    }
   ],
   "source": [
    "from imp4nb import *\n",
    "\n",
    "cnx = lite.connect('data\\\\quandan.db')\n",
    "\n",
    "df = pd.read_sql_query('select * from leixing',cnx)\n",
    "descdb(df)\n",
    "\n",
    "dfcm = df.duplicated()\n",
    "print(list(dfcm[dfcm == True].index))\n",
    "df =df.drop_duplicates()\n",
    "# descdb(df)\n",
    "\n",
    "cnx.close()"
   ]
  },
  {
   "cell_type": "code",
   "execution_count": null,
   "metadata": {},
   "outputs": [],
   "source": []
  }
 ],
 "metadata": {
  "kernelspec": {
   "display_name": "Python 2",
   "language": "python",
   "name": "python2"
  },
  "language_info": {
   "codemirror_mode": {
    "name": "ipython",
    "version": 2
   },
   "file_extension": ".py",
   "mimetype": "text/x-python",
   "name": "python",
   "nbconvert_exporter": "python",
   "pygments_lexer": "ipython2",
   "version": "2.7.6"
  }
 },
 "nbformat": 4,
 "nbformat_minor": 0
}
