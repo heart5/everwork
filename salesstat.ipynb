{
 "cells": [
  {
   "cell_type": "code",
   "execution_count": 12,
   "metadata": {},
   "outputs": [
    {
     "name": "stdout",
     "output_type": "stream",
     "text": [
      "<class 'pandas._libs.tslib.Timestamp'>\n2017-12-16 00:00:00\n"
     ]
    },
    {
     "name": "stdout",
     "output_type": "stream",
     "text": [
      "163821\n                         日期      年月             客户编码     金额  区域 类型\n163816  2017-12-16 00:00:00  201712  12300100000SXXD  201.0  12  S\n163817  2017-12-16 00:00:00  201712  12400060000BXXA  128.0  12  B\n163818  2017-12-16 00:00:00  201712  01200570200SXXD  669.0  01  S\n163819  2017-12-16 00:00:00  201712  34100490070SXXD  139.0  34  S\n163820  2017-12-16 00:00:00  201712  26300320000SXXD  462.0  26  S\n日期       object\n年月       object\n客户编码     object\n金额      float64\n区域       object\n类型       object\ndtype: object\nIndex(['日期', '年月', '客户编码', '金额', '区域', '类型'], dtype='object')\n<class 'pandas.core.frame.DataFrame'>\nRangeIndex: 163821 entries, 0 to 163820\nData columns (total 6 columns):\n日期      163821 non-null object\n年月      163821 non-null object\n客户编码    163821 non-null object\n金额      163821 non-null float64\n区域      163821 non-null object\n类型      163821 non-null object\ndtypes: float64(1), object(5)\nmemory usage: 7.5+ MB\nNone\n(163821, 6)\n                  金额\ncount  163821.000000\nmean      350.508092\nstd      1207.893081\nmin    -13080.000000\n25%       107.000000\n50%       179.000000\n75%       311.400000\nmax    136000.000000\n客户编码\n00000010060BXXA      374.20\n00000030020SXXA      160.00\n00000050020SXXA      176.00\n00000290100BXXA      311.70\n00000330150BXXA      189.00\n00000340050SXXA      199.00\n00000360300SXXA      221.00\n00000440030SXXD      631.00\n00000490000SXXD      718.90\n00000540000SXXD      133.00\n00000590000SXXD       77.00\n01100080010SXXA      231.00\n01100340200B03A      220.00\n01100390150SXXC      172.00\n01100410080AXXD      210.00\n01100670050BXXA      135.30\n01100700050SXXA      107.00\n01100720100SXXD      615.00\n01100990020SXXD      268.00\n01101010080SXXD      253.00\n01101030400SXXD      395.00\n01101040080CXXD      132.00\n01101050080SXXD      350.80\n01101060080SXXD     1312.00\n01101140000SXXD      163.00\n01101180000SXXD      300.00\n01101220000SXXD      189.00\n01101290000SXXD      483.92\n01101300000AXXD      291.00\n01101310000SXXD      111.00\n                     ...   \n34100690100SXXD       83.20\n34100710080SXXD      373.00\n34100760100SXXD      480.00\n34100780000SXXD      176.00\n34200080200WXXD      390.00\n34200410000SXXD      714.50\n34200620000SXXD      126.00\n34200650030SXXD      149.00\n34200680030SXXD      105.00\n34200880000SXXC     1065.00\n34300230150SXXD      145.00\n34300380200WXXD      216.00\n34300930050SXXD      347.00\n34300950000SXXD       66.00\n34301090000SXXD      179.00\n34301110060SXXD      352.00\n34301180040SXXD       45.00\n34301210100SXXD      118.35\n34301310030SXXD      258.00\n34301500000SXXD      155.50\n34301510080SXXD      227.00\n34301520000SXXD      117.00\n34301530000SXXD      212.00\n40000040000GXXD      341.60\n90000150000Z17C    23008.00\n9000052XF28LXXC      742.00\n9000053XF29LXXC      145.10\n9000054XF30LXXC      -55.80\n9000084XF35LXXC     1000.00\n9000097XF35LXXC      718.00\nName: 金额, Length: 912, dtype: float64\n"
     ]
    },
    {
     "name": "stdout",
     "output_type": "stream",
     "text": [
      "912\n          销售额\n0      374.20\n1      160.00\n2      176.00\n3      311.70\n4      189.00\n5      199.00\n6      221.00\n7      631.00\n8      718.90\n9      133.00\n10      77.00\n11     231.00\n12     220.00\n13     172.00\n14     210.00\n15     135.30\n16     107.00\n17     615.00\n18     268.00\n19     253.00\n20     395.00\n21     132.00\n22     350.80\n23    1312.00\n24     163.00\n25     300.00\n26     189.00\n27     483.92\n28     291.00\n29     111.00\n..        ...\n882     83.20\n883    373.00\n884    480.00\n885    176.00\n886    390.00\n887    714.50\n888    126.00\n889    149.00\n890    105.00\n891   1065.00\n892    145.00\n893    216.00\n894    347.00\n895     66.00\n896    179.00\n897    352.00\n898     45.00\n899    118.35\n900    258.00\n901    155.50\n902    227.00\n903    117.00\n904    212.00\n905    341.60\n906  23008.00\n907    742.00\n908    145.10\n909    -55.80\n910   1000.00\n911    718.00\n\n[912 rows x 1 columns]\n起始：1252.239997，读取数据构建DataFrame：3.332850，描述DataFrame：0.058304。\n"
     ]
    }
   ],
   "source": [
    "from imp4nb import *\n",
    "\n",
    "cnx = lite.connect('data\\\\quandan.db')\n",
    "\n",
    "start = time.clock()\n",
    "lastdate = pd.to_datetime(pd.read_sql(\"select max(日期) from xiaoshoumingxi\",cnx).iloc[0][0])\n",
    "print(type(lastdate))\n",
    "print(lastdate)\n",
    "df = pd.read_sql_query(\"select 日期,strftime('%Y%m',日期) as 年月,customer.往来单位编号 as 客户编码,sum(金额) as 金额,substr(customer.往来单位编号,1,2) as 区域 ,\" \\\n",
    "         \"substr(customer.往来单位编号,12,1) as 类型 from xiaoshoumingxi, customer where (customer.往来单位 = xiaoshoumingxi.单位全名) \" \\\n",
    "         \" group by 日期,单位全名\",cnx)\n",
    "finish1 = time.clock()\n",
    "descdb(df)\n",
    "finish2 = time.clock()\n",
    "print(df[df.日期 >= '2017-12-01'].groupby('客户编码')['金额'].sum())\n",
    "cnm = lite.connect(':memory:')\n",
    "df.to_sql('griqidanwei',cnm, if_exists='replace')\n",
    "dfm = pd.read_sql_query(\"select sum(金额) as 销售额 from griqidanwei where 日期 >= '2017-12-01' group by 客户编码\" ,cnm)\n",
    "cnm.close()\n",
    "print(len(dfm))\n",
    "print(dfm)\n",
    "\n",
    "print(\"起始：%f，读取数据构建DataFrame：%f，描述DataFrame：%f。\" %(start,finish1-start,finish2-finish1))\n",
    "\n",
    "# dfcm = df.duplicated()\n",
    "# print(list(dfcm[dfcm == True].index))\n",
    "# df =df.drop_duplicates()\n",
    "# descdb(df)\n",
    "\n",
    "cnx.close()"
   ]
  },
  {
   "cell_type": "code",
   "execution_count": 6,
   "metadata": {
    "collapsed": false
   },
   "outputs": [
    {
     "name": "stderr",
     "output_type": "stream",
     "text": [
      "2017-12-25 01:09:51,180\tewer        : INFO     数据表“销售明细”中有1444120条记录\n"
     ]
    },
    {
     "name": "stderr",
     "output_type": "stream",
     "text": [
      "2017-12-25 01:11:28,556\tewer        : INFO     数据表“销售明细”和“客户”、“品牌”、“区域”关联后有效记录数为：1444120条\n"
     ]
    },
    {
     "name": "stderr",
     "output_type": "stream",
     "text": [
      "2017-12-25 01:12:58,179\tewer        : DEBUG    处理关联客户品牌区域等信息的数据表，把‘日期’处理成了日期格式\n"
     ]
    },
    {
     "name": "stderr",
     "output_type": "stream",
     "text": [
      "2017-12-25 01:22:45,570\tewer        : INFO     把关联并规整后的数据写入了“alldata”数据表\n"
     ]
    },
    {
     "name": "stdout",
     "output_type": "stream",
     "text": [
      "起始时间：6572.674710，从销售明细读取所有记录获取记录数：81.736487；关联客户、品牌和区域信息获得处理后的记录：97.349337；处理日期列：89.625873；写入内存数据库：587.361965；从存储数据库读取汇总销售数据：1.058238。\n"
     ]
    }
   ],
   "source": [
    "# 关联客户信息和产品信息\n",
    "from imp4nb import *\n",
    "\n",
    "cnx = lite.connect('data\\\\quandan.db')\n",
    "# desclitedb(cnx)\n",
    "\n",
    "# cur = cnx.cursor()\n",
    "# result = cur.execute('select * from xiaoshoumingxi')\n",
    "# colnames = [tuple1[0] for tuple1 in result.description]\n",
    "# print(colnames)\n",
    "# print(len(result.fetchall()))\n",
    "# print(result.fetchone()[0])\n",
    "\n",
    "# df = pd.read_sql_query(\n",
    "#     \"select 日期,职员名称 as 业务主管,单据编号 as 销售单号,商品备注 as 订单单号,单据类型,摘要,xiaoshoumingxi.单位全名 as 客户,customer.往来单位编号 as 编码,\"\n",
    "#     \"xiaoshoumingxi.商品全名 as 商品全名,数量,xiaoshoumingxi.单价,金额,substr(customer.往来单位编号,1,2) as 大区 ,\"\n",
    "#     \"substr(customer.往来单位编号,1,3) as 小区 ,quyu.分部 as 分部,\"\n",
    "#     \"substr(customer.往来单位编号,12,1) as 类型编码,leixing.类型 as 客户类型, product.品牌名称  as 品牌 ,product.品牌分类  as 品牌分类 from xiaoshoumingxi,\"\n",
    "#     \"customer,product,quyu,leixing where (customer.往来单位 = xiaoshoumingxi.单位全名)  and (大区 = quyu.区域) \"\n",
    "#     \"and (product.商品全名 = xiaoshoumingxi.商品全名) and (类型编码 = leixing.编码) order by 日期 desc\", cnx,parse_dates=['日期'])\n",
    "tm0 = time.clock()\n",
    "\n",
    "df = pd.read_sql_query(\"select * from xiaoshoumingxi\",cnx)\n",
    "# descdb(df)\n",
    "log.info('数据表“销售明细”中有%d条记录' %(len(df)))\n",
    "tm1 = time.clock()\n",
    "\n",
    "df = pd.read_sql_query(\n",
    "    \"select 日期,职员名称 as 业务主管,单据编号 as 销售单号,商品备注 as 订单单号,单据类型,摘要,xiaoshoumingxi.单位全名 as 客户,customer.往来单位编号 as 编码,\"\n",
    "    \"xiaoshoumingxi.商品全名 as 商品全名,数量,xiaoshoumingxi.单价,金额,substr(customer.往来单位编号,1,2) as 大区 ,\"\n",
    "    \"substr(customer.往来单位编号,1,3) as 小区 ,quyu.分部 as 分部,\"\n",
    "    \"substr(customer.往来单位编号,12,1) as 类型编码, product.品牌名称  as 品牌 ,product.品牌分类  as 品牌分类 from xiaoshoumingxi,\"\n",
    "    \"customer,product,quyu where (customer.往来单位 = xiaoshoumingxi.单位全名)  and (大区 = quyu.区域) \"\n",
    "    \"and (product.商品全名 = xiaoshoumingxi.商品全名) order by 日期 desc\", cnx)\n",
    "# descdb(df)\n",
    "log.info('数据表“销售明细”和“客户”、“品牌”、“区域”关联后有效记录数为：%d条' %(len(df)))\n",
    "tm2 = time.clock()\n",
    "\n",
    "df['日期'] = df['日期'].apply(lambda x: pd.to_datetime(x))\n",
    "log.debug('处理关联客户品牌区域等信息的数据表，把‘日期’处理成了日期格式')\n",
    "tm3 = time.clock()\n",
    "\n",
    "# cnm = lite.connect(\":memory:\")\n",
    "# df.to_sql(name='alldata', con=cnx, if_exists='replace',chunksize=50000)\n",
    "df.to_sql(name='alldata', con=cnx, if_exists='replace')\n",
    "log.info('把关联并规整后的数据写入了“alldata”数据表')\n",
    "# cnm.close()\n",
    "tm4 = time.clock()\n",
    "\n",
    "df = pd.read_sql_query('select 日期,sum(金额) as 销售额 from alldata group by 日期',cnx)\n",
    "# descdb(df)\n",
    "tm5 = time.clock()\n",
    "\n",
    "cnx.close()\n",
    "\n",
    "print(\"起始时间：%f，从销售明细读取所有记录获取记录数：%f；\"\n",
    "      \"关联客户、品牌和区域信息获得处理后的记录：%f；\"\n",
    "      \"处理日期列：%f；\"\n",
    "      \"写入内存数据库：%f；\"\n",
    "      \"从存储数据库读取汇总销售数据：%f。\" %(tm0,tm1-tm0,tm2-tm1,tm3-tm2,tm4-tm3,tm5-tm4))\n"
   ]
  },
  {
   "cell_type": "code",
   "execution_count": 3,
   "metadata": {},
   "outputs": [
    {
     "name": "stdout",
     "output_type": "stream",
     "text": [
      "1444120\n"
     ]
    },
    {
     "name": "stdout",
     "output_type": "stream",
     "text": [
      "1434642\n"
     ]
    }
   ],
   "source": [
    "from imp4nb import *\n",
    "\n",
    "cnx = lite.connect('data\\\\quandan.db')\n",
    "\n",
    "df = pd.read_sql_query(\"select * from xiaoshoumingxi\",cnx)\n",
    "print(len(df))\n",
    "\n",
    "df = pd.read_sql_query(\"select * from alldata\",cnx)\n",
    "print(len(df))\n",
    "\n",
    "\n",
    "cnx.close()"
   ]
  },
  {
   "cell_type": "code",
   "execution_count": null,
   "metadata": {},
   "outputs": [],
   "source": []
  }
 ],
 "metadata": {
  "kernelspec": {
   "display_name": "Python 2",
   "language": "python",
   "name": "python2"
  },
  "language_info": {
   "codemirror_mode": {
    "name": "ipython",
    "version": 2
   },
   "file_extension": ".py",
   "mimetype": "text/x-python",
   "name": "python",
   "nbconvert_exporter": "python",
   "pygments_lexer": "ipython2",
   "version": "2.7.6"
  }
 },
 "nbformat": 4,
 "nbformat_minor": 0
}
