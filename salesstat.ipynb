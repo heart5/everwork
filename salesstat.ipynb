{
 "cells": [
  {
   "cell_type": "code",
   "execution_count": 21,
   "metadata": {
    "collapsed": true
   },
   "outputs": [
    {
     "name": "stdout",
     "output_type": "stream",
     "text": [
      "1397275\n"
     ]
    }
   ],
   "source": [
    "# 改名客户统计\n",
    "from imp4nb import *\n",
    "\n",
    "cnx = lite.connect('data\\\\quandan.db')\n",
    "# desclitedb(cnx)\n",
    "\n",
    "cur = cnx.cursor()\n",
    "result = cur.execute('select count(*) from xiaoshoumingxi')\n",
    "print(result.fetchone()[0])\n",
    "\n",
    "df = pd.read_sql_query(\n",
    "    \"select 日期,职员名称 as 业务主管,单据编号 as 销售单号,商品备注 as 订单单号,单据类型,摘要,xiaoshoumingxi.单位全名 as 客户,customer.往来单位编号 as 编码,\"\n",
    "    \"xiaoshoumingxi.商品全名 as 商品全名,数量,xiaoshoumingxi.单价,金额,substr(customer.往来单位编号,1,2) as 区域 ,\"\n",
    "    \"substr(customer.往来单位编号,12,1) as 类型,product.品牌名称  as 品牌 from xiaoshoumingxi,\"\n",
    "    \"customer,product where (customer.往来单位 = xiaoshoumingxi.单位全名) \"\n",
    "    \"and (product.商品全名 = xiaoshoumingxi.商品全名) order by 日期 desc\", cnx)\n",
    "descdb(df)\n",
    "\n",
    "cnx.close()"
   ]
  },
  {
   "cell_type": "code",
   "execution_count": 17,
   "metadata": {},
   "outputs": [
    {
     "name": "stdout",
     "output_type": "stream",
     "text": [
      "[]\n"
     ]
    }
   ],
   "source": [
    "from imp4nb import *\n",
    "\n",
    "cnx = lite.connect('data\\\\quandan.db')\n",
    "\n",
    "df = pd.read_sql_query('select * from xiaoshoumingxi',cnx)\n",
    "# descdb(df)\n",
    "\n",
    "dfcm = df.duplicated()\n",
    "print(list(dfcm[dfcm == True].index))\n",
    "df =df.drop_duplicates()\n",
    "# descdb(df)\n",
    "\n",
    "cnx.close()"
   ]
  },
  {
   "cell_type": "code",
   "execution_count": null,
   "metadata": {},
   "outputs": [],
   "source": []
  }
 ],
 "metadata": {
  "kernelspec": {
   "display_name": "Python 2",
   "language": "python",
   "name": "python2"
  },
  "language_info": {
   "codemirror_mode": {
    "name": "ipython",
    "version": 2
   },
   "file_extension": ".py",
   "mimetype": "text/x-python",
   "name": "python",
   "nbconvert_exporter": "python",
   "pygments_lexer": "ipython2",
   "version": "2.7.6"
  }
 },
 "nbformat": 4,
 "nbformat_minor": 0
}
