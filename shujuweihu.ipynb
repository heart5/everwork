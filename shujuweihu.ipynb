{
 "cells": [
  {
   "cell_type": "code",
   "execution_count": 5,
   "metadata": {
    "collapsed": false
   },
   "outputs": [
    {
     "name": "stdout",
     "output_type": "stream",
     "text": [
      "Index(['index', '订单日期', '单号', '配货人', '配货准确', '业务主管', '终端编码', '终端名称', '积欠',\n       '送货金额', '实收金额', '收款方式', '退货金额', '客户拒收', '无货金额', '少配金额', '配错未要', '送达日期',\n       '车辆', '送货人', '收款日期', '收款人', '拒收品项', '订单编号'],\n      dtype='object')\n"
     ]
    },
    {
     "name": "stdout",
     "output_type": "stream",
     "text": [
      "            订单数量  错配单数      订单金额    无货金额   少配金额   错配金额\n订单日期                                                  \n2016-04-01   121  10.0  35354.20   195.0  283.5   10.2\n2016-04-02    73   6.0  20657.20   173.0  217.5    NaN\n2016-04-05   151   9.0  80340.30   148.8  353.0    NaN\n2016-04-06    34   1.0  41252.90     NaN   28.0    NaN\n2016-04-07   187  19.0  89076.50   103.5  488.7  140.8\n2016-04-08   186  13.0  50335.50   178.5  230.3    7.0\n2016-04-09   152  16.0  43147.50   466.0  442.0    3.0\n2016-04-10    34   4.0   7765.30   158.0   36.0  103.6\n2016-04-11   161  14.0  72728.50   564.0  284.3   75.5\n2016-04-12   111  13.0  66800.70    36.0  436.0    1.8\n2016-04-13   143   6.0  46074.90     NaN  225.0   28.0\n2016-04-14   137  10.0  40883.20   113.0  283.8   13.5\n2016-04-15   122  21.0  49898.10   145.0  568.8  106.0\n2016-04-16    66   2.0  41835.90     NaN   16.8    NaN\n2016-04-18   162   8.0  77783.60   159.3  325.8   40.0\n2016-04-19   142   5.0  49207.00   581.5  189.0   36.0\n2016-04-20    82   7.0  30818.90    40.0  177.0    4.5\n2016-04-21   175   9.0  54438.02   141.4  290.5    1.8\n2016-04-22   174  15.0  58928.10   179.5  701.5   48.0\n2016-04-23   107   9.0  64446.50  1420.0  305.0    6.3\n2016-04-25   149  10.0  57283.10   101.0  221.5   52.6\n2016-04-26   127  10.0  38117.00   209.0  280.0    3.2\n2016-04-27   178  16.0  75328.60   755.8  706.6   67.4\n2016-04-28   172  13.0  65106.20    63.0  352.0   40.0\n2016-04-29    94   8.0  19975.10    53.5  216.3    NaN\n2016-05-03   197  13.0  64269.20   710.3  234.5   61.0\n2016-05-04   170  12.0  60699.20    62.5  291.2   33.4\n2016-05-05   154   5.0  67134.00   112.5   56.0   89.5\n2016-05-06   166  18.0  42528.80   403.0  217.6   73.5\n2016-05-07   121  11.0  54179.40     NaN  189.5    6.8\n...          ...   ...       ...     ...    ...    ...\n2017-11-09    59   NaN  22888.50    50.0  107.5    NaN\n2017-11-10    65   NaN  25225.10   630.0   11.0    NaN\n2017-11-11    86   NaN  18632.50    30.0   33.0   24.0\n2017-11-13   112   NaN  74643.00   142.0   43.0   24.0\n2017-11-14    98   NaN  46017.10     NaN   44.0    NaN\n2017-11-15   116   NaN  48520.50   180.0   88.5   15.0\n2017-11-16    85   NaN  31991.50    44.0   31.0    NaN\n2017-11-17    85   NaN  32180.00   395.0  132.0    NaN\n2017-11-18    95   2.0  25840.50   526.5   12.0   15.0\n2017-11-19    10   NaN   2714.00     NaN    NaN    NaN\n2017-11-20   103   2.0  42082.00   247.0   42.0   18.0\n2017-11-21   102   NaN  59789.00    30.0    NaN   20.0\n2017-11-22    70   NaN  25317.00    30.0    NaN   30.0\n2017-11-23    83   1.0  30168.50    15.0   21.5    NaN\n2017-11-24    93   NaN  46806.50   439.0   52.0    NaN\n2017-11-25    69   NaN  44219.00   365.5   74.0    NaN\n2017-11-27    97   NaN  30864.00    44.0   79.5    NaN\n2017-11-28    69   2.0  29863.50    60.0   82.5    NaN\n2017-11-29    66   NaN  36431.00    65.5  311.5    NaN\n2017-11-30    78   NaN  32007.00   295.0   84.5   18.0\n2017-12-01   117   NaN  43858.90   293.5    NaN    NaN\n2017-12-02    86   NaN  33152.12   106.0  231.0   24.0\n2017-12-04    92   NaN  32993.88    65.0   30.0  110.0\n2017-12-05    74   NaN  27461.10   192.0    NaN    NaN\n2017-12-06    98   NaN  44454.28   418.5   41.0    NaN\n2017-12-07    81   NaN  29154.70    96.0    NaN    NaN\n2017-12-08    70   NaN  24233.00   216.0    NaN    NaN\n2017-12-09    61   NaN  26486.50    75.0  120.0   30.0\n2017-12-11    84   1.0  33458.98   236.1   66.0    NaN\n2017-12-12    85   NaN  38514.40     NaN    NaN    NaN\n\n[515 rows x 6 columns]\n"
     ]
    },
    {
     "name": "stdout",
     "output_type": "stream",
     "text": [
      "业务主管\n余新        1\n吴彩友    1174\n周莉     3174\n姜明君       1\n孙小甜      18\n张俊毅    3550\n张成       53\n张梦瑶    2158\n彭冠军     229\n徐志伟    7363\n易攀      303\n曹进      998\n曾光      510\n朱功明     776\n朱平        3\n朱经伦     805\n杨双东    6304\n梅富忠    8038\n王亮尔     715\n王健     1629\n王家龙    1531\n甘微       33\n白晔峰       1\n程熙     3256\n童文帅      10\n耿华忠    2084\n胡明景    1767\n邹丽丽    1159\n都本忠       5\n陈冲      785\n陈威     5886\n黄传芝      29\ndtype: int64\n"
     ]
    }
   ],
   "source": [
    "from imp4nb import *\n",
    "# import pandas as pd, sqlite3 as lite\n",
    "cnx = lite.connect('data\\\\quandan.db')\n",
    "# df = pd.read_sql('select * from fileread',cnx)\n",
    "# sql = \"update quandan set 无货金额 = NULL where 无货金额 like '%s'\" %('.') #把无货金额字段中非法字符做妥善处理\n",
    "# print(sql)\n",
    "# result = cnx.cursor().execute(sql)\n",
    "# print(result)\n",
    "# cnx.commit()\n",
    "# sql = \"select * from quandan where 无货金额 like '%s'\" %('.')\n",
    "# print(sql)\n",
    "try:\n",
    "    df = pd.read_sql(\"select * from quandan\",cnx) \n",
    "    df = df[df.配货人 != '作废']\n",
    "    df['订单日期'] = pd.to_datetime(df['订单日期'])\n",
    "    df = df[df['订单日期']>=pd.to_datetime('2016-04-01')]\n",
    "    df['送达日期'] = pd.to_datetime(df['送达日期'])\n",
    "    df['收款日期'] = pd.to_datetime(df['收款日期'])\n",
    "except:\n",
    "    pass\n",
    "\n",
    "# descdb(df)\n",
    "\n",
    "# dfpeihuoren= pd.read_sql(\"select 配货人 from quandan group by 配货人\",cnx)\n",
    "# descdb(dfpeihuoren)\n",
    "print(df.columns)\n",
    "dd = pd.DataFrame(df.groupby(['订单日期']).size(),columns=['订单数量'])\n",
    "dd['错配单数'] = df.groupby(['订单日期']).sum()['配货准确']\n",
    "dd['订单金额'] = df.groupby(['订单日期']).sum()['送货金额']\n",
    "dd['无货金额'] = df.groupby(['订单日期']).sum()['无货金额']\n",
    "dd['少配金额'] = df.groupby(['订单日期']).sum()['少配金额']\n",
    "dd['错配金额'] = df.groupby(['订单日期']).sum()['配错未要']\n",
    "print(dd)\n",
    "\n",
    "df['年月'] = df['订单日期'].apply(lambda x:\"%04d-%02d\" %(x.year, x.month))\n",
    "\n",
    "ph = pd.DataFrame(df.groupby(['配货人','年月']).size())\n",
    "ph.columns = ['配单']\n",
    "ph['配错单数'] = df.groupby(['配货人','年月']).sum()['配货准确']\n",
    "ph['配货金额'] = df.groupby(['配货人','年月']).sum()['送货金额']\n",
    "ph['漏配金额'] = df.groupby(['配货人','年月']).sum()['少配金额']\n",
    "ph['错配金额'] = df.groupby(['配货人','年月']).sum()['配错未要']\n",
    "\n",
    "# print(ph)\n",
    "\n",
    "print(df.groupby(['业务主管']).size())\n",
    "\n",
    "cnx.close()\n",
    "\n"
   ]
  },
  {
   "cell_type": "code",
   "execution_count": 6,
   "metadata": {
    "collapsed": true
   },
   "outputs": [
    {
     "data": {
      "image/png": "[encoded data removed]",
      "text/plain": [
       "<matplotlib.figure.Figure at 0xdfd3e90>"
      ]
     },
     "metadata": {},
     "output_type": "display_data"
    },
    {
     "name": "stdout",
     "output_type": "stream",
     "text": [
      "None\n"
     ]
    }
   ],
   "source": [
    "\"\"\"\n",
    "=============================\n",
    "Demo of the errorbar function\n",
    "=============================\n",
    "\n",
    "This exhibits the most basic use of the error bar method.\n",
    "In this case, constant values are provided for the error\n",
    "in both the x- and y-directions.\n",
    "\"\"\"\n",
    "import numpy as np\n",
    "import matplotlib.pyplot as plt\n",
    "\n",
    "# example data\n",
    "x = np.arange(0.1, 4, 0.5)\n",
    "y = np.exp(-x)\n",
    "\n",
    "fig, ax = plt.subplots()\n",
    "ax.errorbar(x, y, xerr=0.2, yerr=0.4)\n",
    "ax.plot([0,0],[-0.25,1],'r--')\n",
    "plt.show()\n",
    "\n",
    "print(plt.colors())"
   ]
  },
  {
   "cell_type": "code",
   "execution_count": null,
   "metadata": {},
   "outputs": [],
   "source": []
  }
 ],
 "metadata": {
  "kernelspec": {
   "display_name": "Python 2",
   "language": "python",
   "name": "python2"
  },
  "language_info": {
   "codemirror_mode": {
    "name": "ipython",
    "version": 2
   },
   "file_extension": ".py",
   "mimetype": "text/x-python",
   "name": "python",
   "nbconvert_exporter": "python",
   "pygments_lexer": "ipython2",
   "version": "2.7.6"
  }
 },
 "nbformat": 4,
 "nbformat_minor": 0
}
