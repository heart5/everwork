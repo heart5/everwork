{
 "cells": [
  {
   "cell_type": "code",
   "execution_count": 36,
   "metadata": {
    "collapsed": false
   },
   "outputs": [
    {
     "name": "stdout",
     "output_type": "stream",
     "text": [
      "            订单数量      订单金额\n订单日期                      \n2010-11-04     1    112.00\n2010-11-09     1     69.00\n2010-11-10     1     74.00\n2010-11-14     1    109.00\n2010-11-18     1     81.80\n2010-11-25     1     64.40\n2010-11-29     1    108.50\n2010-12-02     1     52.00\n2010-12-04     2    151.50\n2010-12-07     1     79.00\n2010-12-08     1    127.00\n2010-12-10     1    124.00\n2010-12-13     1    103.00\n2010-12-16     2    137.50\n2010-12-19     1     96.00\n2010-12-21     1    129.00\n2010-12-23     1     58.50\n2010-12-28     1     64.00\n2011-01-01     1     33.30\n2011-01-05     1     28.00\n2011-01-19     1    200.00\n2011-01-21     2    242.00\n2011-01-23     1     28.80\n2011-01-28     1     24.00\n2011-01-29     1    120.00\n2011-02-02     1    100.00\n2011-02-18     1    200.00\n2011-02-19     1     52.50\n2011-02-20     1    180.00\n2011-03-01     1     47.70\n...          ...       ...\n2017-11-03   107  31250.00\n2017-11-04    73  20896.40\n2017-11-06   105  59865.30\n2017-11-07   122  59407.00\n2017-11-08   113  38949.10\n2017-11-09    59  22888.50\n2017-11-10    65  25225.10\n2017-11-11    86  18632.50\n2017-11-13   112  74643.00\n2017-11-14    98  46017.10\n2017-11-15   116  48520.50\n2017-11-16    85  31991.50\n2017-11-17    85  32180.00\n2017-11-18    95  25840.50\n2017-11-19    10   2714.00\n2017-11-20   103  42082.00\n2017-11-21   102  59789.00\n2017-11-22    70  25317.00\n2017-11-23    83  30168.50\n2017-11-24    93  46806.50\n2017-11-25    69  44219.00\n2017-11-27    97  30864.00\n2017-11-28    69  29863.50\n2017-11-29    67  36516.00\n2017-11-30    78  32007.00\n2017-12-01    73  31614.90\n2017-12-02    80  31660.62\n2017-12-04    73  29086.88\n2017-12-05    64  25292.00\n2017-12-06    87  42069.28\n\n[832 rows x 2 columns]\n        配单      配错\n配货人               \n余新       4     1.0\n周莉       7     NaN\n姜明君  25901   905.0\n孙小甜      3     NaN\n客情       9     NaN\n张俊毅     37     2.0\n曾光       3     NaN\n朱平     110     9.0\n朱镠      39     3.0\n李楠       1     NaN\n毛少华    337     2.0\n甘微       8     NaN\n罗运辉      1     NaN\n老库管    328     NaN\n耿华忠    880    47.0\n返利       4     NaN\n陈列       7     NaN\n陈益     185     1.0\n陈谦      78     2.0\n黄传芝  25360  1264.0\n黄国伟   1087     1.0\n"
     ]
    }
   ],
   "source": [
    "from imp4nb import *\n",
    "import pandas as pd, sqlite3 as lite\n",
    "cnx = lite.connect('data\\\\quandan.db')\n",
    "# df = pd.read_sql('select * from fileread',cnx)\n",
    "# sql = \"update quandan set 无货金额 = NULL where 无货金额 like '%s'\" %('.') #把无货金额字段中非法字符做妥善处理\n",
    "# print(sql)\n",
    "# result = cnx.cursor().execute(sql)\n",
    "# print(result)\n",
    "# cnx.commit()\n",
    "# sql = \"select * from quandan where 无货金额 like '%s'\" %('.')\n",
    "# print(sql)\n",
    "try:\n",
    "    df = pd.read_sql(\"select * from quandan\",cnx) \n",
    "    df = df[df.配货人 != '作废']\n",
    "    df['订单日期'] = pd.to_datetime(df['订单日期'])\n",
    "    df['送达日期'] = pd.to_datetime(df['送达日期'])\n",
    "    df['收款日期'] = pd.to_datetime(df['收款日期'])\n",
    "except:\n",
    "    pass\n",
    "\n",
    "# descdb(df)\n",
    "\n",
    "# dfpeihuoren= pd.read_sql(\"select 配货人 from quandan group by 配货人\",cnx)\n",
    "# descdb(dfpeihuoren)\n",
    "dd = pd.DataFrame(df.groupby(['订单日期']).size(),columns=['订单数量'])\n",
    "dd['订单金额'] = df.groupby(['订单日期']).sum()['送货金额']\n",
    "print(dd)\n",
    "\n",
    "ph = pd.DataFrame(df.groupby(['配货人']).size())\n",
    "ph.columns = ['配单']\n",
    "ph['配错'] = df.groupby(['配货人']).sum()['配货准确']\n",
    "\n",
    "print(ph)\n",
    "\n",
    "cnx.close()\n",
    "\n"
   ]
  },
  {
   "cell_type": "code",
   "execution_count": 8,
   "metadata": {
    "collapsed": true
   },
   "outputs": [
    {
     "data": {
      "image/png": "[encoded data removed]",
      "text/plain": [
       "<matplotlib.figure.Figure at 0x281eeaae630>"
      ]
     },
     "metadata": {},
     "output_type": "display_data"
    },
    {
     "name": "stdout",
     "output_type": "stream",
     "text": [
      "None\n"
     ]
    }
   ],
   "source": [
    "\"\"\"\n",
    "=============================\n",
    "Demo of the errorbar function\n",
    "=============================\n",
    "\n",
    "This exhibits the most basic use of the error bar method.\n",
    "In this case, constant values are provided for the error\n",
    "in both the x- and y-directions.\n",
    "\"\"\"\n",
    "import numpy as np\n",
    "import matplotlib.pyplot as plt\n",
    "\n",
    "# example data\n",
    "x = np.arange(0.1, 4, 0.5)\n",
    "y = np.exp(-x)\n",
    "\n",
    "fig, ax = plt.subplots()\n",
    "ax.errorbar(x, y, xerr=0.2, yerr=0.4)\n",
    "ax.plot([0,0],[-0.25,1],'r--')\n",
    "plt.show()\n",
    "\n",
    "print(plt.colors())"
   ]
  },
  {
   "cell_type": "code",
   "execution_count": 4,
   "metadata": {},
   "outputs": [
    {
     "name": "stdout",
     "output_type": "stream",
     "text": [
      "<class 'range'>\n[1, 3, 5, 7, 9, 11, 13, 15, 17, 19, 21, 23, 25, 27, 29]\n"
     ]
    }
   ],
   "source": [
    "dd = range(1,30+1,2)\n",
    "print(type(dd))\n",
    "print(list(dd))"
   ]
  },
  {
   "cell_type": "code",
   "execution_count": null,
   "metadata": {},
   "outputs": [],
   "source": []
  }
 ],
 "metadata": {
  "kernelspec": {
   "display_name": "Python 2",
   "language": "python",
   "name": "python2"
  },
  "language_info": {
   "codemirror_mode": {
    "name": "ipython",
    "version": 2
   },
   "file_extension": ".py",
   "mimetype": "text/x-python",
   "name": "python",
   "nbconvert_exporter": "python",
   "pygments_lexer": "ipython2",
   "version": "2.7.6"
  }
 },
 "nbformat": 4,
 "nbformat_minor": 0
}
