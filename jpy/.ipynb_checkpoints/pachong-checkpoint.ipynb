{
 "cells": [
  {
   "cell_type": "code",
   "execution_count": null,
   "metadata": {},
   "outputs": [],
   "source": [
    "import requests\n",
    "from bs4 import BeautifulSoup\n",
    "r = requests.get('http://www.wise.xmu.edu.cn/people/faculty')\n",
    "html = r.content\n",
    "\n",
    "soup = BeautifulSoup(html,'html.parser')    #html.parser是解析器\n",
    "div_people_list = soup.find('div', attrs={'class': 'people_list'})\n",
    "a_s = div_people_list.find_all('a', attrs={'target': '_blank'})\n",
    "for a in a_s:\n",
    "    url = a['href']\n",
    "    name = a.get_text()\n",
    "    print(f'{name},{url}')\n"
   ]
  },
  {
   "cell_type": "code",
   "execution_count": null,
   "metadata": {},
   "outputs": [],
   "source": []
  }
 ],
 "metadata": {
  "kernelspec": {
   "display_name": "Python 3",
   "language": "python",
   "name": "python3"
  },
  "language_info": {
   "codemirror_mode": {
    "name": "ipython",
    "version": 3
   },
   "file_extension": ".py",
   "mimetype": "text/x-python",
   "name": "python",
   "nbconvert_exporter": "python",
   "pygments_lexer": "ipython3",
   "version": "3.6.6"
  }
 },
 "nbformat": 4,
 "nbformat_minor": 2
}
