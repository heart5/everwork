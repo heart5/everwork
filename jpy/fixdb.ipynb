{
 "cells": [
  {
   "cell_type": "code",
   "execution_count": 1,
   "metadata": {
    "collapsed": true
   },
   "outputs": [
    {
     "name": "stderr",
     "output_type": "stream",
     "text": [
      "2018-10-17 22:52:49,886\tMainThread - 11864 , MainProcess - 18404: INFO     程序上次异常退出，调用log中的API数据[2018-10-17 22:05:21,0]\n"
     ]
    },
    {
     "name": "stdout",
     "output_type": "stream",
     "text": [
      "[Timestamp('2018-10-17 22:05:21'), 0]\n"
     ]
    }
   ],
   "source": [
    "import os\n",
    "import datetime\n",
    "import xlrd\n",
    "import pandas as pd\n",
    "import sqlite3 as lite\n",
    "import evernote.edam.type.ttypes as ttypes\n",
    "from threading import Timer\n",
    "\n",
    "import pathmagic\n",
    "\n",
    "with pathmagic.context():\n",
    "    from func.configpr import cfp, cfpzysm, inizysmpath, cfpdata, inidatanotefilepath\n",
    "    from func.evernt import get_notestore, imglist2note, tablehtml2evernote, evernoteapijiayi\n",
    "    from func.logme import log\n",
    "    from func.first import dirmainpath, dbpathworkplan, dbpathquandan\n",
    "    from func.pdtools import dftotal2top, descdb\n",
    "    from work.orderdetails import jiaoyanchanpinkehu\n",
    "\n",
    "cnxp = lite.connect(dbpathworkplan)\n",
    "tablename_order = 'salesorder'\n",
    "dfresult = pd.read_sql('select * from \\'%s\\'' % tablename_order, cnxp, parse_dates=['日期'])\n",
    "print(dfresult[dfresult.客户名称.str.contains('交通')])\n",
    "print(dfresult.columns)\n",
    "cursor = cnxp.cursor()\n",
    "sqlstr = f'select * from {tablename_order} where 业务人员 like \\'%周莉%\\''\n",
    "print(sqlstr)\n",
    "result = cursor.execute(sqlstr)\n",
    "print(result.fetchall())\n",
    "for row in result:\n",
    "    print(row)"
   ]
  },
  {
   "cell_type": "code",
   "execution_count": 14,
   "metadata": {},
   "outputs": [],
   "source": [
    ""
   ]
  },
  {
   "cell_type": "code",
   "execution_count": 15,
   "metadata": {},
   "outputs": [],
   "source": []
  }
 ],
 "metadata": {
  "kernelspec": {
   "display_name": "Python 2",
   "language": "python",
   "name": "python2"
  },
  "language_info": {
   "codemirror_mode": {
    "name": "ipython",
    "version": 2
   },
   "file_extension": ".py",
   "mimetype": "text/x-python",
   "name": "python",
   "nbconvert_exporter": "python",
   "pygments_lexer": "ipython2",
   "version": "2.7.6"
  }
 },
 "nbformat": 4,
 "nbformat_minor": 0
}
