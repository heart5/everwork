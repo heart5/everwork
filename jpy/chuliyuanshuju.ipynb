{
 "cells": [
  {
   "cell_type": "code",
   "execution_count": 2,
   "metadata": {},
   "outputs": [
    {
     "name": "stdout",
     "output_type": "stream",
     "text": [
      "2018-11-28 15:07:09.324058\n",
      "\n",
      "\n"
     ]
    }
   ],
   "source": [
    "import datetime\n",
    "print(datetime.datetime.now())\n",
    "print(f'\\n')"
   ]
  },
  {
   "cell_type": "code",
   "execution_count": 1,
   "metadata": {},
   "outputs": [
    {
     "name": "stdout",
     "output_type": "stream",
     "text": [
      "35-2\t36-3\t37-3\t56-2\t59-2\t62-2\t88-2\t96-2\t99-2\t108-2\t113-2\t118-2\t128-2\t141-2\t169-2\t205-2\t210-2\t220-2\t260-2\t263-2\t330-2\t404-2\t418-2\t439-2\t456-2\t462-2\t465-2\t502-2\t537-2\t552-2\t563-2\t577-2\t591-2\t603-2\t632-2\t676-2\t715-2\t732-2\t736-2\t757-2\t801-2\t816-2\t817-3\t818-3\t828-2\t848-2\t870-2\t886-2\t900-2\t913-2\t918-2\t922-2\t943-2\t1005-2\t1011-2\t1020-2\t1025-2\t1045-2\t1048-2\t1071-2\t1079-2\t1084-2\t1090-2\t1096-2\t1102-2\t1109-2\t1129-2\t1155-2\t1157-2\t1176-2\t1182-2\t1219-2\t1220-2\t1223-2\t1231-2\t1237-3\t1239-2\t1241-2\t1244-2\t1245-2\t1247-2\t1253-2\t1268-2\t1280-2\t1296-2\t1305-2\t1308-2\t1312-2\t1320-2\t1338-2\t1349-3\t1353-2\t1364-2\t1370-2\t1373-3\t1377-3\t1378-3\t1396-2\t1401-2\t1408-2\t1422-2\t1427-2\t1434-2\t1460-2\t1509-2\t1539-2\t1542-2\t1545-2\t1549-2\t1580-2\t1584-2\t1588-2\t1602-2\t1606-2\t1611-2\t1616-2\t1648-2\t1720-2\t1727-2\t1740-2\t1754-2\t1761-2\t1768-2\t1820-2\t1829-2\t1843-2\t1909-2\t1951-2\t1977-2\t1992-2\t2005-2\t2007-2\t2024-2\t2038-2\t2049-2\t2056-2\t2066-3\t2068-3\t2095-2\t2178-2\t2221-2\t2228-2\t2232-2\t2242-2\t2250-2\t2258-3\t2262-2\t2274-2\t2281-2\t2297-2\t2306-2\t2314-3\t2316-3\t2317-2\t2322-3\t2333-3\t2334-3\t2381-2\t2388-2\t2428-3\t2461-2\t2464-2\t2503-2\t2547-2\t2568-2\t2616-2\t2624-2\t2632-2\t2644-2\t2673-2\t2679-2\t2708-2\t2711-2\t2715-2\t2755-2\t2765-2\t2771-2\t2777-2\t2780-2\t2794-2\t2804-2\t2807-2\t2879-2\t2885-2\t2907-2\t2921-2\t2925-2\t2927-2\t2931-2\t2934-2\t2938-2\t2941-2\t2981-2\t3002-2\t3024-3\t3025-3\t3032-2\t3038-2\t3063-2\t3107-2\t3121-3\t3122-3\t3168-2\t3174-2\t3176-2\t3187-2\t3208-2\t3214-2\t3216-2\t3219-2\t3226-2\t3239-2\t3246-2\t3251-2\t3253-3\t3254-3\t3272-2\t3282-2\t3294-3\t3295-3\t3315-2\t3317-2\t3343-2\t3351-2\t3357-2\t3372-2\t3461-2\t3463-3\t3464-3\t3466-2\t3468-2\t3474-2\t3499-2\t3506-2\t3525-3\t3526-3\t3530-2\t3556-3\t3557-3\t3562-3\t3565-4\t3566-4\t3567-3\t3581-2\t3584-2\t3586-2\t3616-2\t3634-2\t3662-2\t3668-2\t3691-2\t3715-2\t3732-2\t3739-2\t3764-2\t3775-2\t3783-2\t3787-2\t3792-2\t3794-2\t3803-3\t3826-2\t3835-2\t3853-2\t3856-2\t3865-3\t3881-2\t3900-2\t3938-2\t3969-2\t3971-2\t3975-2\t3980-2\t3989-2\t4023-2\t4035-2\t4039-2\t4043-2\t4045-2\t4047-2\t4059-2\t4081-3\t4097-2\t4101-2\t4129-2\t4141-2\t4147-2\t4154-2\t4157-2\t4186-2\t4205-2\t4229-2\t4231-2\t4244-2\t4264-2\t4287-2\t4289-2\t4306-2\t4313-2\t4329-2\t4362-2\t4392-2\t4410-2\t4411-2\t4422-2\t4428-2\t4437-2\t4441-2\t4456-2\t4470-2\t4473-2\t4496-2\t4498-2\t4500-2\t4541-3\t4542-3\t4545-2\t4562-2\t4570-3\t4576-3\t4593-2\t4610-2\t4625-2\t4631-2\t4632-2\t4644-2\t4689-2\t4702-2\t4717-2\t4722-2\t4731-2\t4744-2\t4756-2\t4776-2\t4779-2\t4805-2\t4813-2\t4842-2\t4845-2\t4882-2\t4886-2\t4892-3\t4893-3\t4895-2\t4919-2\t4964-2\t4999-3\t5001-2\t5006-2\t5022-2\t5080-2\t5100-2\t5109-2\t5112-2\t5142-2\t5160-2\t5162-2\t5167-2\t5172-3\t5174-2\t5178-2\t5182-2\t5200-2\t5242-2\t5251-2\t5259-2\t5261-2\t5278-2\t5284-2\t5300-2\t5320-2\t5335-2\t5340-3\t5343-2\t5371-2\t5412-2\t5430-3\t5446-2\t5447-2\t5455-2\t5474-2\t5476-2\t5478-2\t5539-2\t5556-2\t5558-2\t5565-2\t5583-2\t5594-2\t5597-2\t5611-2\t5630-2\t5637-2\t5663-3\t5696-2\t5705-2\t5724-2\t5738-2\t5742-2\t5779-2\t5858-2\t5882-2\t5912-2\t5914-2\t5925-2\t5927-2\t5953-2\t5956-2\t5957-2\t5959-2\t5961-2\t5962-2\t5969-2\t5971-2\t5986-3\t5987-2\t6024-2\t6025-2\t6051-2\t6083-2\t6100-2\t6105-2\t6121-2\t6127-2\t6135-2\t6170-2\t6177-2\t6189-2\t6214-2\t6217-3\t6224-3\t6226-2\t6227-2\t6229-2\t6233-2\t6235-3\t6242-2\t6259-2\t6264-2\t6281-2\t6332-3\t6366-2\t6380-2\t6383-2\t6386-3\t6404-2\t6468-2\t6474-2\t6478-2\t6482-2\t6535-2\t6553-2\t6609-2\t6613-2\t6616-2\t6618-2\t6621-2\t6657-2\t6676-2\t6678-2\t6705-2\t6739-2\t6740-3\t6753-2\t6771-2\t6791-3\t6792-2\t6794-3\t6796-2\t6797-2\t6799-2\t6804-2\t6805-2\t6807-2\t6816-2\t6818-2\t6824-2\t6825-2\t6826-2\t6828-3\t6829-2\t6830-3\t6831-2\t6834-2\t6835-2\t6836-2\t6842-2\t6847-2\t6848-2\t6849-2\t6851-2\t6861-2\t6863-2\t6864-2\t6865-2\t6866-3\t6867-4\t6870-3\t6874-2\t6875-2\t6876-2\t6877-2\t6881-3\t6882-2\t6884-2\t6885-2\t6887-2\t6888-2\t6889-2\t6890-2\t6891-2\t6895-2\t6896-2\t6897-2\t6903-2\t6905-3\t6908-2\t6911-2\t6912-2\t6913-2\t6915-2\t6916-2\t6918-2\t6919-2\t6920-2\t6922-2\t6924-2\t6925-3\t6926-3\t6927-2\t6928-2\t6929-2\t6933-2\t6934-3\t6935-2\t6938-2\t6939-2\t6940-2\t6941-2\t6944-2\t6945-2\t6947-3\t6950-2\t6951-2\t6953-2\t6954-2\t6962-2\t6970-2\t6971-2\t6972-2\t6975-2\t6977-2\t6978-2\t6979-2\t6981-2\t6982-3\t6993-2\t6994-2\t7000-2\t"
     ]
    }
   ],
   "source": [
    "# encoding:utf-8\n",
    "# 改名客户统计\n",
    "\n",
    "import re\n",
    "from imp4nb import *\n",
    "\n",
    "cnx = lite.connect('data\\\\quandan.db')\n",
    "df = pd.read_excel('data\\\\系统表.xlsx', sheetname='客户档案')\n",
    "# df.info()\n",
    "\n",
    "dfccw = df.duplicated('往来单位编号')\n",
    "\n",
    "for i in list(dfccw[dfccw == True].index):\n",
    "    wldwmz = (df[df.往来单位编号 == df.loc[i,'往来单位编号']])[['往来单位编号','往来单位']].values\n",
    "    print(str(i)+'-'+str(len(wldwmz)),end='\\t')\n",
    "    # dfww = pd.read_sql_query('select 单位全名 from xiaoshoumingxi where 单位全名 =\\'%s\\'' % dfcc.loc[wldwcm[i]]['往来单位'],cnx)\n",
    "    # print(dfww)\n",
    "\n",
    "\n",
    "\n",
    "# writer = pd.ExcelWriter('data\\\\结果输出.xlsx')\n",
    "# dfcc.to_excel(writer,sheet_name='客户档案',freeze_panes={1,2})\n",
    "# writer.save()\n",
    "# \n",
    "# writer.close()"
   ]
  },
  {
   "cell_type": "code",
   "execution_count": 8,
   "metadata": {
    "collapsed": true
   },
   "outputs": [],
   "source": []
  },
  {
   "cell_type": "code",
   "execution_count": 3,
   "metadata": {},
   "outputs": [
    {
     "name": "stdout",
     "output_type": "stream",
     "text": [
      "2018-01-11 23:42:34.586135\n"
     ]
    }
   ],
   "source": [
    "print(datetime.datetime.now())"
   ]
  },
  {
   "cell_type": "code",
   "execution_count": 11,
   "metadata": {},
   "outputs": [
    {
     "name": "stdout",
     "output_type": "stream",
     "text": [
      "文件《系统表.xlsx》已有 23 条记录，看是否最新？\t\t无需更新。\n",
      "文件《2017年全单统计管理.xlsm》已有 23 条记录，看是否最新？\t\t无需更新。\n",
      "文件《jiaqi.txt》已有 1 条记录，看是否最新？\t\t无需更新。\n",
      "Empty DataFrame\n",
      "Columns: [商品全名, 商品编号, index, 商品全名, 条码, 分析编码, 品牌分类, 品牌名称, 重点品项, 推广等级, 单价]\n",
      "Index: []\n",
      "Empty DataFrame\n",
      "Columns: [index, 往来单位, 往来单位编号, 地址]\n",
      "Index: []\n",
      "<class 'pandas.core.frame.DataFrame'>\n",
      "RangeIndex: 1453747 entries, 0 to 1453746\n",
      "Data columns (total 17 columns):\n",
      "index    1453747 non-null int64\n",
      "日期       1453747 non-null object\n",
      "单据编号     1453747 non-null object\n",
      "单据类型     1424825 non-null object\n",
      "职员名称     1453747 non-null object\n",
      "摘要       1423385 non-null object\n",
      "备注       1123 non-null object\n",
      "商品备注     1242980 non-null object\n",
      "商品编号     1453747 non-null object\n",
      "商品全名     1453747 non-null object\n",
      "单价       1452337 non-null float64\n",
      "单位       1452515 non-null object\n",
      "数量       1453747 non-null float64\n",
      "金额       1452337 non-null float64\n",
      "单位全名     1453747 non-null object\n",
      "仓库全名     1453747 non-null object\n",
      "部门全名     1453747 non-null object\n",
      "dtypes: float64(3), int64(1), object(13)\n",
      "memory usage: 188.6+ MB\n",
      "<class 'pandas.core.frame.DataFrame'>\n",
      "Int64Index: 1453747 entries, 0 to 1453746\n",
      "Data columns (total 17 columns):\n",
      "index    1453747 non-null int64\n",
      "日期       1453747 non-null object\n",
      "单据编号     1453747 non-null object\n",
      "单据类型     1424825 non-null object\n",
      "职员名称     1453747 non-null object\n",
      "摘要       1423385 non-null object\n",
      "备注       1123 non-null object\n",
      "商品备注     1242980 non-null object\n",
      "商品编号     1453747 non-null object\n",
      "商品全名     1453747 non-null object\n",
      "单价       1452337 non-null float64\n",
      "单位       1452515 non-null object\n",
      "数量       1453747 non-null float64\n",
      "金额       1452337 non-null float64\n",
      "单位全名     1453747 non-null object\n",
      "仓库全名     1453747 non-null object\n",
      "部门全名     1453747 non-null object\n",
      "dtypes: float64(3), int64(1), object(13)\n",
      "memory usage: 199.6+ MB\n"
     ]
    }
   ],
   "source": [
    "# 数据验证周全性\n",
    "\n",
    "from imp4nb import *\n",
    "\n",
    "cnx = lite.connect('data\\\\quandan.db')\n",
    "\n",
    "dataokay(cnx)\n",
    "\n",
    "df = pd.read_sql_query('select xiaoshoumingxi.商品全名,xiaoshoumingxi.商品编号,product.* from xiaoshoumingxi left outer join product on '\n",
    "                       'xiaoshoumingxi.商品全名 = product.商品全名 where product.商品全名 is null',cnx)\n",
    "df.describe()\n",
    "print(df)\n",
    "\n",
    "df = pd.read_sql_query('select xiaoshoumingxi.单位全名,customer.* from xiaoshoumingxi left outer join customer on '\n",
    "                       'xiaoshoumingxi.单位全名 = customer.往来单位 where customer.往来单位 is null',cnx)\n",
    "df = df.groupby('单位全名').sum()\n",
    "df.describe()\n",
    "print(df)\n",
    "\n",
    "df = pd.read_sql_query('select * from xiaoshoumingxi',cnx)\n",
    "df.info()\n",
    "df.describe()\n",
    "dfqc = df.drop_duplicates()\n",
    "dfqc.info()\n",
    "\n",
    "cnx.close()"
   ]
  },
  {
   "cell_type": "code",
   "execution_count": 26,
   "metadata": {
    "collapsed": true
   },
   "outputs": [],
   "source": []
  },
  {
   "cell_type": "code",
   "execution_count": 10,
   "metadata": {},
   "outputs": [
    {
     "name": "stdout",
     "output_type": "stream",
     "text": [
      "<class 'pandas.core.frame.DataFrame'>\n",
      "             金额\n",
      "品牌             \n",
      "旭东    386385.64\n",
      "创食人   227782.92\n",
      "抓鱼的猫   92170.34\n",
      "麦小呆    45098.25\n",
      "非凡     32409.20\n",
      "卫龙     27958.70\n",
      "渔米之湘   15591.75\n",
      "爽口佳    14215.25\n",
      "欢夫     13930.50\n",
      "新丰园    13293.40\n"
     ]
    }
   ],
   "source": [
    "# 统计品牌销售\n",
    "from imp4nb import *\n",
    "\n",
    "cnx = lite.connect('data\\\\quandan.db')\n",
    "df = pd.read_sql_query(\n",
    "                    \"select 日期,xiaoshoumingxi.单位全名 as 客户名称,customer.往来单位编号 as 编号,金额,substr(customer.往来单位编号,1,2) as 区域 ,\"\n",
    "                    \"substr(customer.往来单位编号,12,1) as 类型,product.品牌名称  as 品牌 from xiaoshoumingxi,\"\n",
    "                    \"customer,product where (customer.往来单位 = xiaoshoumingxi.单位全名) \"\n",
    "                    \"and (product.商品全名 = xiaoshoumingxi.商品全名)\" , cnx)\n",
    "# df.index = df['日期']\n",
    "# df = df[df.区域.isin(('33','34'))]\n",
    "df['日期'] = pd.to_datetime(df['日期'])\n",
    "df = df[df.日期 >= pd.to_datetime('2017-12-01')]\n",
    "df = df.groupby('品牌').sum()\n",
    "df = df.sort_values('金额',ascending=False)\n",
    "print(type(df))\n",
    "print(df.head(10))\n",
    "\n",
    "cnx.close()"
   ]
  },
  {
   "cell_type": "code",
   "execution_count": 3,
   "metadata": {},
   "outputs": [
    {
     "ename": "ModuleNotFoundError",
     "evalue": "No module named 'imp4nb'",
     "output_type": "error",
     "traceback": [
      "\u001b[0;31m---------------------------------------------------------------------------\u001b[0m",
      "\u001b[0;31mModuleNotFoundError\u001b[0m                       Traceback (most recent call last)",
      "\u001b[0;32m<ipython-input-3-5a4600da4ed9>\u001b[0m in \u001b[0;36m<module>\u001b[0;34m\u001b[0m\n\u001b[1;32m      1\u001b[0m \u001b[0;31m#\u001b[0m\u001b[0;34m\u001b[0m\u001b[0;34m\u001b[0m\u001b[0;34m\u001b[0m\u001b[0m\n\u001b[1;32m      2\u001b[0m \u001b[0;34m\u001b[0m\u001b[0m\n\u001b[0;32m----> 3\u001b[0;31m \u001b[0;32mfrom\u001b[0m \u001b[0mimp4nb\u001b[0m \u001b[0;32mimport\u001b[0m \u001b[0;34m*\u001b[0m\u001b[0;34m\u001b[0m\u001b[0;34m\u001b[0m\u001b[0m\n\u001b[0m\u001b[1;32m      4\u001b[0m \u001b[0;34m\u001b[0m\u001b[0m\n\u001b[1;32m      5\u001b[0m \u001b[0;31m# plot中显示中文\u001b[0m\u001b[0;34m\u001b[0m\u001b[0;34m\u001b[0m\u001b[0;34m\u001b[0m\u001b[0m\n",
      "\u001b[0;31mModuleNotFoundError\u001b[0m: No module named 'imp4nb'"
     ]
    }
   ],
   "source": [
    "# \n",
    "\n",
    "from imp4nb import *\n",
    "\n",
    "# plot中显示中文\n",
    "# mpl.rcParams['font.sans-serif'] = ['SimHei']\n",
    "# mpl.rcParams['axes.unicode_minus'] = False\n",
    "\n",
    "conn = lite.connect('data\\\\quandan.db')\n",
    "cursor = conn.cursor()\n",
    "# df = pd.read_sql('select max(日期) as 日期 from xiaoshoumingxi',conn)\n",
    "# print(df)\n",
    "df = pd.read_sql('select 日期,sum(金额) as 销售额 from xiaoshoumingxi group by 日期', conn)\n",
    "# df = df[df.日期 > '2017-01-01']\n",
    "df.index = pd.to_datetime(df['日期'])\n",
    "print(df.dtypes)\n",
    "print(df.columns)\n",
    "ds = df['销售额']\n",
    "print(ds.dtypes)\n",
    "print(type(ds))\n",
    "# print(ds)\n",
    "ds.plot()\n",
    "df = df.resample('M').sum()\n",
    "df.plot()\n",
    "plt.show()\n",
    "plt.close()\n",
    "\n",
    "conn.close()"
   ]
  },
  {
   "cell_type": "code",
   "execution_count": null,
   "metadata": {},
   "outputs": [
    {
     "name": "stdout",
     "output_type": "stream",
     "text": [
      "../data/quandan.db\tTrue\t589217792\n"
     ]
    }
   ],
   "source": [
    "# 某品牌，随机n家客户\n",
    "import pandas as pd, sqlite3 as lite, matplotlib.pyplot as plt, numpy as np,calendar\n",
    "import random as rd\n",
    "from pylab import *\n",
    "from tempfile import NamedTemporaryFile\n",
    "import os\n",
    "\n",
    "dbpath = os.path.join('..', 'data', 'quandan.db')\n",
    "zaibuzai = os.path.exists(dbpath)\n",
    "daxiao = os.path.getsize(dbpath)\n",
    "print(f'{dbpath}\\t{zaibuzai}\\t{daxiao}')\n",
    "\n",
    "cnx = lite.connect(dbpath)\n",
    "# df = pd.read_sql_query(\n",
    "#                     \"select 日期,xiaoshoumingxi.单位全名 as 客户名称,customer.往来单位编号 as 编号,金额,substr(customer.往来单位编号,1,2) as 区域 ,\"\n",
    "#                     \"substr(customer.往来单位编号,12,1) as 类型,product.品牌名称  as 品牌 from xiaoshoumingxi,\"\n",
    "#                     \"customer,product where (customer.往来单位 = xiaoshoumingxi.单位全名) \"\n",
    "#                     \"and (product.商品全名 = xiaoshoumingxi.商品全名)\" , cnx)\n",
    "df = pd.read_sql_query(\n",
    "                    \"select xiaoshoumingxi.单位全名 as 客户名称,customer.往来单位编号 as 编号,customer.地址 as 地址,\"\n",
    "                    \"sum(金额) as 销售额,substr(customer.往来单位编号,1,2) as 区域 from xiaoshoumingxi,\"\n",
    "                    \"customer,product where (customer.往来单位 = xiaoshoumingxi.单位全名) \"\n",
    "                    \"and (product.商品全名 = xiaoshoumingxi.商品全名) \"\n",
    "                    \"and (product.品牌分类 like \\'%卫龙袋3%\\') \"\n",
    "                    \"and (xiaoshoumingxi.日期 >= \\'2018-01-01\\') \"\n",
    "                    \"group by 编号 order by 销售额 desc\" , cnx)\n",
    "# df.index = df['日期']\n",
    "# df = df[df.区域.isin(('33','34'))]\n",
    "print(df.shape[0])\n",
    "# print(df.columns)\n",
    "df.index = range(len(df))\n",
    "ls = range(len(df))\n",
    "# print(ls)\n",
    "randomls = rd.sample(ls, len(df))\n",
    "dfselect = df.loc[randomls, ['编号', '客户名称', '销售额']]\n",
    "# dfselect = df\n",
    "\n",
    "danganpath = os.path.join('..', 'data', '客户档案20181124.xls')\n",
    "dfcustomer = pd.read_excel(danganpath)\n",
    "# print(dfcustomer.columns)\n",
    "\n",
    "dffinal = pd.merge(dfselect, dfcustomer, how='inner', left_on='编号', right_on='往来单位编号')\n",
    "\n",
    "print(dffinal.columns)\n",
    "\n",
    "dfresult = dffinal.loc[:, ['编号', '客户名称', '地址', '销售额']]\n",
    "dfresult.sort_values(['编号'], inplace=True)\n",
    "dfout = dfresult[dfresult.销售额 > 120]\n",
    "\n",
    "dfout.to_excel('data\\\\结果输出.xlsx', sheet_name='卫龙袋客户清单')  \n",
    "print(dfout.shape[0])\n",
    "print(dfout)"
   ]
  },
  {
   "cell_type": "code",
   "execution_count": null,
   "metadata": {
    "collapsed": true
   },
   "outputs": [],
   "source": []
  }
 ],
 "metadata": {
  "kernelspec": {
   "display_name": "Python 3",
   "language": "python",
   "name": "python3"
  },
  "language_info": {
   "codemirror_mode": {
    "name": "ipython",
    "version": 3
   },
   "file_extension": ".py",
   "mimetype": "text/x-python",
   "name": "python",
   "nbconvert_exporter": "python",
   "pygments_lexer": "ipython3",
   "version": "3.7.1"
  },
  "widgets": {
   "application/vnd.jupyter.widget-state+json": {
    "state": {},
    "version_major": 1,
    "version_minor": 0
   }
  }
 },
 "nbformat": 4,
 "nbformat_minor": 1
}
