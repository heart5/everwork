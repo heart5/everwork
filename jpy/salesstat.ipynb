{
 "cells": [
  {
   "cell_type": "code",
   "execution_count": 18,
   "metadata": {},
   "outputs": [
    {
     "name": "stdout",
     "output_type": "stream",
     "text": [
      "('A', 'B', 'C', 'S', 'W', 'Y')\n"
     ]
    },
    {
     "name": "stdout",
     "output_type": "stream",
     "text": [
      "               日期      年月             客户编码     金额  区域 类型\n164479 2017-12-26  201712  08300410050AXXA  126.0  08  A\n164480 2017-12-26  201712  08400080080SXXD  210.0  08  S\n164481 2017-12-26  201712  08400370000SXXD  102.8  08  S\n164482 2017-12-26  201712  08500060100SXXD   88.0  08  S\n日期      datetime64[ns]\n年月              object\n客户编码            object\n金额             float64\n区域              object\n类型              object\ndtype: object\nfloat64\n<class 'pandas.core.indexes.datetimes.DatetimeIndex'>换货单号\nDatetimeIndex(['2017-08-15', '2017-08-16', '2017-08-17', '2017-08-18',\n               '2017-08-19', '2017-08-20', '2017-08-21', '2017-08-22',\n               '2017-08-23', '2017-08-24',\n               ...\n               '2017-12-17', '2017-12-18', '2017-12-19', '2017-12-20',\n               '2017-12-21', '2017-12-22', '2017-12-23', '2017-12-24',\n               '2017-12-25', '2017-12-26'],\n              dtype='datetime64[ns]', length=134, freq='D')\n6.0\t25.0\t42.0\t43.0\t45.0\t45.0\t61.0\t67.0\t68.0\t81.0\t81.0\t81.0\t81.0\t81.0\t95.0\t98.0\t103.0\t19.0\t20.0\t20.0\t20.0\t40.0\t51.0\t64.0\t64.0\t65.0\t65.0\t65.0\t72.0\t81.0\t83.0\t91.0\t91.0\t91.0\t92.0\t100.0\t101.0\t101.0\t105.0\t105.0\t105.0\t105.0\t106.0\t108.0\t109.0\t110.0\t110.0\t0.0\t0.0\t0.0\t0.0\t0.0\t2.0\t20.0\t29.0\t48.0\t63.0\t63.0\t63.0\t63.0\t74.0\t74.0\t80.0\t80.0\t87.0\t87.0\t89.0\t89.0\t89.0\t92.0\t98.0\t99.0\t102.0\t102.0\t103.0\t103.0\t103.0\t105.0\t11.0\t18.0\t18.0\t37.0\t37.0\t38.0\t51.0\t55.0\t67.0\t70.0\t70.0\t70.0\t72.0\t77.0\t78.0\t83.0\t87.0\t87.0\t87.0\t87.0\t91.0\t92.0\t93.0\t96.0\t97.0\t97.0\t98.0\t103.0\t103.0\t105.0\t8.0\t8.0\t8.0\t25.0\t32.0\t46.0\t58.0\t58.0\t58.0\t58.0\t59.0\t65.0\t65.0\t74.0\t77.0\t77.0\t77.0\t77.0\t81.0\t87.0\t90.0\t90.0\t92.0\t92.0\t92.0\t93.0\t\n"
     ]
    },
    {
     "data": {
      "image/png": "[encoded data removed]",
      "text/plain": [
       "<matplotlib.figure.Figure at 0x1f9f6119f98>"
      ]
     },
     "metadata": {},
     "output_type": "display_data"
    }
   ],
   "source": [
    "from imp4nb import *\n",
    "\n",
    "cnx = lite.connect('data\\\\quandan.db')\n",
    "\n",
    "start = time.clock()\n",
    "dfleixing= pd.read_sql('select * from leixing',cnx,index_col='index')\n",
    "# print(dfleixing)\n",
    "leixing = tuple((dfleixing[dfleixing['类型'] == '终端客户'])['编码'])\n",
    "print(leixing)\n",
    "df = pd.read_sql_query(\"select 日期,strftime('%Y%m',日期) as 年月,customer.往来单位编号 as 客户编码,sum(金额) as 金额,\"\n",
    "                       \"substr(customer.往来单位编号,1,2) as 区域 ,\"  \"substr(customer.往来单位编号,12,1) as 类型 \"\n",
    "                       \"from xiaoshoumingxi, customer where (customer.往来单位 = xiaoshoumingxi.单位全名)\"\n",
    "                       \" group by 日期,客户编码 order by 日期\",cnx)\n",
    "\n",
    "df['日期'] = df['日期'].apply(lambda x: pd.to_datetime(x))\n",
    "# print(df.tail(5))\n",
    "dfs = df.iloc[-11100:] # 切片做实验\n",
    "dfs = dfs[(dfs.类型.isin(leixing).values == True) & (dfs.区域 =='08')]\n",
    "print(dfs.tail(4))\n",
    "print(dfs.dtypes)\n",
    "dfmoban = dfs.groupby('日期')['金额'].sum() # 获得按照日期汇总后的DataFrame，日期唯一，值其实随意，这里随意取了当天的最高客户销售额\n",
    "dffff = dfmoban\n",
    "dffff.index = pd.to_datetime(dffff.index)\n",
    "print(dffff.dtypes)\n",
    "print(str(type(dffff.index))+'换货单号')\n",
    "dates = pd.date_range(dfmoban.index.min(),periods=(dfmoban.index.max() - dfmoban.index.min()).days +1,freq='D')\n",
    "print(dates)\n",
    "dfmoban = dfmoban.reindex(dates,fill_value=0)\n",
    "\n",
    "for ix in dfmoban.index:\n",
    "    ixyuechudate = pd.to_datetime(\"%04d-%02d-01\" %(ix.year,ix.month))\n",
    "    dftmp = ((dfs[(dfs.日期 >= ixyuechudate) & (dfs.日期 <= ix)]).groupby('客户编码'))['金额'].sum()\n",
    "    # print(dfmoban.loc[ix],end='\\t')\n",
    "    dfmoban[ix] = dftmp.shape[0]\n",
    "    print(dfmoban[ix],end='\\t')\n",
    "print()\n",
    "\n",
    "dfmoban[dfmoban.index >= pd.to_datetime('2017-12-01')].plot()\n",
    "plt.show()\n",
    "# finish1 = time.clock()\n",
    "# print(dftarget)\n",
    "# print(dftarget.index)\n",
    "# finish2 = time.clock()\n",
    "# # dftmp = dftarget[(dftarget.index >= '2017-12-01 00:00:00') & (df.index <= '2017-12-09 00:00:00')]\n",
    "# dftmp = dftarget['2017-12-01 00:00:00':'2017-12-09 00:00:00']\n",
    "# print(dftmp)\n",
    "# print(dftmp.index)\n",
    "# cnm = lite.connect(':memory:')\n",
    "# df.to_sql('griqidanwei',cnm, if_exists='replace')\n",
    "# dfm = pd.read_sql_query(\"select sum(金额) as 销售额 from griqidanwei where 日期 >= '2017-12-01' group by 客户编码\" ,cnm)\n",
    "# cnm.close()\n",
    "# print(len(dfm))\n",
    "# print(dfm)\n",
    "\n",
    "# print(\"起始：%f，读取数据构建DataFrame：%f，描述DataFrame：%f。\" %(start,finish1-start,finish2-finish1))\n",
    "\n",
    "# dfcm = df.duplicated()\n",
    "# print(list(dfcm[dfcm == True].index))\n",
    "# df =df.drop_duplicates()\n",
    "# descdb(df)\n",
    "\n",
    "cnx.close()"
   ]
  },
  {
   "cell_type": "code",
   "execution_count": 6,
   "metadata": {},
   "outputs": [
    {
     "name": "stderr",
     "output_type": "stream",
     "text": [
      "2017-12-25 01:09:51,180\tewer        : INFO     数据表“销售明细”中有1444120条记录\n",
      "2017-12-25 01:11:28,556\tewer        : INFO     数据表“销售明细”和“客户”、“品牌”、“区域”关联后有效记录数为：1444120条\n",
      "2017-12-25 01:12:58,179\tewer        : DEBUG    处理关联客户品牌区域等信息的数据表，把‘日期’处理成了日期格式\n",
      "2017-12-25 01:22:45,570\tewer        : INFO     把关联并规整后的数据写入了“alldata”数据表\n"
     ]
    },
    {
     "name": "stdout",
     "output_type": "stream",
     "text": [
      "起始时间：6572.674710，从销售明细读取所有记录获取记录数：81.736487；关联客户、品牌和区域信息获得处理后的记录：97.349337；处理日期列：89.625873；写入内存数据库：587.361965；从存储数据库读取汇总销售数据：1.058238。\n"
     ]
    }
   ],
   "source": [
    "# 关联客户信息和产品信息\n",
    "from imp4nb import *\n",
    "\n",
    "cnx = lite.connect('data\\\\quandan.db')\n",
    "# desclitedb(cnx)\n",
    "\n",
    "# cur = cnx.cursor()\n",
    "# result = cur.execute('select * from xiaoshoumingxi')\n",
    "# colnames = [tuple1[0] for tuple1 in result.description]\n",
    "# print(colnames)\n",
    "# print(len(result.fetchall()))\n",
    "# print(result.fetchone()[0])\n",
    "\n",
    "# df = pd.read_sql_query(\n",
    "#     \"select 日期,职员名称 as 业务主管,单据编号 as 销售单号,商品备注 as 订单单号,单据类型,摘要,xiaoshoumingxi.单位全名 as 客户,customer.往来单位编号 as 编码,\"\n",
    "#     \"xiaoshoumingxi.商品全名 as 商品全名,数量,xiaoshoumingxi.单价,金额,substr(customer.往来单位编号,1,2) as 大区 ,\"\n",
    "#     \"substr(customer.往来单位编号,1,3) as 小区 ,quyu.分部 as 分部,\"\n",
    "#     \"substr(customer.往来单位编号,12,1) as 类型编码,leixing.类型 as 客户类型, product.品牌名称  as 品牌 ,product.品牌分类  as 品牌分类 from xiaoshoumingxi,\"\n",
    "#     \"customer,product,quyu,leixing where (customer.往来单位 = xiaoshoumingxi.单位全名)  and (大区 = quyu.区域) \"\n",
    "#     \"and (product.商品全名 = xiaoshoumingxi.商品全名) and (类型编码 = leixing.编码) order by 日期 desc\", cnx,parse_dates=['日期'])\n",
    "tm0 = time.clock()\n",
    "\n",
    "df = pd.read_sql_query(\"select * from xiaoshoumingxi\",cnx)\n",
    "# descdb(df)\n",
    "log.info('数据表“销售明细”中有%d条记录' %(len(df)))\n",
    "tm1 = time.clock()\n",
    "\n",
    "df = pd.read_sql_query(\n",
    "    \"select 日期,职员名称 as 业务主管,单据编号 as 销售单号,商品备注 as 订单单号,单据类型,摘要,xiaoshoumingxi.单位全名 as 客户,customer.往来单位编号 as 编码,\"\n",
    "    \"xiaoshoumingxi.商品全名 as 商品全名,数量,xiaoshoumingxi.单价,金额,substr(customer.往来单位编号,1,2) as 大区 ,\"\n",
    "    \"substr(customer.往来单位编号,1,3) as 小区 ,quyu.分部 as 分部,\"\n",
    "    \"substr(customer.往来单位编号,12,1) as 类型编码, product.品牌名称  as 品牌 ,product.品牌分类  as 品牌分类 from xiaoshoumingxi,\"\n",
    "    \"customer,product,quyu where (customer.往来单位 = xiaoshoumingxi.单位全名)  and (大区 = quyu.区域) \"\n",
    "    \"and (product.商品全名 = xiaoshoumingxi.商品全名) order by 日期 desc\", cnx)\n",
    "# descdb(df)\n",
    "log.info('数据表“销售明细”和“客户”、“品牌”、“区域”关联后有效记录数为：%d条' %(len(df)))\n",
    "tm2 = time.clock()\n",
    "\n",
    "df['日期'] = df['日期'].apply(lambda x: pd.to_datetime(x))\n",
    "log.debug('处理关联客户品牌区域等信息的数据表，把‘日期’处理成了日期格式')\n",
    "tm3 = time.clock()\n",
    "\n",
    "# cnm = lite.connect(\":memory:\")\n",
    "# df.to_sql(name='alldata', con=cnx, if_exists='replace',chunksize=50000)\n",
    "df.to_sql(name='alldata', con=cnx, if_exists='replace')\n",
    "log.info('把关联并规整后的数据写入了“alldata”数据表')\n",
    "# cnm.close()\n",
    "tm4 = time.clock()\n",
    "\n",
    "df = pd.read_sql_query('select 日期,sum(金额) as 销售额 from alldata group by 日期',cnx)\n",
    "# descdb(df)\n",
    "tm5 = time.clock()\n",
    "\n",
    "cnx.close()\n",
    "\n",
    "print(\"起始时间：%f，从销售明细读取所有记录获取记录数：%f；\"\n",
    "      \"关联客户、品牌和区域信息获得处理后的记录：%f；\"\n",
    "      \"处理日期列：%f；\"\n",
    "      \"写入内存数据库：%f；\"\n",
    "      \"从存储数据库读取汇总销售数据：%f。\" %(tm0,tm1-tm0,tm2-tm1,tm3-tm2,tm4-tm3,tm5-tm4))\n"
   ]
  },
  {
   "cell_type": "code",
   "execution_count": 3,
   "metadata": {},
   "outputs": [
    {
     "name": "stdout",
     "output_type": "stream",
     "text": [
      "1444120\n",
      "1434642\n"
     ]
    }
   ],
   "source": [
    "from imp4nb import *\n",
    "\n",
    "cnx = lite.connect('data\\\\quandan.db')\n",
    "\n",
    "df = pd.read_sql_query(\"select * from xiaoshoumingxi\",cnx)\n",
    "print(len(df))\n",
    "\n",
    "df = pd.read_sql_query(\"select * from alldata\",cnx)\n",
    "print(len(df))\n",
    "\n",
    "\n",
    "cnx.close()"
   ]
  },
  {
   "cell_type": "code",
   "execution_count": null,
   "metadata": {
    "collapsed": true
   },
   "outputs": [],
   "source": []
  }
 ],
 "metadata": {
  "kernelspec": {
   "display_name": "Python 3",
   "language": "python",
   "name": "python3"
  },
  "language_info": {
   "codemirror_mode": {
    "name": "ipython",
    "version": 3
   },
   "file_extension": ".py",
   "mimetype": "text/x-python",
   "name": "python",
   "nbconvert_exporter": "python",
   "pygments_lexer": "ipython3",
   "version": "3.6.1"
  }
 },
 "nbformat": 4,
 "nbformat_minor": 1
}
