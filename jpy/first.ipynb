{
 "cells": [
  {
   "cell_type": "code",
   "execution_count": 1,
   "metadata": {},
   "outputs": [
    {
     "name": "stdout",
     "output_type": "stream",
     "text": [
      "hih8hh\n",
      "2018-10-03 15:47:43\n"
     ]
    }
   ],
   "source": [
    "import datetime, os\n",
    "print('hih8hh')\n",
    "print(datetime.datetime.now().strftime('%F %T'))"
   ]
  },
  {
   "cell_type": "code",
   "execution_count": 12,
   "metadata": {},
   "outputs": [
    {
     "data": {
      "text/plain": [
       "<matplotlib.axes._subplots.AxesSubplot at 0x7225bb7a90>"
      ]
     },
     "execution_count": 12,
     "metadata": {},
     "output_type": "execute_result"
    },
    {
     "data": {
      "image/png": "[encoded data removed]",
      "text/plain": [
       "<Figure size 432x288 with 1 Axes>"
      ]
     },
     "metadata": {},
     "output_type": "display_data"
    }
   ],
   "source": [
    "%matplotlib inline\n",
    "import pandas as pd\n",
    "\n",
    "A = [[62, 22, 37, 49],\n",
    "     [5, 6, 7, 8]]\n",
    "\n",
    "[[r[c] for r in A] for c in range(len(A[0]))]\n",
    "\n",
    "sr = pd.Series(A[0], index=['a', 'b', 'c', 'd'])\n",
    "sr.name = 'heart5\\'home'\n",
    "sr.plot(kind='pie')\n"
   ]
  },
  {
   "cell_type": "code",
   "execution_count": null,
   "metadata": {
    "code_folding": [
     21
    ]
   },
   "outputs": [],
   "source": [
    "# %load ../etc/log2note.py\n",
    "\"\"\"\n",
    "4524187f-c131-4d7d-b6cc-a1af20474a7f notification 笔记本\n",
    "4a940ff2-74a8-4584-be46-aa6d68a4fa53 everworklog 笔记\n",
    "log目录\n",
    "\n",
    "\"\"\"\n",
    "\n",
    "import os\n",
    "from threading import Timer\n",
    "import pathmagic\n",
    "\n",
    "with pathmagic.context():\n",
    "    from func.first import getdirmain\n",
    "    from func.configpr import getcfp\n",
    "    from func.evernt import get_notestore, imglist2note\n",
    "    from func.logme import log\n",
    "    from func.wrapfuncs import timethis\n",
    "\n",
    "\n",
    "@timethis\n",
    "def log2notetimer(jiangemiao):\n",
    "    print(getdirmain())\n",
    "    pathlog = getdirmain() / 'log'\n",
    "    files = os.listdir(str(pathlog))\n",
    "    loglines = []\n",
    "    for fname in files[::-1]:\n",
    "        with open(pathlog / fname, 'r', encoding='utf-8') as flog:\n",
    "            loglines = loglines + [\n",
    "                line.strip() for line in flog if line.find('CRITICAL') >= 0\n",
    "            ]\n",
    "\n",
    "    print(f'日志共有{len(loglines)}条记录')\n",
    "    # global cfp, inifilepath\n",
    "    cfp, cfppath = getcfp('everwork')\n",
    "    everlogc = cfp.getint('evernote', 'everlogc')\n",
    "    if len(loglines) == everlogc:  # <=调整为==，用来应对log文件崩溃重建的情况\n",
    "        log.info('暂无新记录，不更新everworklog笔记。')\n",
    "    else:\n",
    "        loglinestr = '\\n'.join(loglines[::-1])\n",
    "        loglinestr = loglinestr.replace('<', '《')\n",
    "        loglinestr = loglinestr.replace('>', '》')\n",
    "        loglinestr = loglinestr.replace('&', '并符')\n",
    "        loglinestr = loglinestr.replace('=', '等于')\n",
    "        loglinestr = '<pre>' + loglinestr + '</pre>'\n",
    "        # print(loglinestr)\n",
    "        noteguid_lognote = '4a940ff2-74a8-4584-be46-aa6d68a4fa53'\n",
    "        try:\n",
    "            nstore = get_notestore()\n",
    "            imglist2note(nstore, [], noteguid_lognote, 'everwork日志严重错误信息',\n",
    "                         loglinestr)\n",
    "            cfp.set('evernote', 'everlogc', '%d' % len(loglines))\n",
    "            cfp.write(open(cfppath, 'w', encoding='utf-8'))\n",
    "            log.info('新的log错误信息成功更新入笔记，将于%d秒后再次自动检查并更新' % jiangemiao)\n",
    "        except Exception as eeee:\n",
    "            log.critical('处理新log错误信息到笔记时出现未名错误。%s' % (str(eeee)))\n",
    "\n",
    "    global timer_log2note\n",
    "    timer_log2note = Timer(jiangemiao, log2notetimer, [jiangemiao])\n",
    "    timer_log2note.start()\n",
    "\n",
    "\n",
    "if __name__ == '__main__':\n",
    "    # global log\n",
    "    # log.info(f'运行文件\\t{__file__}')\n",
    "    log2notetimer(60 * 2)\n",
    "    print('Done.')"
   ]
  },
  {
   "cell_type": "code",
   "execution_count": null,
   "metadata": {},
   "outputs": [],
   "source": [
    "' & '.join('A|B|C|D|E|F|G'.split('|'))"
   ]
  },
  {
   "cell_type": "code",
   "execution_count": null,
   "metadata": {},
   "outputs": [],
   "source": [
    "import os\n",
    "\n",
    "print(__file__)"
   ]
  },
  {
   "cell_type": "code",
   "execution_count": 1,
   "metadata": {},
   "outputs": [
    {
     "name": "stderr",
     "output_type": "stream",
     "text": [
      "2018-10-03 15:58:58,571\tMainThread - 490446899624 , MainProcess - 27483: INFO     程序上次异常退出，调用log中的API数据[2018-10-03 14:48:10,0]\n",
      "2018-10-03 15:58:58,581\tMainThread - 490446899624 , MainProcess - 27483: INFO     Evernote API调用次数：0，写入配置文件everwork.ini\n",
      "2018-10-03 15:58:58,761\tMainThread - 490446899624 , MainProcess - 27483: INFO     暂无新记录，不更新everworklog笔记。\n"
     ]
    },
    {
     "name": "stdout",
     "output_type": "stream",
     "text": [
      "                 asctime                                   levelnamemessage  \\\n",
      "2136 2018-10-03 14:48:10  DEBUG: 动用了Evernote API(<evernote.api.client.St...   \n",
      "\n",
      "      counts  \n",
      "2136       0  \n",
      "..\n",
      "日志共有1079条记录\n",
      "log2notetimer 0.17628717422485352\n",
      "Done.\n"
     ]
    }
   ],
   "source": [
    "%run ../etc/log2note.py"
   ]
  },
  {
   "cell_type": "code",
   "execution_count": null,
   "metadata": {},
   "outputs": [],
   "source": []
  }
 ],
 "metadata": {
  "encoding": "# -*- coding: utf-8 -*-",
  "jupytext_formats": "ipynb,py:light",
  "kernelspec": {
   "display_name": "Python 3",
   "language": "python",
   "name": "python3"
  },
  "language_info": {
   "codemirror_mode": {
    "name": "ipython",
    "version": 3
   },
   "file_extension": ".py",
   "mimetype": "text/x-python",
   "name": "python",
   "nbconvert_exporter": "python",
   "pygments_lexer": "ipython3",
   "version": "3.6.6"
  }
 },
 "nbformat": 4,
 "nbformat_minor": 2
}
