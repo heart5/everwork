{
 "cells": [
  {
   "cell_type": "code",
   "execution_count": 5,
   "metadata": {
    "scrolled": true
   },
   "outputs": [
    {
     "name": "stdout",
     "output_type": "stream",
     "text": [
      "hih8hh\n",
      "2018-10-03 16:40:48\n"
     ]
    },
    {
     "name": "stderr",
     "output_type": "stream",
     "text": [
      "2018-10-03 16:45:34,464\tThread-6 - 6884 , MainProcess - 144: INFO     暂无新记录，不更新everworklog笔记。\n"
     ]
    },
    {
     "name": "stdout",
     "output_type": "stream",
     "text": [
      "..\n",
      "日志共有3373条记录\n",
      "log2notetimer 0.12267279624938965\n"
     ]
    },
    {
     "name": "stderr",
     "output_type": "stream",
     "text": [
      "2018-10-03 16:50:34,607\tThread-7 - 12556 , MainProcess - 144: INFO     暂无新记录，不更新everworklog笔记。\n"
     ]
    },
    {
     "name": "stdout",
     "output_type": "stream",
     "text": [
      "..\n",
      "日志共有3373条记录\n",
      "log2notetimer 0.14159321784973145\n"
     ]
    }
   ],
   "source": [
    "import datetime, os\n",
    "print('hih8hh')\n",
    "print(datetime.datetime.now().strftime('%F %T'))"
   ]
  },
  {
   "cell_type": "code",
   "execution_count": 2,
   "metadata": {},
   "outputs": [
    {
     "data": {
      "text/plain": [
       "<matplotlib.axes._subplots.AxesSubplot at 0x276da903a90>"
      ]
     },
     "execution_count": 2,
     "metadata": {},
     "output_type": "execute_result"
    },
    {
     "data": {
      "image/png": "[encoded data removed]",
      "text/plain": [
       "<matplotlib.figure.Figure at 0x276d9924518>"
      ]
     },
     "metadata": {},
     "output_type": "display_data"
    }
   ],
   "source": [
    "%matplotlib inline\n",
    "import matplotlib as mpl\n",
    "import pandas as pd\n",
    "\n",
    "# plot中显示中文\n",
    "mpl.rcParams['font.sans-serif'] = ['SimHei']\n",
    "mpl.rcParams['axes.unicode_minus'] = False\n",
    "\n",
    "\n",
    "A = [[15, 22, 3, 44],\n",
    "     [5, 6, 7, 8]]\n",
    "\n",
    "[[r[c] for r in A] for c in range(len(A[0]))]\n",
    "\n",
    "sr = pd.Series(A[0], index=['a', 'b', 'c', 'd'])\n",
    "sr.name='heart5\\'home人员'\n",
    "sr.plot(kind='pie')\n"
   ]
  },
  {
   "cell_type": "code",
   "execution_count": null,
   "metadata": {
    "code_folding": [
     21
    ],
    "collapsed": true
   },
   "outputs": [],
   "source": [
    "# %load ../etc/log2note.py\n",
    "\"\"\"\n",
    "4524187f-c131-4d7d-b6cc-a1af20474a7f notification 笔记本\n",
    "4a940ff2-74a8-4584-be46-aa6d68a4fa53 everworklog 笔记\n",
    "log目录\n",
    "\n",
    "\"\"\"\n",
    "\n",
    "import os\n",
    "from threading import Timer\n",
    "import pathmagic\n",
    "\n",
    "with pathmagic.context():\n",
    "    from func.first import getdirmain\n",
    "    from func.configpr import getcfp\n",
    "    from func.evernt import get_notestore, imglist2note\n",
    "    from func.logme import log\n",
    "    from func.wrapfuncs import timethis\n",
    "\n",
    "\n",
    "@timethis\n",
    "def log2notetimer(jiangemiao):\n",
    "    print(getdirmain())\n",
    "    pathlog = getdirmain() / 'log'\n",
    "    files = os.listdir(str(pathlog))\n",
    "    loglines = []\n",
    "    for fname in files[::-1]:\n",
    "        with open(pathlog / fname, 'r', encoding='utf-8') as flog:\n",
    "            loglines = loglines + [\n",
    "                line.strip() for line in flog if line.find('CRITICAL') >= 0\n",
    "            ]\n",
    "\n",
    "    print(f'日志共有{len(loglines)}条记录')\n",
    "    # global cfp, inifilepath\n",
    "    cfp, cfppath = getcfp('everwork')\n",
    "    everlogc = cfp.getint('evernote', 'everlogc')\n",
    "    if len(loglines) == everlogc:  # <=调整为==，用来应对log文件崩溃重建的情况\n",
    "        log.info('暂无新记录，不更新everworklog笔记。')\n",
    "    else:\n",
    "        loglinestr = '\\n'.join(loglines[::-1])\n",
    "        loglinestr = loglinestr.replace('<', '《')\n",
    "        loglinestr = loglinestr.replace('>', '》')\n",
    "        loglinestr = loglinestr.replace('&', '并符')\n",
    "        loglinestr = loglinestr.replace('=', '等于')\n",
    "        loglinestr = '<pre>' + loglinestr + '</pre>'\n",
    "        # print(loglinestr)\n",
    "        noteguid_lognote = '4a940ff2-74a8-4584-be46-aa6d68a4fa53'\n",
    "        try:\n",
    "            nstore = get_notestore()\n",
    "            imglist2note(nstore, [], noteguid_lognote, 'everwork日志严重错误信息',\n",
    "                         loglinestr)\n",
    "            cfp.set('evernote', 'everlogc', '%d' % len(loglines))\n",
    "            cfp.write(open(cfppath, 'w', encoding='utf-8'))\n",
    "            log.info('新的log错误信息成功更新入笔记，将于%d秒后再次自动检查并更新' % jiangemiao)\n",
    "        except Exception as eeee:\n",
    "            log.critical('处理新log错误信息到笔记时出现未名错误。%s' % (str(eeee)))\n",
    "\n",
    "    global timer_log2note\n",
    "    timer_log2note = Timer(jiangemiao, log2notetimer, [jiangemiao])\n",
    "    timer_log2note.start()\n",
    "\n",
    "\n",
    "if __name__ == '__main__':\n",
    "    # global log\n",
    "    # log.info(f'运行文件\\t{__file__}')\n",
    "    log2notetimer(60 * 2)\n",
    "    print('Done.')"
   ]
  },
  {
   "cell_type": "code",
   "execution_count": null,
   "metadata": {
    "collapsed": true
   },
   "outputs": [],
   "source": [
    "' & '.join('A|B|C|D|E|F|G'.split('|'))"
   ]
  },
  {
   "cell_type": "code",
   "execution_count": null,
   "metadata": {
    "collapsed": true
   },
   "outputs": [],
   "source": [
    "import os\n",
    "\n",
    "print(__file__)"
   ]
  },
  {
   "cell_type": "code",
   "execution_count": 4,
   "metadata": {},
   "outputs": [
    {
     "name": "stderr",
     "output_type": "stream",
     "text": [
      "2018-10-03 16:40:34,342\tMainThread - 8264 , MainProcess - 144: INFO     暂无新记录，不更新everworklog笔记。\n"
     ]
    },
    {
     "name": "stdout",
     "output_type": "stream",
     "text": [
      "                 asctime                                   levelnamemessage  \\\n",
      "9199 2018-10-03 16:36:59  DEBUG: 动用了Evernote API(<evernote.api.client.St...   \n",
      "\n",
      "      counts  \n",
      "9199       0  \n",
      "..\n",
      "日志共有3373条记录\n",
      "log2notetimer 0.11668753623962402\n",
      "Done.\n"
     ]
    },
    {
     "data": {
      "text/plain": [
       "<matplotlib.figure.Figure at 0x276db931d30>"
      ]
     },
     "metadata": {},
     "output_type": "display_data"
    }
   ],
   "source": [
    "%run ../etc/log2note.py"
   ]
  },
  {
   "cell_type": "code",
   "execution_count": null,
   "metadata": {
    "collapsed": true
   },
   "outputs": [],
   "source": []
  }
 ],
 "metadata": {
  "encoding": "# -*- coding: utf-8 -*-",
  "jupytext_formats": "ipynb,py:light",
  "kernelspec": {
   "display_name": "Python 3",
   "language": "python",
   "name": "python3"
  },
  "language_info": {
   "codemirror_mode": {
    "name": "ipython",
    "version": 3
   },
   "file_extension": ".py",
   "mimetype": "text/x-python",
   "name": "python",
   "nbconvert_exporter": "python",
   "pygments_lexer": "ipython3",
   "version": "3.6.1"
  }
 },
 "nbformat": 4,
 "nbformat_minor": 2
}
