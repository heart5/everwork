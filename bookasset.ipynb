{
 "cells": [
  {
   "cell_type": "code",
   "execution_count": 1,
   "metadata": {
    "collapsed": true
   },
   "outputs": [
    {
     "name": "stdout",
     "output_type": "stream",
     "text": [
      "('table', 'VersionInfo', 'VersionInfo', 2, 'CREATE TABLE VersionInfo(version INTEGER PRIMARY KEY CHECK(rowid <= 1))')\n\n('table', 'DownloadState', 'DownloadState', 3, 'CREATE TABLE DownloadState(id INTEGER PRIMARY KEY AUTOINCREMENT,                                                                       state TEXT NOT NULL UNIQUE)')\n\n('index', 'sqlite_autoindex_DownloadState_1', 'DownloadState', 4, None)\n\n('table', 'sqlite_sequence', 'sqlite_sequence', 5, 'CREATE TABLE sqlite_sequence(name,seq)')\n\n('table', 'Book', 'Book', 6, 'CREATE TABLE Book(id INTEGER PRIMARY KEY AUTOINCREMENT,                                                              asin TEXT NOT NULL,                                                              type TEXT NOT NULL,                                                              revision TEXT,                                                              sampling TEXT NOT NULL,                                                              UNIQUE (asin, type, sampling))')\n\n('index', 'sqlite_autoindex_Book_1', 'Book', 7, None)\n\n('table', 'BookDownloadInfo', 'BookDownloadInfo', 9, 'CREATE TABLE BookDownloadInfo(id INTEGER PRIMARY KEY AUTOINCREMENT,                                                                          bookId INTEGER UNIQUE,                                                                          responseContext TEXT,                                                                          FOREIGN KEY(bookId) REFERENCES Book(id))')\n\n('index', 'sqlite_autoindex_BookDownloadInfo_1', 'BookDownloadInfo', 10, None)\n\n('table', 'RequirementLevel', 'RequirementLevel', 12, 'CREATE TABLE RequirementLevel(id INTEGER PRIMARY KEY AUTOINCREMENT,                                                                          level TEXT NOT NULL UNIQUE)')\n\n('index', 'sqlite_autoindex_RequirementLevel_1', 'RequirementLevel', 13, None)\n\n('table', 'Asset', 'Asset', 14, 'CREATE TABLE Asset(id INTEGER PRIMARY KEY AUTOINCREMENT,                                                               bookId INTEGER,                                                               guid TEXT NOT NULL,                                                               requirementLevel INTEGER,                                                               size INTEGER,                                                               contentType TEXT NOT NULL,                                                               localFilename TEXT,                                                               downloadState INTEGER DEFAULT 1,                                                               UNIQUE (bookId, guid),                                                               FOREIGN KEY(bookId) REFERENCES Book(id),                                                               FOREIGN KEY(requirementLevel) REFERENCES RequirementLevel(id),                                                               FOREIGN KEY(downloadState) REFERENCES DownloadState(id))')\n\n('index', 'sqlite_autoindex_Asset_1', 'Asset', 15, None)\n\n('table', 'EndpointType', 'EndpointType', 17, 'CREATE TABLE EndpointType(id INTEGER PRIMARY KEY AUTOINCREMENT,                                                                      type TEXT NOT NULL UNIQUE)')\n\n('index', 'sqlite_autoindex_EndpointType_1', 'EndpointType', 18, None)\n\n('table', 'DeliveryType', 'DeliveryType', 20, 'CREATE TABLE DeliveryType(id INTEGER PRIMARY KEY AUTOINCREMENT,                                                                      type TEXT NOT NULL UNIQUE)')\n\n('index', 'sqlite_autoindex_DeliveryType_1', 'DeliveryType', 21, None)\n\n('table', 'AssetDownloadInfo', 'AssetDownloadInfo', 22, 'CREATE TABLE AssetDownloadInfo(id INTEGER PRIMARY KEY AUTOINCREMENT,                                                                           assetId INTEGER UNIQUE,                                                                           endpoint TEXT NOT NULL,                                                                           endpointType INTEGER NOT NULL,                                                                           responseContext TEXT,                                                                           deliveryType INTEGER,                                                                           FOREIGN KEY(assetId) REFERENCES Asset(id),                                                                           FOREIGN KEY(endpointType) REFERENCES EndpointType(id),                                                                           FOREIGN KEY(deliveryType) REFERENCES DeliveryType(id))')\n\n('index', 'sqlite_autoindex_AssetDownloadInfo_1', 'AssetDownloadInfo', 23, None)\n\n['Asset', 'AssetDownloadInfo', 'Book', 'BookDownloadInfo', 'DeliveryType', 'DownloadState', 'EndpointType', 'RequirementLevel', 'VersionInfo', 'sqlite_sequence']\nAsset\t32\t['id', 'bookId', 'guid', 'requirementLevel', 'size', 'contentType', 'localFilename', 'downloadState']\nAssetDownloadInfo\t32\t['id', 'assetId', 'endpoint', 'endpointType', 'responseContext', 'deliveryType']\nBook\t19\t['id', 'asin', 'type', 'revision', 'sampling']\nBookDownloadInfo\t19\t['id', 'bookId', 'responseContext']\nDeliveryType\t2\t['id', 'type']\nDownloadState\t4\t['id', 'state']\nEndpointType\t3\t['id', 'type']\nRequirementLevel\t4\t['id', 'level']\nVersionInfo\t1\t['version']\nsqlite_sequence\t8\t['name', 'seq']\n19\n    id        asin          type revision sampling\n14  17  B073QG46V6  kindle.ebook     None         \n15  18  B01M68PABD  kindle.ebook     None         \n16  19  B00P0UV1CQ  kindle.ebook     None         \n17  20  B00KKIZLEM  kindle.ebook     None         \n18  21  B0716PPPJC  kindle.ebook     None         \nid           int64\nasin        object\ntype        object\nrevision    object\nsampling    object\ndtype: object\nIndex(['id', 'asin', 'type', 'revision', 'sampling'], dtype='object')\n<class 'pandas.core.frame.DataFrame'>\nRangeIndex: 19 entries, 0 to 18\nData columns (total 5 columns):\nid          19 non-null int64\nasin        19 non-null object\ntype        19 non-null object\nrevision    0 non-null object\nsampling    19 non-null object\ndtypes: int64(1), object(4)\nmemory usage: 840.0+ bytes\nNone\n(19, 5)\n              id\ncount  19.000000\nmean   11.157895\nstd     6.465835\nmin     1.000000\n25%     5.500000\n50%    11.000000\n75%    16.500000\nmax    21.000000\n"
     ]
    }
   ],
   "source": [
    "from imp4nb import *\n",
    "\n",
    "cnx = lite.connect('data\\\\book_asset.db')\n",
    "\n",
    "desclitedb(cnx)\n",
    "\n",
    "df = pd.read_sql_query('select * from Asset',cnx)\n",
    "# descdb(df)\n",
    "\n",
    "dfbook = pd.read_sql_query('select * from Book',cnx)\n",
    "descdb(dfbook)\n",
    "\n",
    "cnx.close()"
   ]
  },
  {
   "cell_type": "code",
   "execution_count": 1,
   "metadata": {},
   "outputs": [],
   "source": []
  },
  {
   "cell_type": "code",
   "execution_count": null,
   "metadata": {},
   "outputs": [],
   "source": []
  }
 ],
 "metadata": {
  "kernelspec": {
   "display_name": "Python 2",
   "language": "python",
   "name": "python2"
  },
  "language_info": {
   "codemirror_mode": {
    "name": "ipython",
    "version": 2
   },
   "file_extension": ".py",
   "mimetype": "text/x-python",
   "name": "python",
   "nbconvert_exporter": "python",
   "pygments_lexer": "ipython2",
   "version": "2.7.6"
  }
 },
 "nbformat": 4,
 "nbformat_minor": 0
}
